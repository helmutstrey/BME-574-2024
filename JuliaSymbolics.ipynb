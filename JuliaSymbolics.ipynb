{
 "cells": [
  {
   "cell_type": "code",
   "execution_count": 1,
   "id": "52edb106-4aeb-4e6b-b39d-d1404d99934e",
   "metadata": {},
   "outputs": [
    {
     "name": "stderr",
     "output_type": "stream",
     "text": [
      "\u001b[32m\u001b[1m  Activating\u001b[22m\u001b[39m project at `~/Documents/programming/BME-574-2024`\n"
     ]
    }
   ],
   "source": [
    "import Pkg\n",
    "Pkg.activate(\".\")"
   ]
  },
  {
   "cell_type": "code",
   "execution_count": 2,
   "id": "2bb5ea31-ec2d-4ac4-a29c-01c3a5dd1ca4",
   "metadata": {},
   "outputs": [
    {
     "name": "stderr",
     "output_type": "stream",
     "text": [
      "\u001b[32m\u001b[1m    Updating\u001b[22m\u001b[39m registry at `~/.julia/registries/JuliaComputingRegistry.toml`\n",
      "\u001b[32m\u001b[1m    Updating\u001b[22m\u001b[39m registry at `~/.julia/registries/JuliaHubRegistry.toml`\n",
      "\u001b[32m\u001b[1m   Resolving\u001b[22m\u001b[39m package versions...\n",
      "\u001b[32m\u001b[1m  No Changes\u001b[22m\u001b[39m to `~/Documents/programming/BME-574-2024/Project.toml`\n",
      "\u001b[32m\u001b[1m  No Changes\u001b[22m\u001b[39m to `~/Documents/programming/BME-574-2024/Manifest.toml`\n"
     ]
    }
   ],
   "source": [
    "Pkg.add([\"Symbolics\",\"Latexify\",\"LaTeXStrings\"])"
   ]
  },
  {
   "cell_type": "code",
   "execution_count": 3,
   "id": "252a606a-8391-4eb4-b877-95ce75ef48b2",
   "metadata": {},
   "outputs": [],
   "source": [
    "using Symbolics\n",
    "using LinearAlgebra\n",
    "using Latexify, LaTeXStrings"
   ]
  },
  {
   "cell_type": "code",
   "execution_count": 4,
   "id": "76f48a64-6d4a-4b84-b9b8-4008414c33fe",
   "metadata": {},
   "outputs": [
    {
     "data": {
      "text/latex": [
       "$$ \\begin{equation}\n",
       "\\left[\n",
       "\\begin{array}{c}\n",
       "p \\\\\n",
       "q \\\\\n",
       "r \\\\\n",
       "s \\\\\n",
       "\\end{array}\n",
       "\\right]\n",
       "\\end{equation}\n",
       " $$"
      ],
      "text/plain": [
       "4-element Vector{Num}:\n",
       " p\n",
       " q\n",
       " r\n",
       " s"
      ]
     },
     "execution_count": 4,
     "metadata": {},
     "output_type": "execute_result"
    }
   ],
   "source": [
    "@variables p q r s"
   ]
  },
  {
   "cell_type": "code",
   "execution_count": 5,
   "id": "47d1091b-23f5-4ec1-8253-9bd0d1207862",
   "metadata": {},
   "outputs": [
    {
     "data": {
      "text/latex": [
       "$$ \\begin{equation}\n",
       "\\left[\n",
       "\\begin{array}{cc}\n",
       "p & q \\\\\n",
       "r & s \\\\\n",
       "\\end{array}\n",
       "\\right]\n",
       "\\end{equation}\n",
       " $$"
      ],
      "text/plain": [
       "2×2 Matrix{Num}:\n",
       " p  q\n",
       " r  s"
      ]
     },
     "execution_count": 5,
     "metadata": {},
     "output_type": "execute_result"
    }
   ],
   "source": [
    "m = [ p q ; r s]"
   ]
  },
  {
   "cell_type": "code",
   "execution_count": 6,
   "id": "b2a5be68-4fe7-453b-9beb-2833dd14aa30",
   "metadata": {},
   "outputs": [
    {
     "data": {
      "text/latex": [
       "$$ \\begin{equation}\n",
       "\\left[\n",
       "\\begin{array}{c}\n",
       "p \\\\\n",
       "r \\\\\n",
       "q \\\\\n",
       "s \\\\\n",
       "\\end{array}\n",
       "\\right]\n",
       "\\end{equation}\n",
       " $$"
      ],
      "text/plain": [
       "4-element Vector{Num}:\n",
       " p\n",
       " r\n",
       " q\n",
       " s"
      ]
     },
     "execution_count": 6,
     "metadata": {},
     "output_type": "execute_result"
    }
   ],
   "source": [
    "vec(m)"
   ]
  },
  {
   "cell_type": "code",
   "execution_count": 8,
   "id": "496db0b9-f2f2-4676-806b-6d5376d3a2a6",
   "metadata": {},
   "outputs": [
    {
     "data": {
      "text/plain": [
       "LU{Num, Matrix{Num}, Vector{Int64}}\n",
       "L factor:\n",
       "2×2 Matrix{Num}:\n",
       "     1  0\n",
       " r / p  1\n",
       "U factor:\n",
       "2×2 Matrix{Num}:\n",
       " p               q\n",
       " 0  s + (-q*r) / p"
      ]
     },
     "execution_count": 8,
     "metadata": {},
     "output_type": "execute_result"
    }
   ],
   "source": [
    "Symbolics.sym_lu(m)"
   ]
  },
  {
   "cell_type": "code",
   "execution_count": 9,
   "id": "c9bea157-5df0-4a2e-a91f-375c8e575e68",
   "metadata": {},
   "outputs": [
    {
     "data": {
      "text/plain": [
       "2×2 Matrix{Int64}:\n",
       " 1  3\n",
       " 4  5"
      ]
     },
     "execution_count": 9,
     "metadata": {},
     "output_type": "execute_result"
    }
   ],
   "source": [
    "mr = [ 1 3; 4 5]"
   ]
  },
  {
   "cell_type": "code",
   "execution_count": 10,
   "id": "6c129fad-84d6-48dd-b8fe-7c2929bda249",
   "metadata": {},
   "outputs": [
    {
     "data": {
      "text/plain": [
       "Eigen{Float64, Float64, Matrix{Float64}, Vector{Float64}}\n",
       "values:\n",
       "2-element Vector{Float64}:\n",
       " -1.0\n",
       "  7.0\n",
       "vectors:\n",
       "2×2 Matrix{Float64}:\n",
       " -0.83205  -0.447214\n",
       "  0.5547   -0.894427"
      ]
     },
     "execution_count": 10,
     "metadata": {},
     "output_type": "execute_result"
    }
   ],
   "source": [
    "eigen(mr)"
   ]
  },
  {
   "cell_type": "code",
   "execution_count": 13,
   "id": "61034569-c352-4534-816a-164731f9f887",
   "metadata": {},
   "outputs": [
    {
     "data": {
      "text/latex": [
       "$$ \\begin{equation}\n",
       "p s - q r\n",
       "\\end{equation}\n",
       " $$"
      ],
      "text/plain": [
       "p*s - q*r"
      ]
     },
     "execution_count": 13,
     "metadata": {},
     "output_type": "execute_result"
    }
   ],
   "source": [
    "det(m)"
   ]
  },
  {
   "cell_type": "code",
   "execution_count": 14,
   "id": "a79e8248-99e1-4ac7-a66b-78679d4c9f98",
   "metadata": {},
   "outputs": [
    {
     "data": {
      "text/plain": [
       "-7.0"
      ]
     },
     "execution_count": 14,
     "metadata": {},
     "output_type": "execute_result"
    }
   ],
   "source": [
    "det(mr)"
   ]
  },
  {
   "cell_type": "code",
   "execution_count": null,
   "id": "d8259e34-ed67-42bf-8770-58394c3669b0",
   "metadata": {},
   "outputs": [],
   "source": []
  }
 ],
 "metadata": {
  "kernelspec": {
   "display_name": "Julia 1.10.4",
   "language": "julia",
   "name": "julia-1.10"
  },
  "language_info": {
   "file_extension": ".jl",
   "mimetype": "application/julia",
   "name": "julia",
   "version": "1.10.4"
  }
 },
 "nbformat": 4,
 "nbformat_minor": 5
}
