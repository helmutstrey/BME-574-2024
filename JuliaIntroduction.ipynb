{
 "cells": [
  {
   "cell_type": "code",
   "execution_count": 3,
   "id": "d5b4b333-7947-406b-b2c1-5e55e51644ba",
   "metadata": {},
   "outputs": [
    {
     "name": "stderr",
     "output_type": "stream",
     "text": [
      "\u001b[32m\u001b[1m    Updating\u001b[22m\u001b[39m registry at `~/.julia/registries/JuliaComputingRegistry.toml`\n",
      "\u001b[32m\u001b[1m    Updating\u001b[22m\u001b[39m registry at `~/.julia/registries/JuliaHubRegistry.toml`\n",
      "\u001b[32m\u001b[1m   Resolving\u001b[22m\u001b[39m package versions...\n",
      "\u001b[32m\u001b[1m    Updating\u001b[22m\u001b[39m `~/Documents/programming/BME-574-2024/Project.toml`\n",
      "  \u001b[90m[37e2e46d] \u001b[39m\u001b[92m+ LinearAlgebra\u001b[39m\n",
      "  \u001b[90m[9a3f8284] \u001b[39m\u001b[92m+ Random\u001b[39m\n",
      "\u001b[32m\u001b[1m  No Changes\u001b[22m\u001b[39m to `~/Documents/programming/BME-574-2024/Manifest.toml`\n",
      "\u001b[32m\u001b[1mPrecompiling\u001b[22m\u001b[39m project...\n",
      "\u001b[32m  ✓ \u001b[39m\u001b[90mStaticArrayInterface\u001b[39m\n",
      "\u001b[32m  ✓ \u001b[39m\u001b[90mStaticArrayInterface → StaticArrayInterfaceStaticArraysExt\u001b[39m\n",
      "\u001b[32m  ✓ \u001b[39m\u001b[90mStaticArrayInterface → StaticArrayInterfaceOffsetArraysExt\u001b[39m\n",
      "\u001b[32m  ✓ \u001b[39m\u001b[90mCloseOpenIntervals\u001b[39m\n",
      "\u001b[32m  ✓ \u001b[39m\u001b[90mLayoutPointers\u001b[39m\n",
      "\u001b[32m  ✓ \u001b[39m\u001b[90mTiledIteration\u001b[39m\n",
      "\u001b[32m  ✓ \u001b[39m\u001b[90mVectorizationBase\u001b[39m\n",
      "\u001b[32m  ✓ \u001b[39m\u001b[90mSLEEFPirates\u001b[39m\n",
      "\u001b[32m  ✓ \u001b[39m\u001b[90mLoopVectorization\u001b[39m\n",
      "\u001b[32m  ✓ \u001b[39m\u001b[90mLoopVectorization → SpecialFunctionsExt\u001b[39m\n",
      "\u001b[32m  ✓ \u001b[39m\u001b[90mLoopVectorization → ForwardDiffExt\u001b[39m\n",
      "\u001b[32m  ✓ \u001b[39m\u001b[90mImageMorphology\u001b[39m\n",
      "\u001b[32m  ✓ \u001b[39m\u001b[90mImageDistances\u001b[39m\n",
      "\u001b[32m  ✓ \u001b[39mPlots\n",
      "\u001b[32m  ✓ \u001b[39m\u001b[90mPlots → FileIOExt\u001b[39m\n",
      "\u001b[32m  ✓ \u001b[39m\u001b[90mImageFiltering\u001b[39m\n",
      "\u001b[32m  ✓ \u001b[39m\u001b[90mPlots → UnitfulExt\u001b[39m\n",
      "\u001b[32m  ✓ \u001b[39m\u001b[90mImageSegmentation\u001b[39m\n",
      "\u001b[32m  ✓ \u001b[39m\u001b[90mImageCorners\u001b[39m\n",
      "\u001b[32m  ✓ \u001b[39m\u001b[90mImageQualityIndexes\u001b[39m\n",
      "\u001b[32m  ✓ \u001b[39mImages\n",
      "  21 dependencies successfully precompiled in 32 seconds. 350 already precompiled.\n"
     ]
    }
   ],
   "source": [
    "import Pkg\n",
    "Pkg.add([\"Random\",\"LinearAlgebra\"])"
   ]
  },
  {
   "cell_type": "code",
   "execution_count": 5,
   "id": "24745cfc-f295-4f36-9de6-2641f0613fa8",
   "metadata": {},
   "outputs": [],
   "source": [
    "using Random, LinearAlgebra"
   ]
  },
  {
   "cell_type": "code",
   "execution_count": 8,
   "id": "3a1e0faf-e293-479c-be9e-7b43a6405ebd",
   "metadata": {},
   "outputs": [
    {
     "data": {
      "text/plain": [
       "3×4 Matrix{Float64}:\n",
       " 0.31288    0.0437718  0.421157  0.712074\n",
       " 0.841569   0.714041   0.11609   0.674368\n",
       " 0.0887607  0.577726   0.191507  0.746344"
      ]
     },
     "execution_count": 8,
     "metadata": {},
     "output_type": "execute_result"
    }
   ],
   "source": [
    "a = rand(3,4)"
   ]
  },
  {
   "cell_type": "code",
   "execution_count": 9,
   "id": "26e32828-6f05-4b46-86a6-3f17fa5098d4",
   "metadata": {},
   "outputs": [
    {
     "data": {
      "text/plain": [
       "12-element Vector{Float64}:\n",
       " 0.3128804751045914\n",
       " 0.8415693013917479\n",
       " 0.08876069488692795\n",
       " 0.04377183464078349\n",
       " 0.7140411312727882\n",
       " 0.5777260716789111\n",
       " 0.42115731862569283\n",
       " 0.11608959245213335\n",
       " 0.19150718791367438\n",
       " 0.7120744541616485\n",
       " 0.6743681880230896\n",
       " 0.7463435355607879"
      ]
     },
     "execution_count": 9,
     "metadata": {},
     "output_type": "execute_result"
    }
   ],
   "source": [
    "vec(a)"
   ]
  },
  {
   "cell_type": "code",
   "execution_count": 10,
   "id": "8549eef1-5f96-46b1-81c7-7e7be37a5464",
   "metadata": {},
   "outputs": [
    {
     "data": {
      "text/plain": [
       "12-element reshape(adjoint(::Matrix{Float64}), 12) with eltype Float64:\n",
       " 0.3128804751045914\n",
       " 0.04377183464078349\n",
       " 0.42115731862569283\n",
       " 0.7120744541616485\n",
       " 0.8415693013917479\n",
       " 0.7140411312727882\n",
       " 0.11608959245213335\n",
       " 0.6743681880230896\n",
       " 0.08876069488692795\n",
       " 0.5777260716789111\n",
       " 0.19150718791367438\n",
       " 0.7463435355607879"
      ]
     },
     "execution_count": 10,
     "metadata": {},
     "output_type": "execute_result"
    }
   ],
   "source": [
    "vec(a')"
   ]
  },
  {
   "cell_type": "code",
   "execution_count": 11,
   "id": "5ad15161-466d-4ba3-85af-232b1ec49c8f",
   "metadata": {},
   "outputs": [
    {
     "data": {
      "text/plain": [
       "3×4 Matrix{Float64}:\n",
       " 0.31288    0.0437718  0.421157  0.712074\n",
       " 0.841569   0.714041   0.11609   0.674368\n",
       " 0.0887607  0.577726   0.191507  0.746344"
      ]
     },
     "execution_count": 11,
     "metadata": {},
     "output_type": "execute_result"
    }
   ],
   "source": [
    "a"
   ]
  },
  {
   "cell_type": "code",
   "execution_count": 12,
   "id": "987edccd-6f51-4b14-b66f-97580d21e03e",
   "metadata": {},
   "outputs": [
    {
     "data": {
      "text/plain": [
       "4×3 adjoint(::Matrix{Float64}) with eltype Float64:\n",
       " 0.31288    0.841569  0.0887607\n",
       " 0.0437718  0.714041  0.577726\n",
       " 0.421157   0.11609   0.191507\n",
       " 0.712074   0.674368  0.746344"
      ]
     },
     "execution_count": 12,
     "metadata": {},
     "output_type": "execute_result"
    }
   ],
   "source": [
    "a'"
   ]
  },
  {
   "cell_type": "code",
   "execution_count": 13,
   "id": "f85818d6-cdc7-4f32-8f76-20bafbfc7cc8",
   "metadata": {},
   "outputs": [
    {
     "data": {
      "text/plain": [
       "3×3 Matrix{Float64}:\n",
       " 0.784234  0.823658  0.665166\n",
       " 0.823658  1.68634   1.01276\n",
       " 0.665166  1.01276   0.93535"
      ]
     },
     "execution_count": 13,
     "metadata": {},
     "output_type": "execute_result"
    }
   ],
   "source": [
    "a * a'"
   ]
  },
  {
   "cell_type": "code",
   "execution_count": 14,
   "id": "82ad0a50-97ac-4590-918e-46d581caf6fc",
   "metadata": {},
   "outputs": [
    {
     "data": {
      "text/plain": [
       "4×4 Matrix{Float64}:\n",
       " 0.814012  0.66589   0.246468  0.856568\n",
       " 0.66589   0.845538  0.211966  0.943878\n",
       " 0.246468  0.211966  0.227525  0.521113\n",
       " 0.856568  0.943878  0.521113  1.51885"
      ]
     },
     "execution_count": 14,
     "metadata": {},
     "output_type": "execute_result"
    }
   ],
   "source": [
    "a' * a"
   ]
  },
  {
   "cell_type": "code",
   "execution_count": null,
   "id": "ef2610c6-f53c-4e7c-868b-bbf1dfb4627d",
   "metadata": {},
   "outputs": [],
   "source": []
  }
 ],
 "metadata": {
  "kernelspec": {
   "display_name": "Julia 1.10.4",
   "language": "julia",
   "name": "julia-1.10"
  },
  "language_info": {
   "file_extension": ".jl",
   "mimetype": "application/julia",
   "name": "julia",
   "version": "1.10.4"
  }
 },
 "nbformat": 4,
 "nbformat_minor": 5
}
