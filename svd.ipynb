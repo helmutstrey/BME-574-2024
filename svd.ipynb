{
 "cells": [
  {
   "cell_type": "code",
   "execution_count": 3,
   "id": "fb5dfaf6-b5e3-49f0-bece-74c623d60b53",
   "metadata": {},
   "outputs": [
    {
     "name": "stderr",
     "output_type": "stream",
     "text": [
      "\u001b[32m\u001b[1m  Activating\u001b[22m\u001b[39m project at `~/Documents/programming/BME-574-2024`\n"
     ]
    }
   ],
   "source": [
    "import Pkg\n",
    "Pkg.activate(\".\")"
   ]
  },
  {
   "cell_type": "code",
   "execution_count": 4,
   "id": "9681b802-0958-4380-af94-8404b8c003e7",
   "metadata": {},
   "outputs": [],
   "source": [
    "using LinearAlgebra, Random"
   ]
  },
  {
   "cell_type": "code",
   "execution_count": 5,
   "id": "018d2c7a-12c7-42ac-8601-b197ce7adb97",
   "metadata": {},
   "outputs": [
    {
     "data": {
      "text/plain": [
       "5×3 Matrix{Float64}:\n",
       " 0.151939  0.927184   0.83123\n",
       " 0.77888   0.380565   0.719319\n",
       " 0.933376  0.69785    0.16904\n",
       " 0.369724  0.0341367  0.0672845\n",
       " 0.709602  0.738254   0.0486884"
      ]
     },
     "execution_count": 5,
     "metadata": {},
     "output_type": "execute_result"
    }
   ],
   "source": [
    "x = rand(5,3)"
   ]
  },
  {
   "cell_type": "code",
   "execution_count": 6,
   "id": "80102925-3e28-4e1c-906b-ef8d352c6027",
   "metadata": {},
   "outputs": [
    {
     "data": {
      "text/plain": [
       "SVD{Float64, Float64, Matrix{Float64}, Vector{Float64}}\n",
       "U factor:\n",
       "5×3 Matrix{Float64}:\n",
       " -0.499829  -0.79124    -0.263471\n",
       " -0.497374  -0.0545055   0.778452\n",
       " -0.5302     0.440849   -0.144423\n",
       " -0.135414   0.235473    0.273003\n",
       " -0.450933   0.348099   -0.478756\n",
       "singular values:\n",
       "3-element Vector{Float64}:\n",
       " 2.1008714416372407\n",
       " 0.8487533953889289\n",
       " 0.5372426089238627\n",
       "Vt factor:\n",
       "3×3 Matrix{Float64}:\n",
       " -0.632244  -0.647466  -0.425507\n",
       "  0.686744  -0.214076  -0.694661\n",
       "  0.358678  -0.731409   0.579992"
      ]
     },
     "execution_count": 6,
     "metadata": {},
     "output_type": "execute_result"
    }
   ],
   "source": [
    "u,s,v = svd(x)"
   ]
  },
  {
   "cell_type": "code",
   "execution_count": 14,
   "id": "76a91395-e888-4631-91ad-ed30723bd90b",
   "metadata": {},
   "outputs": [
    {
     "data": {
      "text/plain": [
       "3×3 Matrix{Float64}:\n",
       "  1.0          -8.32667e-17  -2.42861e-16\n",
       " -8.32667e-17   1.0          -1.66533e-16\n",
       " -2.42861e-16  -1.66533e-16   1.0"
      ]
     },
     "execution_count": 14,
     "metadata": {},
     "output_type": "execute_result"
    }
   ],
   "source": [
    "v * v'"
   ]
  },
  {
   "cell_type": "code",
   "execution_count": 8,
   "id": "f24d00ef-9c4b-4839-b4c8-d3d1ca61c007",
   "metadata": {},
   "outputs": [
    {
     "data": {
      "text/plain": [
       "5×3 Matrix{Float64}:\n",
       " 0.151939  0.927184   0.83123\n",
       " 0.77888   0.380565   0.719319\n",
       " 0.933376  0.69785    0.16904\n",
       " 0.369724  0.0341367  0.0672845\n",
       " 0.709602  0.738254   0.0486884"
      ]
     },
     "execution_count": 8,
     "metadata": {},
     "output_type": "execute_result"
    }
   ],
   "source": [
    "u * Diagonal(s) * v'"
   ]
  },
  {
   "cell_type": "code",
   "execution_count": 9,
   "id": "4a27a7f0-053f-49d3-9ea1-d6aa44952599",
   "metadata": {},
   "outputs": [
    {
     "data": {
      "text/plain": [
       "true"
      ]
     },
     "execution_count": 9,
     "metadata": {},
     "output_type": "execute_result"
    }
   ],
   "source": [
    "u * Diagonal(s) * v' ≈ x"
   ]
  },
  {
   "cell_type": "code",
   "execution_count": null,
   "id": "90fb851e-977f-4390-9671-ddbf957d7441",
   "metadata": {},
   "outputs": [],
   "source": []
  }
 ],
 "metadata": {
  "kernelspec": {
   "display_name": "Julia 1.10.4",
   "language": "julia",
   "name": "julia-1.10"
  },
  "language_info": {
   "file_extension": ".jl",
   "mimetype": "application/julia",
   "name": "julia",
   "version": "1.10.4"
  }
 },
 "nbformat": 4,
 "nbformat_minor": 5
}
