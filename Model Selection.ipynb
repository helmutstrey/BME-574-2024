{
 "cells": [
  {
   "cell_type": "code",
   "execution_count": 2,
   "id": "54a80cf4",
   "metadata": {
    "scrolled": true
   },
   "outputs": [
    {
     "name": "stderr",
     "output_type": "stream",
     "text": [
      "\u001b[32m\u001b[1m   Resolving\u001b[22m\u001b[39m package versions...\n",
      "\u001b[32m\u001b[1m  No Changes\u001b[22m\u001b[39m to `~/.julia/environments/v1.8/Project.toml`\n",
      "\u001b[32m\u001b[1m  No Changes\u001b[22m\u001b[39m to `~/.julia/environments/v1.8/Manifest.toml`\n"
     ]
    }
   ],
   "source": [
    "import Pkg\n",
    "Pkg.add([\"Plots\",\"Distributions\",\"LsqFit\",\"Random\",\"Polynomials\",\"Statistics\"])"
   ]
  },
  {
   "cell_type": "code",
   "execution_count": 3,
   "id": "63c0a258",
   "metadata": {},
   "outputs": [
    {
     "name": "stderr",
     "output_type": "stream",
     "text": [
      "\u001b[36m\u001b[1m[ \u001b[22m\u001b[39m\u001b[36m\u001b[1mInfo: \u001b[22m\u001b[39mPrecompiling Plots [91a5bcdd-55d7-5caf-9e0b-520d859cae80]\n",
      "\u001b[36m\u001b[1m[ \u001b[22m\u001b[39m\u001b[36m\u001b[1mInfo: \u001b[22m\u001b[39mGR\n"
     ]
    }
   ],
   "source": [
    "using Plots, Distributions, LsqFit, Random, Statistics"
   ]
  },
  {
   "cell_type": "markdown",
   "id": "9f432d2a",
   "metadata": {},
   "source": [
    "# Model Selection\n",
    "\n",
    "In this chapter we will discuss on how to select between alternative models.  This question often boils down to the question on how many parameters can be supported by a model.  A typical example question would be: How many peaks can we identify in a spectrum?\n",
    "\n",
    "Before we go into the details, we need to formulate our problem in a Bayesian way:\n",
    "Let us assume that we want to compare two models or hypothesis $H_1$ and $H_2$.  The first has no parameters and the second one has one parameter $\\lambda$.  This argument can be generalized to comparing any two theories with different number of parameters.  To tell which hypothesis is the better one we calculate the posterior ratio:\n",
    "\n",
    "$$PR = \\frac{P(H_{1} \\mid D)}{P(H_{2} \\mid D)}$$\n",
    "\n",
    "if PR is greater than one we would prefer $H_1$ over $H_2$, but if PR is on the order unity then the data is not sufficient to make a decision.  We will now use Bayes theorem to get a better sense on how to calculate this ratio.\n",
    "\n",
    "$$\\frac{P(H_{1} \\mid D)}{P(H_{2} \\mid D)}=\\frac{P(D \\mid H_{1})}{P(D \\mid H_{2})}\\frac{P(H_{1})}{P(H_{2})}$$\n",
    "\n",
    "the nice thing about this ratio is that $P(D)$ cancels because it is the same for both hypothesis.  The last ratio is the ratio of priors and we should probably assume it to be of the order unity.  This is unless there is reason to believe that one hypothesis is more likely to be true then the other one.  This leaves the first ratio.  $P(D\\mid H_{1})$ is easy but $P(D\\mid H_{2})$ involves a parameter which we can get to by expressing it as\n",
    "\n",
    "$$P(D \\mid H_{2}) = \\int P(D, \\lambda \\mid H_{2})d\\lambda = \\int P(D \\mid \\lambda, H_{2})P(\\lambda \\mid H_{2})d\\lambda$$\n",
    "\n",
    "$P(D \\mid \\lambda, H_{2})$ is just the likelihood function for hypothesis $H_{2}$ with parameter $\\lambda$. $P(\\lambda \\mid H_{2})$ is the prior an reflects the knowledge of the range of $\\lambda$ that is known before the experiment.\n",
    "\n",
    "Lets now assume that $\\lambda$ must lie between two values $\\lambda_{min}$ and $\\lambda_{max}$ which will assign a uniform prior:\n",
    "\n",
    "$$P(\\lambda \\mid H_{2}) = \\frac{1}{\\lambda_{max}-\\lambda_{min}} \\quad \\textrm{for} \\quad \\lambda_{min} \\le \\lambda \\le \\lambda_{max}$$\n",
    "\n",
    "after the measurement we will find that a particular value of $\\lambda_{0}\\pm \\delta \\lambda$ yields the closest agreement with the data.  The corresponding probability $P(D \\mid \\lambda_{0},H_{2})$ will be the maximum of $H_{2}$'s likelihood function.  Let us also assume that we can represent the full likelihood as a Gaussian:\n",
    "\n",
    "$$P(D \\mid \\lambda, H_{2}) = P(D \\mid \\lambda_{0},H_{2}) \\exp \\Big[ -\\frac{(\\lambda-\\lambda_{0})^2}{2\\delta \\lambda^2} \\Big]$$\n",
    "\n",
    "since the uniform prior does not explicitly depend on $\\lambda$ we can calculate\n",
    "\n",
    "$$P(D \\mid H_{2}) = \\frac{1}{\\lambda_{max}-\\lambda_{min}} \\int_{\\lambda_{min}}^{\\lambda_{max}}P(D \\mid \\lambda, H_{2})$$\n",
    "\n",
    "Assuming that the vast majority of the Gaussian is contained in the prior interval this reduces to:\n",
    "\n",
    "$$P(D \\mid H_{2}) = \\frac{P(D \\mid \\lambda_{0},H_{2})\\delta \\lambda \\sqrt{2\\pi}}{\\lambda_{max}-\\lambda_{min}} $$\n",
    "\n",
    "Finally the posterior ratio can be written using three terms:\n",
    "\n",
    "$$\\frac{P(H_{1} \\mid D)}{P(H_{2} \\mid D)}=\\frac{P(H_{1})}{P(H_{2})}\\frac{P(D \\mid H_{1})}{P(D \\mid \\lambda_{0},H_{2})}\\frac{\\lambda_{max}-\\lambda_{min}}{\\delta \\lambda \\sqrt{2\\pi}}$$\n",
    "\n",
    "the first term is our bias with respect to the two theories (should be unity), the second tells us about how well the two theories fit the data (this should be in favor of $H_{2}$ since it has a free parameter).  The third term can be seen as penalizing the introduction of the parameter.  Since $\\lambda_{max}-\\lambda_{min}$ should, in general, be larger than $\\delta \\lambda \\sqrt{2\\pi}$ this factor is larger than one.  This factor is often called a Ockham factor after the thirteen-century Franciscan monk William of Ockham (or Occam, in Latin) who said \"it is vain to do with more what can be done with fewer\".\n",
    "But instead of blindly applying Ockams razor, we now have a quantitative tool to determine how many paramaters are supported by the data."
   ]
  },
  {
   "cell_type": "code",
   "execution_count": 5,
   "id": "0b49f53d",
   "metadata": {},
   "outputs": [
    {
     "data": {
      "text/plain": [
       "0.0:1.0:10.0"
      ]
     },
     "execution_count": 5,
     "metadata": {},
     "output_type": "execute_result"
    }
   ],
   "source": [
    "xdata = range(0, stop=10, length=11)"
   ]
  },
  {
   "cell_type": "code",
   "execution_count": 98,
   "id": "387834cd",
   "metadata": {},
   "outputs": [
    {
     "data": {
      "text/plain": [
       "Normal{Float64}(μ=0.0, σ=1.0)"
      ]
     },
     "execution_count": 98,
     "metadata": {},
     "output_type": "execute_result"
    }
   ],
   "source": [
    "sigma_y = 1.0\n",
    "d = Normal(0,sigma_y)"
   ]
  },
  {
   "cell_type": "code",
   "execution_count": 100,
   "id": "68eb40ad",
   "metadata": {},
   "outputs": [
    {
     "data": {
      "text/plain": [
       "11-element Vector{Float64}:\n",
       "  1.7738895550475717\n",
       "  2.7313769002310604\n",
       "  4.726441033534871\n",
       "  6.801259803894982\n",
       "  8.42372036936321\n",
       " 10.575602248545987\n",
       " 14.683259871285614\n",
       " 16.053988028890164\n",
       " 19.558912287055243\n",
       " 22.840442440053057\n",
       " 25.314401583256267"
      ]
     },
     "execution_count": 100,
     "metadata": {},
     "output_type": "execute_result"
    }
   ],
   "source": [
    "ydata = 1.0 .+ 2.0 .* xdata + 0.05 .* xdata .^2 + rand(d,length(xdata))"
   ]
  },
  {
   "cell_type": "code",
   "execution_count": 101,
   "id": "549827ce",
   "metadata": {},
   "outputs": [
    {
     "data": {
      "image/svg+xml": [
       "<?xml version=\"1.0\" encoding=\"utf-8\"?>\n",
       "<svg xmlns=\"http://www.w3.org/2000/svg\" xmlns:xlink=\"http://www.w3.org/1999/xlink\" width=\"600\" height=\"400\" viewBox=\"0 0 2400 1600\">\n",
       "<defs>\n",
       "  <clipPath id=\"clip970\">\n",
       "    <rect x=\"0\" y=\"0\" width=\"2400\" height=\"1600\"/>\n",
       "  </clipPath>\n",
       "</defs>\n",
       "<path clip-path=\"url(#clip970)\" d=\"M0 1600 L2400 1600 L2400 0 L0 0  Z\" fill=\"#ffffff\" fill-rule=\"evenodd\" fill-opacity=\"1\"/>\n",
       "<defs>\n",
       "  <clipPath id=\"clip971\">\n",
       "    <rect x=\"480\" y=\"0\" width=\"1681\" height=\"1600\"/>\n",
       "  </clipPath>\n",
       "</defs>\n",
       "<path clip-path=\"url(#clip970)\" d=\"M140.696 1486.45 L2352.76 1486.45 L2352.76 47.2441 L140.696 47.2441  Z\" fill=\"#ffffff\" fill-rule=\"evenodd\" fill-opacity=\"1\"/>\n",
       "<defs>\n",
       "  <clipPath id=\"clip972\">\n",
       "    <rect x=\"140\" y=\"47\" width=\"2213\" height=\"1440\"/>\n",
       "  </clipPath>\n",
       "</defs>\n",
       "<polyline clip-path=\"url(#clip972)\" style=\"stroke:#000000; stroke-linecap:round; stroke-linejoin:round; stroke-width:2; stroke-opacity:0.1; fill:none\" points=\"203.301,1486.45 203.301,47.2441 \"/>\n",
       "<polyline clip-path=\"url(#clip972)\" style=\"stroke:#000000; stroke-linecap:round; stroke-linejoin:round; stroke-width:2; stroke-opacity:0.1; fill:none\" points=\"725.013,1486.45 725.013,47.2441 \"/>\n",
       "<polyline clip-path=\"url(#clip972)\" style=\"stroke:#000000; stroke-linecap:round; stroke-linejoin:round; stroke-width:2; stroke-opacity:0.1; fill:none\" points=\"1246.73,1486.45 1246.73,47.2441 \"/>\n",
       "<polyline clip-path=\"url(#clip972)\" style=\"stroke:#000000; stroke-linecap:round; stroke-linejoin:round; stroke-width:2; stroke-opacity:0.1; fill:none\" points=\"1768.44,1486.45 1768.44,47.2441 \"/>\n",
       "<polyline clip-path=\"url(#clip972)\" style=\"stroke:#000000; stroke-linecap:round; stroke-linejoin:round; stroke-width:2; stroke-opacity:0.1; fill:none\" points=\"2290.15,1486.45 2290.15,47.2441 \"/>\n",
       "<polyline clip-path=\"url(#clip970)\" style=\"stroke:#000000; stroke-linecap:round; stroke-linejoin:round; stroke-width:4; stroke-opacity:1; fill:none\" points=\"140.696,1486.45 2352.76,1486.45 \"/>\n",
       "<polyline clip-path=\"url(#clip970)\" style=\"stroke:#000000; stroke-linecap:round; stroke-linejoin:round; stroke-width:4; stroke-opacity:1; fill:none\" points=\"203.301,1486.45 203.301,1467.55 \"/>\n",
       "<polyline clip-path=\"url(#clip970)\" style=\"stroke:#000000; stroke-linecap:round; stroke-linejoin:round; stroke-width:4; stroke-opacity:1; fill:none\" points=\"725.013,1486.45 725.013,1467.55 \"/>\n",
       "<polyline clip-path=\"url(#clip970)\" style=\"stroke:#000000; stroke-linecap:round; stroke-linejoin:round; stroke-width:4; stroke-opacity:1; fill:none\" points=\"1246.73,1486.45 1246.73,1467.55 \"/>\n",
       "<polyline clip-path=\"url(#clip970)\" style=\"stroke:#000000; stroke-linecap:round; stroke-linejoin:round; stroke-width:4; stroke-opacity:1; fill:none\" points=\"1768.44,1486.45 1768.44,1467.55 \"/>\n",
       "<polyline clip-path=\"url(#clip970)\" style=\"stroke:#000000; stroke-linecap:round; stroke-linejoin:round; stroke-width:4; stroke-opacity:1; fill:none\" points=\"2290.15,1486.45 2290.15,1467.55 \"/>\n",
       "<path clip-path=\"url(#clip970)\" d=\"M180.685 1517.37 Q177.074 1517.37 175.246 1520.93 Q173.44 1524.47 173.44 1531.6 Q173.44 1538.71 175.246 1542.27 Q177.074 1545.82 180.685 1545.82 Q184.32 1545.82 186.125 1542.27 Q187.954 1538.71 187.954 1531.6 Q187.954 1524.47 186.125 1520.93 Q184.32 1517.37 180.685 1517.37 M180.685 1513.66 Q186.496 1513.66 189.551 1518.27 Q192.63 1522.85 192.63 1531.6 Q192.63 1540.33 189.551 1544.94 Q186.496 1549.52 180.685 1549.52 Q174.875 1549.52 171.797 1544.94 Q168.741 1540.33 168.741 1531.6 Q168.741 1522.85 171.797 1518.27 Q174.875 1513.66 180.685 1513.66 Z\" fill=\"#000000\" fill-rule=\"nonzero\" fill-opacity=\"1\" /><path clip-path=\"url(#clip970)\" d=\"M200.847 1542.97 L205.732 1542.97 L205.732 1548.85 L200.847 1548.85 L200.847 1542.97 Z\" fill=\"#000000\" fill-rule=\"nonzero\" fill-opacity=\"1\" /><path clip-path=\"url(#clip970)\" d=\"M225.917 1517.37 Q222.306 1517.37 220.477 1520.93 Q218.671 1524.47 218.671 1531.6 Q218.671 1538.71 220.477 1542.27 Q222.306 1545.82 225.917 1545.82 Q229.551 1545.82 231.356 1542.27 Q233.185 1538.71 233.185 1531.6 Q233.185 1524.47 231.356 1520.93 Q229.551 1517.37 225.917 1517.37 M225.917 1513.66 Q231.727 1513.66 234.782 1518.27 Q237.861 1522.85 237.861 1531.6 Q237.861 1540.33 234.782 1544.94 Q231.727 1549.52 225.917 1549.52 Q220.106 1549.52 217.028 1544.94 Q213.972 1540.33 213.972 1531.6 Q213.972 1522.85 217.028 1518.27 Q220.106 1513.66 225.917 1513.66 Z\" fill=\"#000000\" fill-rule=\"nonzero\" fill-opacity=\"1\" /><path clip-path=\"url(#clip970)\" d=\"M696.75 1544.91 L713.069 1544.91 L713.069 1548.85 L691.125 1548.85 L691.125 1544.91 Q693.787 1542.16 698.37 1537.53 Q702.976 1532.88 704.157 1531.53 Q706.402 1529.01 707.282 1527.27 Q708.185 1525.51 708.185 1523.82 Q708.185 1521.07 706.24 1519.33 Q704.319 1517.6 701.217 1517.6 Q699.018 1517.6 696.564 1518.36 Q694.134 1519.13 691.356 1520.68 L691.356 1515.95 Q694.18 1514.82 696.634 1514.24 Q699.088 1513.66 701.125 1513.66 Q706.495 1513.66 709.689 1516.35 Q712.884 1519.03 712.884 1523.52 Q712.884 1525.65 712.074 1527.57 Q711.287 1529.47 709.18 1532.07 Q708.601 1532.74 705.5 1535.95 Q702.398 1539.15 696.75 1544.91 Z\" fill=\"#000000\" fill-rule=\"nonzero\" fill-opacity=\"1\" /><path clip-path=\"url(#clip970)\" d=\"M722.884 1542.97 L727.768 1542.97 L727.768 1548.85 L722.884 1548.85 L722.884 1542.97 Z\" fill=\"#000000\" fill-rule=\"nonzero\" fill-opacity=\"1\" /><path clip-path=\"url(#clip970)\" d=\"M737.999 1514.29 L756.356 1514.29 L756.356 1518.22 L742.282 1518.22 L742.282 1526.7 Q743.3 1526.35 744.319 1526.19 Q745.337 1526 746.356 1526 Q752.143 1526 755.522 1529.17 Q758.902 1532.34 758.902 1537.76 Q758.902 1543.34 755.43 1546.44 Q751.958 1549.52 745.638 1549.52 Q743.462 1549.52 741.194 1549.15 Q738.948 1548.78 736.541 1548.04 L736.541 1543.34 Q738.624 1544.47 740.847 1545.03 Q743.069 1545.58 745.546 1545.58 Q749.55 1545.58 751.888 1543.48 Q754.226 1541.37 754.226 1537.76 Q754.226 1534.15 751.888 1532.04 Q749.55 1529.94 745.546 1529.94 Q743.671 1529.94 741.796 1530.35 Q739.944 1530.77 737.999 1531.65 L737.999 1514.29 Z\" fill=\"#000000\" fill-rule=\"nonzero\" fill-opacity=\"1\" /><path clip-path=\"url(#clip970)\" d=\"M1213.89 1514.29 L1232.25 1514.29 L1232.25 1518.22 L1218.17 1518.22 L1218.17 1526.7 Q1219.19 1526.35 1220.21 1526.19 Q1221.23 1526 1222.25 1526 Q1228.03 1526 1231.41 1529.17 Q1234.79 1532.34 1234.79 1537.76 Q1234.79 1543.34 1231.32 1546.44 Q1227.85 1549.52 1221.53 1549.52 Q1219.35 1549.52 1217.08 1549.15 Q1214.84 1548.78 1212.43 1548.04 L1212.43 1543.34 Q1214.52 1544.47 1216.74 1545.03 Q1218.96 1545.58 1221.44 1545.58 Q1225.44 1545.58 1227.78 1543.48 Q1230.12 1541.37 1230.12 1537.76 Q1230.12 1534.15 1227.78 1532.04 Q1225.44 1529.94 1221.44 1529.94 Q1219.56 1529.94 1217.69 1530.35 Q1215.83 1530.77 1213.89 1531.65 L1213.89 1514.29 Z\" fill=\"#000000\" fill-rule=\"nonzero\" fill-opacity=\"1\" /><path clip-path=\"url(#clip970)\" d=\"M1244.01 1542.97 L1248.89 1542.97 L1248.89 1548.85 L1244.01 1548.85 L1244.01 1542.97 Z\" fill=\"#000000\" fill-rule=\"nonzero\" fill-opacity=\"1\" /><path clip-path=\"url(#clip970)\" d=\"M1269.08 1517.37 Q1265.46 1517.37 1263.64 1520.93 Q1261.83 1524.47 1261.83 1531.6 Q1261.83 1538.71 1263.64 1542.27 Q1265.46 1545.82 1269.08 1545.82 Q1272.71 1545.82 1274.51 1542.27 Q1276.34 1538.71 1276.34 1531.6 Q1276.34 1524.47 1274.51 1520.93 Q1272.71 1517.37 1269.08 1517.37 M1269.08 1513.66 Q1274.89 1513.66 1277.94 1518.27 Q1281.02 1522.85 1281.02 1531.6 Q1281.02 1540.33 1277.94 1544.94 Q1274.89 1549.52 1269.08 1549.52 Q1263.26 1549.52 1260.19 1544.94 Q1257.13 1540.33 1257.13 1531.6 Q1257.13 1522.85 1260.19 1518.27 Q1263.26 1513.66 1269.08 1513.66 Z\" fill=\"#000000\" fill-rule=\"nonzero\" fill-opacity=\"1\" /><path clip-path=\"url(#clip970)\" d=\"M1734.76 1514.29 L1756.98 1514.29 L1756.98 1516.28 L1744.43 1548.85 L1739.55 1548.85 L1751.35 1518.22 L1734.76 1518.22 L1734.76 1514.29 Z\" fill=\"#000000\" fill-rule=\"nonzero\" fill-opacity=\"1\" /><path clip-path=\"url(#clip970)\" d=\"M1766.1 1542.97 L1770.98 1542.97 L1770.98 1548.85 L1766.1 1548.85 L1766.1 1542.97 Z\" fill=\"#000000\" fill-rule=\"nonzero\" fill-opacity=\"1\" /><path clip-path=\"url(#clip970)\" d=\"M1781.22 1514.29 L1799.57 1514.29 L1799.57 1518.22 L1785.5 1518.22 L1785.5 1526.7 Q1786.52 1526.35 1787.54 1526.19 Q1788.55 1526 1789.57 1526 Q1795.36 1526 1798.74 1529.17 Q1802.12 1532.34 1802.12 1537.76 Q1802.12 1543.34 1798.65 1546.44 Q1795.17 1549.52 1788.85 1549.52 Q1786.68 1549.52 1784.41 1549.15 Q1782.16 1548.78 1779.76 1548.04 L1779.76 1543.34 Q1781.84 1544.47 1784.06 1545.03 Q1786.29 1545.58 1788.76 1545.58 Q1792.77 1545.58 1795.1 1543.48 Q1797.44 1541.37 1797.44 1537.76 Q1797.44 1534.15 1795.1 1532.04 Q1792.77 1529.94 1788.76 1529.94 Q1786.89 1529.94 1785.01 1530.35 Q1783.16 1530.77 1781.22 1531.65 L1781.22 1514.29 Z\" fill=\"#000000\" fill-rule=\"nonzero\" fill-opacity=\"1\" /><path clip-path=\"url(#clip970)\" d=\"M2242.22 1544.91 L2249.86 1544.91 L2249.86 1518.55 L2241.55 1520.21 L2241.55 1515.95 L2249.81 1514.29 L2254.49 1514.29 L2254.49 1544.91 L2262.13 1544.91 L2262.13 1548.85 L2242.22 1548.85 L2242.22 1544.91 Z\" fill=\"#000000\" fill-rule=\"nonzero\" fill-opacity=\"1\" /><path clip-path=\"url(#clip970)\" d=\"M2281.57 1517.37 Q2277.96 1517.37 2276.13 1520.93 Q2274.33 1524.47 2274.33 1531.6 Q2274.33 1538.71 2276.13 1542.27 Q2277.96 1545.82 2281.57 1545.82 Q2285.21 1545.82 2287.01 1542.27 Q2288.84 1538.71 2288.84 1531.6 Q2288.84 1524.47 2287.01 1520.93 Q2285.21 1517.37 2281.57 1517.37 M2281.57 1513.66 Q2287.38 1513.66 2290.44 1518.27 Q2293.52 1522.85 2293.52 1531.6 Q2293.52 1540.33 2290.44 1544.94 Q2287.38 1549.52 2281.57 1549.52 Q2275.76 1549.52 2272.69 1544.94 Q2269.63 1540.33 2269.63 1531.6 Q2269.63 1522.85 2272.69 1518.27 Q2275.76 1513.66 2281.57 1513.66 Z\" fill=\"#000000\" fill-rule=\"nonzero\" fill-opacity=\"1\" /><path clip-path=\"url(#clip970)\" d=\"M2301.74 1542.97 L2306.62 1542.97 L2306.62 1548.85 L2301.74 1548.85 L2301.74 1542.97 Z\" fill=\"#000000\" fill-rule=\"nonzero\" fill-opacity=\"1\" /><path clip-path=\"url(#clip970)\" d=\"M2326.81 1517.37 Q2323.19 1517.37 2321.37 1520.93 Q2319.56 1524.47 2319.56 1531.6 Q2319.56 1538.71 2321.37 1542.27 Q2323.19 1545.82 2326.81 1545.82 Q2330.44 1545.82 2332.25 1542.27 Q2334.07 1538.71 2334.07 1531.6 Q2334.07 1524.47 2332.25 1520.93 Q2330.44 1517.37 2326.81 1517.37 M2326.81 1513.66 Q2332.62 1513.66 2335.67 1518.27 Q2338.75 1522.85 2338.75 1531.6 Q2338.75 1540.33 2335.67 1544.94 Q2332.62 1549.52 2326.81 1549.52 Q2321 1549.52 2317.92 1544.94 Q2314.86 1540.33 2314.86 1531.6 Q2314.86 1522.85 2317.92 1518.27 Q2321 1513.66 2326.81 1513.66 Z\" fill=\"#000000\" fill-rule=\"nonzero\" fill-opacity=\"1\" /><polyline clip-path=\"url(#clip972)\" style=\"stroke:#000000; stroke-linecap:round; stroke-linejoin:round; stroke-width:2; stroke-opacity:0.1; fill:none\" points=\"140.696,1259.64 2352.76,1259.64 \"/>\n",
       "<polyline clip-path=\"url(#clip972)\" style=\"stroke:#000000; stroke-linecap:round; stroke-linejoin:round; stroke-width:2; stroke-opacity:0.1; fill:none\" points=\"140.696,971.261 2352.76,971.261 \"/>\n",
       "<polyline clip-path=\"url(#clip972)\" style=\"stroke:#000000; stroke-linecap:round; stroke-linejoin:round; stroke-width:2; stroke-opacity:0.1; fill:none\" points=\"140.696,682.877 2352.76,682.877 \"/>\n",
       "<polyline clip-path=\"url(#clip972)\" style=\"stroke:#000000; stroke-linecap:round; stroke-linejoin:round; stroke-width:2; stroke-opacity:0.1; fill:none\" points=\"140.696,394.494 2352.76,394.494 \"/>\n",
       "<polyline clip-path=\"url(#clip972)\" style=\"stroke:#000000; stroke-linecap:round; stroke-linejoin:round; stroke-width:2; stroke-opacity:0.1; fill:none\" points=\"140.696,106.11 2352.76,106.11 \"/>\n",
       "<polyline clip-path=\"url(#clip970)\" style=\"stroke:#000000; stroke-linecap:round; stroke-linejoin:round; stroke-width:4; stroke-opacity:1; fill:none\" points=\"140.696,1486.45 140.696,47.2441 \"/>\n",
       "<polyline clip-path=\"url(#clip970)\" style=\"stroke:#000000; stroke-linecap:round; stroke-linejoin:round; stroke-width:4; stroke-opacity:1; fill:none\" points=\"140.696,1259.64 159.593,1259.64 \"/>\n",
       "<polyline clip-path=\"url(#clip970)\" style=\"stroke:#000000; stroke-linecap:round; stroke-linejoin:round; stroke-width:4; stroke-opacity:1; fill:none\" points=\"140.696,971.261 159.593,971.261 \"/>\n",
       "<polyline clip-path=\"url(#clip970)\" style=\"stroke:#000000; stroke-linecap:round; stroke-linejoin:round; stroke-width:4; stroke-opacity:1; fill:none\" points=\"140.696,682.877 159.593,682.877 \"/>\n",
       "<polyline clip-path=\"url(#clip970)\" style=\"stroke:#000000; stroke-linecap:round; stroke-linejoin:round; stroke-width:4; stroke-opacity:1; fill:none\" points=\"140.696,394.494 159.593,394.494 \"/>\n",
       "<polyline clip-path=\"url(#clip970)\" style=\"stroke:#000000; stroke-linecap:round; stroke-linejoin:round; stroke-width:4; stroke-opacity:1; fill:none\" points=\"140.696,106.11 159.593,106.11 \"/>\n",
       "<path clip-path=\"url(#clip970)\" d=\"M83.7929 1242.36 L102.149 1242.36 L102.149 1246.3 L88.0753 1246.3 L88.0753 1254.77 Q89.0938 1254.42 90.1123 1254.26 Q91.1308 1254.08 92.1493 1254.08 Q97.9363 1254.08 101.316 1257.25 Q104.696 1260.42 104.696 1265.84 Q104.696 1271.42 101.223 1274.52 Q97.7511 1277.6 91.4317 1277.6 Q89.2558 1277.6 86.9873 1277.23 Q84.7419 1276.85 82.3346 1276.11 L82.3346 1271.42 Q84.4179 1272.55 86.6401 1273.1 Q88.8623 1273.66 91.3391 1273.66 Q95.3437 1273.66 97.6817 1271.55 Q100.02 1269.45 100.02 1265.84 Q100.02 1262.23 97.6817 1260.12 Q95.3437 1258.01 91.3391 1258.01 Q89.4641 1258.01 87.5892 1258.43 Q85.7373 1258.85 83.7929 1259.73 L83.7929 1242.36 Z\" fill=\"#000000\" fill-rule=\"nonzero\" fill-opacity=\"1\" /><path clip-path=\"url(#clip970)\" d=\"M53.3995 984.605 L61.0384 984.605 L61.0384 958.24 L52.7282 959.907 L52.7282 955.647 L60.9921 953.981 L65.668 953.981 L65.668 984.605 L73.3068 984.605 L73.3068 988.541 L53.3995 988.541 L53.3995 984.605 Z\" fill=\"#000000\" fill-rule=\"nonzero\" fill-opacity=\"1\" /><path clip-path=\"url(#clip970)\" d=\"M92.7512 957.059 Q89.1401 957.059 87.3114 960.624 Q85.5058 964.166 85.5058 971.295 Q85.5058 978.402 87.3114 981.967 Q89.1401 985.508 92.7512 985.508 Q96.3854 985.508 98.1909 981.967 Q100.02 978.402 100.02 971.295 Q100.02 964.166 98.1909 960.624 Q96.3854 957.059 92.7512 957.059 M92.7512 953.356 Q98.5613 953.356 101.617 957.962 Q104.696 962.545 104.696 971.295 Q104.696 980.022 101.617 984.629 Q98.5613 989.212 92.7512 989.212 Q86.941 989.212 83.8623 984.629 Q80.8068 980.022 80.8068 971.295 Q80.8068 962.545 83.8623 957.962 Q86.941 953.356 92.7512 953.356 Z\" fill=\"#000000\" fill-rule=\"nonzero\" fill-opacity=\"1\" /><path clip-path=\"url(#clip970)\" d=\"M54.3949 696.222 L62.0337 696.222 L62.0337 669.856 L53.7236 671.523 L53.7236 667.264 L61.9874 665.597 L66.6633 665.597 L66.6633 696.222 L74.3022 696.222 L74.3022 700.157 L54.3949 700.157 L54.3949 696.222 Z\" fill=\"#000000\" fill-rule=\"nonzero\" fill-opacity=\"1\" /><path clip-path=\"url(#clip970)\" d=\"M83.7929 665.597 L102.149 665.597 L102.149 669.532 L88.0753 669.532 L88.0753 678.004 Q89.0938 677.657 90.1123 677.495 Q91.1308 677.31 92.1493 677.31 Q97.9363 677.31 101.316 680.481 Q104.696 683.653 104.696 689.069 Q104.696 694.648 101.223 697.75 Q97.7511 700.828 91.4317 700.828 Q89.2558 700.828 86.9873 700.458 Q84.7419 700.088 82.3346 699.347 L82.3346 694.648 Q84.4179 695.782 86.6401 696.338 Q88.8623 696.893 91.3391 696.893 Q95.3437 696.893 97.6817 694.787 Q100.02 692.68 100.02 689.069 Q100.02 685.458 97.6817 683.352 Q95.3437 681.245 91.3391 681.245 Q89.4641 681.245 87.5892 681.662 Q85.7373 682.078 83.7929 682.958 L83.7929 665.597 Z\" fill=\"#000000\" fill-rule=\"nonzero\" fill-opacity=\"1\" /><path clip-path=\"url(#clip970)\" d=\"M56.6171 407.838 L72.9365 407.838 L72.9365 411.774 L50.9921 411.774 L50.9921 407.838 Q53.6541 405.084 58.2375 400.454 Q62.8439 395.801 64.0245 394.459 Q66.2698 391.936 67.1494 390.2 Q68.0522 388.44 68.0522 386.75 Q68.0522 383.996 66.1078 382.26 Q64.1865 380.524 61.0847 380.524 Q58.8856 380.524 56.4319 381.288 Q54.0014 382.051 51.2236 383.602 L51.2236 378.88 Q54.0477 377.746 56.5014 377.167 Q58.955 376.589 60.9921 376.589 Q66.3624 376.589 69.5568 379.274 Q72.7513 381.959 72.7513 386.45 Q72.7513 388.579 71.9411 390.5 Q71.1541 392.399 69.0476 394.991 Q68.4689 395.662 65.367 398.88 Q62.2652 402.074 56.6171 407.838 Z\" fill=\"#000000\" fill-rule=\"nonzero\" fill-opacity=\"1\" /><path clip-path=\"url(#clip970)\" d=\"M92.7512 380.292 Q89.1401 380.292 87.3114 383.857 Q85.5058 387.399 85.5058 394.528 Q85.5058 401.635 87.3114 405.199 Q89.1401 408.741 92.7512 408.741 Q96.3854 408.741 98.1909 405.199 Q100.02 401.635 100.02 394.528 Q100.02 387.399 98.1909 383.857 Q96.3854 380.292 92.7512 380.292 M92.7512 376.589 Q98.5613 376.589 101.617 381.195 Q104.696 385.778 104.696 394.528 Q104.696 403.255 101.617 407.861 Q98.5613 412.445 92.7512 412.445 Q86.941 412.445 83.8623 407.861 Q80.8068 403.255 80.8068 394.528 Q80.8068 385.778 83.8623 381.195 Q86.941 376.589 92.7512 376.589 Z\" fill=\"#000000\" fill-rule=\"nonzero\" fill-opacity=\"1\" /><path clip-path=\"url(#clip970)\" d=\"M57.6125 119.455 L73.9318 119.455 L73.9318 123.39 L51.9875 123.39 L51.9875 119.455 Q54.6495 116.7 59.2328 112.071 Q63.8393 107.418 65.0198 106.075 Q67.2652 103.552 68.1448 101.816 Q69.0476 100.057 69.0476 98.3669 Q69.0476 95.6123 67.1032 93.8762 Q65.1819 92.1401 62.08 92.1401 Q59.881 92.1401 57.4273 92.904 Q54.9967 93.6679 52.219 95.2188 L52.219 90.4966 Q55.043 89.3623 57.4967 88.7836 Q59.9504 88.2049 61.9874 88.2049 Q67.3578 88.2049 70.5522 90.8901 Q73.7466 93.5753 73.7466 98.066 Q73.7466 100.196 72.9365 102.117 Q72.1494 104.015 70.0429 106.608 Q69.4642 107.279 66.3624 110.496 Q63.2606 113.691 57.6125 119.455 Z\" fill=\"#000000\" fill-rule=\"nonzero\" fill-opacity=\"1\" /><path clip-path=\"url(#clip970)\" d=\"M83.7929 88.8299 L102.149 88.8299 L102.149 92.7651 L88.0753 92.7651 L88.0753 101.237 Q89.0938 100.89 90.1123 100.728 Q91.1308 100.543 92.1493 100.543 Q97.9363 100.543 101.316 103.714 Q104.696 106.885 104.696 112.302 Q104.696 117.881 101.223 120.983 Q97.7511 124.061 91.4317 124.061 Q89.2558 124.061 86.9873 123.691 Q84.7419 123.32 82.3346 122.58 L82.3346 117.881 Q84.4179 119.015 86.6401 119.571 Q88.8623 120.126 91.3391 120.126 Q95.3437 120.126 97.6817 118.02 Q100.02 115.913 100.02 112.302 Q100.02 108.691 97.6817 106.584 Q95.3437 104.478 91.3391 104.478 Q89.4641 104.478 87.5892 104.895 Q85.7373 105.311 83.7929 106.191 L83.7929 88.8299 Z\" fill=\"#000000\" fill-rule=\"nonzero\" fill-opacity=\"1\" /><circle clip-path=\"url(#clip972)\" cx=\"203.301\" cy=\"1445.72\" r=\"14.4\" fill=\"#009af9\" fill-rule=\"evenodd\" fill-opacity=\"1\" stroke=\"#000000\" stroke-opacity=\"1\" stroke-width=\"3.2\"/>\n",
       "<circle clip-path=\"url(#clip972)\" cx=\"411.986\" cy=\"1390.49\" r=\"14.4\" fill=\"#009af9\" fill-rule=\"evenodd\" fill-opacity=\"1\" stroke=\"#000000\" stroke-opacity=\"1\" stroke-width=\"3.2\"/>\n",
       "<circle clip-path=\"url(#clip972)\" cx=\"620.671\" cy=\"1275.42\" r=\"14.4\" fill=\"#009af9\" fill-rule=\"evenodd\" fill-opacity=\"1\" stroke=\"#000000\" stroke-opacity=\"1\" stroke-width=\"3.2\"/>\n",
       "<circle clip-path=\"url(#clip972)\" cx=\"829.356\" cy=\"1155.75\" r=\"14.4\" fill=\"#009af9\" fill-rule=\"evenodd\" fill-opacity=\"1\" stroke=\"#000000\" stroke-opacity=\"1\" stroke-width=\"3.2\"/>\n",
       "<circle clip-path=\"url(#clip972)\" cx=\"1038.04\" cy=\"1062.18\" r=\"14.4\" fill=\"#009af9\" fill-rule=\"evenodd\" fill-opacity=\"1\" stroke=\"#000000\" stroke-opacity=\"1\" stroke-width=\"3.2\"/>\n",
       "<circle clip-path=\"url(#clip972)\" cx=\"1246.73\" cy=\"938.062\" r=\"14.4\" fill=\"#009af9\" fill-rule=\"evenodd\" fill-opacity=\"1\" stroke=\"#000000\" stroke-opacity=\"1\" stroke-width=\"3.2\"/>\n",
       "<circle clip-path=\"url(#clip972)\" cx=\"1455.41\" cy=\"701.146\" r=\"14.4\" fill=\"#009af9\" fill-rule=\"evenodd\" fill-opacity=\"1\" stroke=\"#000000\" stroke-opacity=\"1\" stroke-width=\"3.2\"/>\n",
       "<circle clip-path=\"url(#clip972)\" cx=\"1664.1\" cy=\"622.087\" r=\"14.4\" fill=\"#009af9\" fill-rule=\"evenodd\" fill-opacity=\"1\" stroke=\"#000000\" stroke-opacity=\"1\" stroke-width=\"3.2\"/>\n",
       "<circle clip-path=\"url(#clip972)\" cx=\"1872.78\" cy=\"419.934\" r=\"14.4\" fill=\"#009af9\" fill-rule=\"evenodd\" fill-opacity=\"1\" stroke=\"#000000\" stroke-opacity=\"1\" stroke-width=\"3.2\"/>\n",
       "<circle clip-path=\"url(#clip972)\" cx=\"2081.47\" cy=\"230.666\" r=\"14.4\" fill=\"#009af9\" fill-rule=\"evenodd\" fill-opacity=\"1\" stroke=\"#000000\" stroke-opacity=\"1\" stroke-width=\"3.2\"/>\n",
       "<circle clip-path=\"url(#clip972)\" cx=\"2290.15\" cy=\"87.9763\" r=\"14.4\" fill=\"#009af9\" fill-rule=\"evenodd\" fill-opacity=\"1\" stroke=\"#000000\" stroke-opacity=\"1\" stroke-width=\"3.2\"/>\n",
       "<path clip-path=\"url(#clip970)\" d=\"M214.431 198.898 L488.067 198.898 L488.067 95.2176 L214.431 95.2176  Z\" fill=\"#ffffff\" fill-rule=\"evenodd\" fill-opacity=\"1\"/>\n",
       "<polyline clip-path=\"url(#clip970)\" style=\"stroke:#000000; stroke-linecap:round; stroke-linejoin:round; stroke-width:4; stroke-opacity:1; fill:none\" points=\"214.431,198.898 488.067,198.898 488.067,95.2176 214.431,95.2176 214.431,198.898 \"/>\n",
       "<circle clip-path=\"url(#clip970)\" cx=\"312.745\" cy=\"147.058\" r=\"23.04\" fill=\"#009af9\" fill-rule=\"evenodd\" fill-opacity=\"1\" stroke=\"#000000\" stroke-opacity=\"1\" stroke-width=\"5.12\"/>\n",
       "<path clip-path=\"url(#clip970)\" d=\"M424.901 166.745 Q423.095 171.375 421.382 172.787 Q419.67 174.199 416.799 174.199 L413.396 174.199 L413.396 170.634 L415.896 170.634 Q417.656 170.634 418.628 169.8 Q419.6 168.967 420.781 165.865 L421.545 163.921 L411.058 138.412 L415.572 138.412 L423.674 158.689 L431.776 138.412 L436.29 138.412 L424.901 166.745 Z\" fill=\"#000000\" fill-rule=\"nonzero\" fill-opacity=\"1\" /><path clip-path=\"url(#clip970)\" d=\"M443.581 160.402 L451.22 160.402 L451.22 134.037 L442.91 135.703 L442.91 131.444 L451.174 129.778 L455.85 129.778 L455.85 160.402 L463.489 160.402 L463.489 164.338 L443.581 164.338 L443.581 160.402 Z\" fill=\"#000000\" fill-rule=\"nonzero\" fill-opacity=\"1\" /></svg>\n"
      ]
     },
     "execution_count": 101,
     "metadata": {},
     "output_type": "execute_result"
    }
   ],
   "source": [
    "scatter(xdata, ydata)"
   ]
  },
  {
   "cell_type": "code",
   "execution_count": 24,
   "id": "252e8c26",
   "metadata": {},
   "outputs": [
    {
     "data": {
      "text/plain": [
       "quadmodel (generic function with 1 method)"
      ]
     },
     "execution_count": 24,
     "metadata": {},
     "output_type": "execute_result"
    }
   ],
   "source": [
    "@. linmodel(x, p) = p[1] + p[2]*x\n",
    "@. quadmodel(x, p) = p[1] + p[2]*x + p[3]*x^2"
   ]
  },
  {
   "cell_type": "code",
   "execution_count": 102,
   "id": "227d14bc",
   "metadata": {},
   "outputs": [
    {
     "data": {
      "text/plain": [
       "11-element Vector{Float64}:\n",
       "  1.0\n",
       "  3.05\n",
       "  5.2\n",
       "  7.45\n",
       "  9.8\n",
       " 12.25\n",
       " 14.8\n",
       " 17.45\n",
       " 20.2\n",
       " 23.05\n",
       " 26.0"
      ]
     },
     "execution_count": 102,
     "metadata": {},
     "output_type": "execute_result"
    }
   ],
   "source": [
    "ylin_true = linmodel(xdata, [1.0,2.0])\n",
    "yquad_true = quadmodel(xdata, [1.0,2.0,0.05])"
   ]
  },
  {
   "cell_type": "code",
   "execution_count": 103,
   "id": "083beff4",
   "metadata": {},
   "outputs": [
    {
     "data": {
      "image/svg+xml": [
       "<?xml version=\"1.0\" encoding=\"utf-8\"?>\n",
       "<svg xmlns=\"http://www.w3.org/2000/svg\" xmlns:xlink=\"http://www.w3.org/1999/xlink\" width=\"600\" height=\"400\" viewBox=\"0 0 2400 1600\">\n",
       "<defs>\n",
       "  <clipPath id=\"clip010\">\n",
       "    <rect x=\"0\" y=\"0\" width=\"2400\" height=\"1600\"/>\n",
       "  </clipPath>\n",
       "</defs>\n",
       "<path clip-path=\"url(#clip010)\" d=\"M0 1600 L2400 1600 L2400 0 L0 0  Z\" fill=\"#ffffff\" fill-rule=\"evenodd\" fill-opacity=\"1\"/>\n",
       "<defs>\n",
       "  <clipPath id=\"clip011\">\n",
       "    <rect x=\"480\" y=\"0\" width=\"1681\" height=\"1600\"/>\n",
       "  </clipPath>\n",
       "</defs>\n",
       "<path clip-path=\"url(#clip010)\" d=\"M140.696 1486.45 L2352.76 1486.45 L2352.76 47.2441 L140.696 47.2441  Z\" fill=\"#ffffff\" fill-rule=\"evenodd\" fill-opacity=\"1\"/>\n",
       "<defs>\n",
       "  <clipPath id=\"clip012\">\n",
       "    <rect x=\"140\" y=\"47\" width=\"2213\" height=\"1440\"/>\n",
       "  </clipPath>\n",
       "</defs>\n",
       "<polyline clip-path=\"url(#clip012)\" style=\"stroke:#000000; stroke-linecap:round; stroke-linejoin:round; stroke-width:2; stroke-opacity:0.1; fill:none\" points=\"203.301,1486.45 203.301,47.2441 \"/>\n",
       "<polyline clip-path=\"url(#clip012)\" style=\"stroke:#000000; stroke-linecap:round; stroke-linejoin:round; stroke-width:2; stroke-opacity:0.1; fill:none\" points=\"725.013,1486.45 725.013,47.2441 \"/>\n",
       "<polyline clip-path=\"url(#clip012)\" style=\"stroke:#000000; stroke-linecap:round; stroke-linejoin:round; stroke-width:2; stroke-opacity:0.1; fill:none\" points=\"1246.73,1486.45 1246.73,47.2441 \"/>\n",
       "<polyline clip-path=\"url(#clip012)\" style=\"stroke:#000000; stroke-linecap:round; stroke-linejoin:round; stroke-width:2; stroke-opacity:0.1; fill:none\" points=\"1768.44,1486.45 1768.44,47.2441 \"/>\n",
       "<polyline clip-path=\"url(#clip012)\" style=\"stroke:#000000; stroke-linecap:round; stroke-linejoin:round; stroke-width:2; stroke-opacity:0.1; fill:none\" points=\"2290.15,1486.45 2290.15,47.2441 \"/>\n",
       "<polyline clip-path=\"url(#clip010)\" style=\"stroke:#000000; stroke-linecap:round; stroke-linejoin:round; stroke-width:4; stroke-opacity:1; fill:none\" points=\"140.696,1486.45 2352.76,1486.45 \"/>\n",
       "<polyline clip-path=\"url(#clip010)\" style=\"stroke:#000000; stroke-linecap:round; stroke-linejoin:round; stroke-width:4; stroke-opacity:1; fill:none\" points=\"203.301,1486.45 203.301,1467.55 \"/>\n",
       "<polyline clip-path=\"url(#clip010)\" style=\"stroke:#000000; stroke-linecap:round; stroke-linejoin:round; stroke-width:4; stroke-opacity:1; fill:none\" points=\"725.013,1486.45 725.013,1467.55 \"/>\n",
       "<polyline clip-path=\"url(#clip010)\" style=\"stroke:#000000; stroke-linecap:round; stroke-linejoin:round; stroke-width:4; stroke-opacity:1; fill:none\" points=\"1246.73,1486.45 1246.73,1467.55 \"/>\n",
       "<polyline clip-path=\"url(#clip010)\" style=\"stroke:#000000; stroke-linecap:round; stroke-linejoin:round; stroke-width:4; stroke-opacity:1; fill:none\" points=\"1768.44,1486.45 1768.44,1467.55 \"/>\n",
       "<polyline clip-path=\"url(#clip010)\" style=\"stroke:#000000; stroke-linecap:round; stroke-linejoin:round; stroke-width:4; stroke-opacity:1; fill:none\" points=\"2290.15,1486.45 2290.15,1467.55 \"/>\n",
       "<path clip-path=\"url(#clip010)\" d=\"M180.685 1517.37 Q177.074 1517.37 175.246 1520.93 Q173.44 1524.47 173.44 1531.6 Q173.44 1538.71 175.246 1542.27 Q177.074 1545.82 180.685 1545.82 Q184.32 1545.82 186.125 1542.27 Q187.954 1538.71 187.954 1531.6 Q187.954 1524.47 186.125 1520.93 Q184.32 1517.37 180.685 1517.37 M180.685 1513.66 Q186.496 1513.66 189.551 1518.27 Q192.63 1522.85 192.63 1531.6 Q192.63 1540.33 189.551 1544.94 Q186.496 1549.52 180.685 1549.52 Q174.875 1549.52 171.797 1544.94 Q168.741 1540.33 168.741 1531.6 Q168.741 1522.85 171.797 1518.27 Q174.875 1513.66 180.685 1513.66 Z\" fill=\"#000000\" fill-rule=\"nonzero\" fill-opacity=\"1\" /><path clip-path=\"url(#clip010)\" d=\"M200.847 1542.97 L205.732 1542.97 L205.732 1548.85 L200.847 1548.85 L200.847 1542.97 Z\" fill=\"#000000\" fill-rule=\"nonzero\" fill-opacity=\"1\" /><path clip-path=\"url(#clip010)\" d=\"M225.917 1517.37 Q222.306 1517.37 220.477 1520.93 Q218.671 1524.47 218.671 1531.6 Q218.671 1538.71 220.477 1542.27 Q222.306 1545.82 225.917 1545.82 Q229.551 1545.82 231.356 1542.27 Q233.185 1538.71 233.185 1531.6 Q233.185 1524.47 231.356 1520.93 Q229.551 1517.37 225.917 1517.37 M225.917 1513.66 Q231.727 1513.66 234.782 1518.27 Q237.861 1522.85 237.861 1531.6 Q237.861 1540.33 234.782 1544.94 Q231.727 1549.52 225.917 1549.52 Q220.106 1549.52 217.028 1544.94 Q213.972 1540.33 213.972 1531.6 Q213.972 1522.85 217.028 1518.27 Q220.106 1513.66 225.917 1513.66 Z\" fill=\"#000000\" fill-rule=\"nonzero\" fill-opacity=\"1\" /><path clip-path=\"url(#clip010)\" d=\"M696.75 1544.91 L713.069 1544.91 L713.069 1548.85 L691.125 1548.85 L691.125 1544.91 Q693.787 1542.16 698.37 1537.53 Q702.976 1532.88 704.157 1531.53 Q706.402 1529.01 707.282 1527.27 Q708.185 1525.51 708.185 1523.82 Q708.185 1521.07 706.24 1519.33 Q704.319 1517.6 701.217 1517.6 Q699.018 1517.6 696.564 1518.36 Q694.134 1519.13 691.356 1520.68 L691.356 1515.95 Q694.18 1514.82 696.634 1514.24 Q699.088 1513.66 701.125 1513.66 Q706.495 1513.66 709.689 1516.35 Q712.884 1519.03 712.884 1523.52 Q712.884 1525.65 712.074 1527.57 Q711.287 1529.47 709.18 1532.07 Q708.601 1532.74 705.5 1535.95 Q702.398 1539.15 696.75 1544.91 Z\" fill=\"#000000\" fill-rule=\"nonzero\" fill-opacity=\"1\" /><path clip-path=\"url(#clip010)\" d=\"M722.884 1542.97 L727.768 1542.97 L727.768 1548.85 L722.884 1548.85 L722.884 1542.97 Z\" fill=\"#000000\" fill-rule=\"nonzero\" fill-opacity=\"1\" /><path clip-path=\"url(#clip010)\" d=\"M737.999 1514.29 L756.356 1514.29 L756.356 1518.22 L742.282 1518.22 L742.282 1526.7 Q743.3 1526.35 744.319 1526.19 Q745.337 1526 746.356 1526 Q752.143 1526 755.522 1529.17 Q758.902 1532.34 758.902 1537.76 Q758.902 1543.34 755.43 1546.44 Q751.958 1549.52 745.638 1549.52 Q743.462 1549.52 741.194 1549.15 Q738.948 1548.78 736.541 1548.04 L736.541 1543.34 Q738.624 1544.47 740.847 1545.03 Q743.069 1545.58 745.546 1545.58 Q749.55 1545.58 751.888 1543.48 Q754.226 1541.37 754.226 1537.76 Q754.226 1534.15 751.888 1532.04 Q749.55 1529.94 745.546 1529.94 Q743.671 1529.94 741.796 1530.35 Q739.944 1530.77 737.999 1531.65 L737.999 1514.29 Z\" fill=\"#000000\" fill-rule=\"nonzero\" fill-opacity=\"1\" /><path clip-path=\"url(#clip010)\" d=\"M1213.89 1514.29 L1232.25 1514.29 L1232.25 1518.22 L1218.17 1518.22 L1218.17 1526.7 Q1219.19 1526.35 1220.21 1526.19 Q1221.23 1526 1222.25 1526 Q1228.03 1526 1231.41 1529.17 Q1234.79 1532.34 1234.79 1537.76 Q1234.79 1543.34 1231.32 1546.44 Q1227.85 1549.52 1221.53 1549.52 Q1219.35 1549.52 1217.08 1549.15 Q1214.84 1548.78 1212.43 1548.04 L1212.43 1543.34 Q1214.52 1544.47 1216.74 1545.03 Q1218.96 1545.58 1221.44 1545.58 Q1225.44 1545.58 1227.78 1543.48 Q1230.12 1541.37 1230.12 1537.76 Q1230.12 1534.15 1227.78 1532.04 Q1225.44 1529.94 1221.44 1529.94 Q1219.56 1529.94 1217.69 1530.35 Q1215.83 1530.77 1213.89 1531.65 L1213.89 1514.29 Z\" fill=\"#000000\" fill-rule=\"nonzero\" fill-opacity=\"1\" /><path clip-path=\"url(#clip010)\" d=\"M1244.01 1542.97 L1248.89 1542.97 L1248.89 1548.85 L1244.01 1548.85 L1244.01 1542.97 Z\" fill=\"#000000\" fill-rule=\"nonzero\" fill-opacity=\"1\" /><path clip-path=\"url(#clip010)\" d=\"M1269.08 1517.37 Q1265.46 1517.37 1263.64 1520.93 Q1261.83 1524.47 1261.83 1531.6 Q1261.83 1538.71 1263.64 1542.27 Q1265.46 1545.82 1269.08 1545.82 Q1272.71 1545.82 1274.51 1542.27 Q1276.34 1538.71 1276.34 1531.6 Q1276.34 1524.47 1274.51 1520.93 Q1272.71 1517.37 1269.08 1517.37 M1269.08 1513.66 Q1274.89 1513.66 1277.94 1518.27 Q1281.02 1522.85 1281.02 1531.6 Q1281.02 1540.33 1277.94 1544.94 Q1274.89 1549.52 1269.08 1549.52 Q1263.26 1549.52 1260.19 1544.94 Q1257.13 1540.33 1257.13 1531.6 Q1257.13 1522.85 1260.19 1518.27 Q1263.26 1513.66 1269.08 1513.66 Z\" fill=\"#000000\" fill-rule=\"nonzero\" fill-opacity=\"1\" /><path clip-path=\"url(#clip010)\" d=\"M1734.76 1514.29 L1756.98 1514.29 L1756.98 1516.28 L1744.43 1548.85 L1739.55 1548.85 L1751.35 1518.22 L1734.76 1518.22 L1734.76 1514.29 Z\" fill=\"#000000\" fill-rule=\"nonzero\" fill-opacity=\"1\" /><path clip-path=\"url(#clip010)\" d=\"M1766.1 1542.97 L1770.98 1542.97 L1770.98 1548.85 L1766.1 1548.85 L1766.1 1542.97 Z\" fill=\"#000000\" fill-rule=\"nonzero\" fill-opacity=\"1\" /><path clip-path=\"url(#clip010)\" d=\"M1781.22 1514.29 L1799.57 1514.29 L1799.57 1518.22 L1785.5 1518.22 L1785.5 1526.7 Q1786.52 1526.35 1787.54 1526.19 Q1788.55 1526 1789.57 1526 Q1795.36 1526 1798.74 1529.17 Q1802.12 1532.34 1802.12 1537.76 Q1802.12 1543.34 1798.65 1546.44 Q1795.17 1549.52 1788.85 1549.52 Q1786.68 1549.52 1784.41 1549.15 Q1782.16 1548.78 1779.76 1548.04 L1779.76 1543.34 Q1781.84 1544.47 1784.06 1545.03 Q1786.29 1545.58 1788.76 1545.58 Q1792.77 1545.58 1795.1 1543.48 Q1797.44 1541.37 1797.44 1537.76 Q1797.44 1534.15 1795.1 1532.04 Q1792.77 1529.94 1788.76 1529.94 Q1786.89 1529.94 1785.01 1530.35 Q1783.16 1530.77 1781.22 1531.65 L1781.22 1514.29 Z\" fill=\"#000000\" fill-rule=\"nonzero\" fill-opacity=\"1\" /><path clip-path=\"url(#clip010)\" d=\"M2242.22 1544.91 L2249.86 1544.91 L2249.86 1518.55 L2241.55 1520.21 L2241.55 1515.95 L2249.81 1514.29 L2254.49 1514.29 L2254.49 1544.91 L2262.13 1544.91 L2262.13 1548.85 L2242.22 1548.85 L2242.22 1544.91 Z\" fill=\"#000000\" fill-rule=\"nonzero\" fill-opacity=\"1\" /><path clip-path=\"url(#clip010)\" d=\"M2281.57 1517.37 Q2277.96 1517.37 2276.13 1520.93 Q2274.33 1524.47 2274.33 1531.6 Q2274.33 1538.71 2276.13 1542.27 Q2277.96 1545.82 2281.57 1545.82 Q2285.21 1545.82 2287.01 1542.27 Q2288.84 1538.71 2288.84 1531.6 Q2288.84 1524.47 2287.01 1520.93 Q2285.21 1517.37 2281.57 1517.37 M2281.57 1513.66 Q2287.38 1513.66 2290.44 1518.27 Q2293.52 1522.85 2293.52 1531.6 Q2293.52 1540.33 2290.44 1544.94 Q2287.38 1549.52 2281.57 1549.52 Q2275.76 1549.52 2272.69 1544.94 Q2269.63 1540.33 2269.63 1531.6 Q2269.63 1522.85 2272.69 1518.27 Q2275.76 1513.66 2281.57 1513.66 Z\" fill=\"#000000\" fill-rule=\"nonzero\" fill-opacity=\"1\" /><path clip-path=\"url(#clip010)\" d=\"M2301.74 1542.97 L2306.62 1542.97 L2306.62 1548.85 L2301.74 1548.85 L2301.74 1542.97 Z\" fill=\"#000000\" fill-rule=\"nonzero\" fill-opacity=\"1\" /><path clip-path=\"url(#clip010)\" d=\"M2326.81 1517.37 Q2323.19 1517.37 2321.37 1520.93 Q2319.56 1524.47 2319.56 1531.6 Q2319.56 1538.71 2321.37 1542.27 Q2323.19 1545.82 2326.81 1545.82 Q2330.44 1545.82 2332.25 1542.27 Q2334.07 1538.71 2334.07 1531.6 Q2334.07 1524.47 2332.25 1520.93 Q2330.44 1517.37 2326.81 1517.37 M2326.81 1513.66 Q2332.62 1513.66 2335.67 1518.27 Q2338.75 1522.85 2338.75 1531.6 Q2338.75 1540.33 2335.67 1544.94 Q2332.62 1549.52 2326.81 1549.52 Q2321 1549.52 2317.92 1544.94 Q2314.86 1540.33 2314.86 1531.6 Q2314.86 1522.85 2317.92 1518.27 Q2321 1513.66 2326.81 1513.66 Z\" fill=\"#000000\" fill-rule=\"nonzero\" fill-opacity=\"1\" /><polyline clip-path=\"url(#clip012)\" style=\"stroke:#000000; stroke-linecap:round; stroke-linejoin:round; stroke-width:2; stroke-opacity:0.1; fill:none\" points=\"140.696,1228.48 2352.76,1228.48 \"/>\n",
       "<polyline clip-path=\"url(#clip012)\" style=\"stroke:#000000; stroke-linecap:round; stroke-linejoin:round; stroke-width:2; stroke-opacity:0.1; fill:none\" points=\"140.696,956.93 2352.76,956.93 \"/>\n",
       "<polyline clip-path=\"url(#clip012)\" style=\"stroke:#000000; stroke-linecap:round; stroke-linejoin:round; stroke-width:2; stroke-opacity:0.1; fill:none\" points=\"140.696,685.382 2352.76,685.382 \"/>\n",
       "<polyline clip-path=\"url(#clip012)\" style=\"stroke:#000000; stroke-linecap:round; stroke-linejoin:round; stroke-width:2; stroke-opacity:0.1; fill:none\" points=\"140.696,413.834 2352.76,413.834 \"/>\n",
       "<polyline clip-path=\"url(#clip012)\" style=\"stroke:#000000; stroke-linecap:round; stroke-linejoin:round; stroke-width:2; stroke-opacity:0.1; fill:none\" points=\"140.696,142.286 2352.76,142.286 \"/>\n",
       "<polyline clip-path=\"url(#clip010)\" style=\"stroke:#000000; stroke-linecap:round; stroke-linejoin:round; stroke-width:4; stroke-opacity:1; fill:none\" points=\"140.696,1486.45 140.696,47.2441 \"/>\n",
       "<polyline clip-path=\"url(#clip010)\" style=\"stroke:#000000; stroke-linecap:round; stroke-linejoin:round; stroke-width:4; stroke-opacity:1; fill:none\" points=\"140.696,1228.48 159.593,1228.48 \"/>\n",
       "<polyline clip-path=\"url(#clip010)\" style=\"stroke:#000000; stroke-linecap:round; stroke-linejoin:round; stroke-width:4; stroke-opacity:1; fill:none\" points=\"140.696,956.93 159.593,956.93 \"/>\n",
       "<polyline clip-path=\"url(#clip010)\" style=\"stroke:#000000; stroke-linecap:round; stroke-linejoin:round; stroke-width:4; stroke-opacity:1; fill:none\" points=\"140.696,685.382 159.593,685.382 \"/>\n",
       "<polyline clip-path=\"url(#clip010)\" style=\"stroke:#000000; stroke-linecap:round; stroke-linejoin:round; stroke-width:4; stroke-opacity:1; fill:none\" points=\"140.696,413.834 159.593,413.834 \"/>\n",
       "<polyline clip-path=\"url(#clip010)\" style=\"stroke:#000000; stroke-linecap:round; stroke-linejoin:round; stroke-width:4; stroke-opacity:1; fill:none\" points=\"140.696,142.286 159.593,142.286 \"/>\n",
       "<path clip-path=\"url(#clip010)\" d=\"M83.7929 1211.2 L102.149 1211.2 L102.149 1215.13 L88.0753 1215.13 L88.0753 1223.6 Q89.0938 1223.26 90.1123 1223.1 Q91.1308 1222.91 92.1493 1222.91 Q97.9363 1222.91 101.316 1226.08 Q104.696 1229.25 104.696 1234.67 Q104.696 1240.25 101.223 1243.35 Q97.7511 1246.43 91.4317 1246.43 Q89.2558 1246.43 86.9873 1246.06 Q84.7419 1245.69 82.3346 1244.95 L82.3346 1240.25 Q84.4179 1241.38 86.6401 1241.94 Q88.8623 1242.49 91.3391 1242.49 Q95.3437 1242.49 97.6817 1240.39 Q100.02 1238.28 100.02 1234.67 Q100.02 1231.06 97.6817 1228.95 Q95.3437 1226.85 91.3391 1226.85 Q89.4641 1226.85 87.5892 1227.26 Q85.7373 1227.68 83.7929 1228.56 L83.7929 1211.2 Z\" fill=\"#000000\" fill-rule=\"nonzero\" fill-opacity=\"1\" /><path clip-path=\"url(#clip010)\" d=\"M53.3995 970.274 L61.0384 970.274 L61.0384 943.909 L52.7282 945.575 L52.7282 941.316 L60.9921 939.65 L65.668 939.65 L65.668 970.274 L73.3068 970.274 L73.3068 974.21 L53.3995 974.21 L53.3995 970.274 Z\" fill=\"#000000\" fill-rule=\"nonzero\" fill-opacity=\"1\" /><path clip-path=\"url(#clip010)\" d=\"M92.7512 942.728 Q89.1401 942.728 87.3114 946.293 Q85.5058 949.835 85.5058 956.964 Q85.5058 964.071 87.3114 967.635 Q89.1401 971.177 92.7512 971.177 Q96.3854 971.177 98.1909 967.635 Q100.02 964.071 100.02 956.964 Q100.02 949.835 98.1909 946.293 Q96.3854 942.728 92.7512 942.728 M92.7512 939.025 Q98.5613 939.025 101.617 943.631 Q104.696 948.214 104.696 956.964 Q104.696 965.691 101.617 970.297 Q98.5613 974.881 92.7512 974.881 Q86.941 974.881 83.8623 970.297 Q80.8068 965.691 80.8068 956.964 Q80.8068 948.214 83.8623 943.631 Q86.941 939.025 92.7512 939.025 Z\" fill=\"#000000\" fill-rule=\"nonzero\" fill-opacity=\"1\" /><path clip-path=\"url(#clip010)\" d=\"M54.3949 698.726 L62.0337 698.726 L62.0337 672.361 L53.7236 674.028 L53.7236 669.768 L61.9874 668.102 L66.6633 668.102 L66.6633 698.726 L74.3022 698.726 L74.3022 702.662 L54.3949 702.662 L54.3949 698.726 Z\" fill=\"#000000\" fill-rule=\"nonzero\" fill-opacity=\"1\" /><path clip-path=\"url(#clip010)\" d=\"M83.7929 668.102 L102.149 668.102 L102.149 672.037 L88.0753 672.037 L88.0753 680.509 Q89.0938 680.162 90.1123 680 Q91.1308 679.815 92.1493 679.815 Q97.9363 679.815 101.316 682.986 Q104.696 686.157 104.696 691.574 Q104.696 697.152 101.223 700.254 Q97.7511 703.333 91.4317 703.333 Q89.2558 703.333 86.9873 702.963 Q84.7419 702.592 82.3346 701.851 L82.3346 697.152 Q84.4179 698.287 86.6401 698.842 Q88.8623 699.398 91.3391 699.398 Q95.3437 699.398 97.6817 697.291 Q100.02 695.185 100.02 691.574 Q100.02 687.963 97.6817 685.856 Q95.3437 683.75 91.3391 683.75 Q89.4641 683.75 87.5892 684.166 Q85.7373 684.583 83.7929 685.463 L83.7929 668.102 Z\" fill=\"#000000\" fill-rule=\"nonzero\" fill-opacity=\"1\" /><path clip-path=\"url(#clip010)\" d=\"M56.6171 427.179 L72.9365 427.179 L72.9365 431.114 L50.9921 431.114 L50.9921 427.179 Q53.6541 424.424 58.2375 419.794 Q62.8439 415.142 64.0245 413.799 Q66.2698 411.276 67.1494 409.54 Q68.0522 407.781 68.0522 406.091 Q68.0522 403.336 66.1078 401.6 Q64.1865 399.864 61.0847 399.864 Q58.8856 399.864 56.4319 400.628 Q54.0014 401.392 51.2236 402.943 L51.2236 398.22 Q54.0477 397.086 56.5014 396.507 Q58.955 395.929 60.9921 395.929 Q66.3624 395.929 69.5568 398.614 Q72.7513 401.299 72.7513 405.79 Q72.7513 407.919 71.9411 409.841 Q71.1541 411.739 69.0476 414.331 Q68.4689 415.003 65.367 418.22 Q62.2652 421.415 56.6171 427.179 Z\" fill=\"#000000\" fill-rule=\"nonzero\" fill-opacity=\"1\" /><path clip-path=\"url(#clip010)\" d=\"M92.7512 399.632 Q89.1401 399.632 87.3114 403.197 Q85.5058 406.739 85.5058 413.868 Q85.5058 420.975 87.3114 424.54 Q89.1401 428.081 92.7512 428.081 Q96.3854 428.081 98.1909 424.54 Q100.02 420.975 100.02 413.868 Q100.02 406.739 98.1909 403.197 Q96.3854 399.632 92.7512 399.632 M92.7512 395.929 Q98.5613 395.929 101.617 400.535 Q104.696 405.119 104.696 413.868 Q104.696 422.595 101.617 427.202 Q98.5613 431.785 92.7512 431.785 Q86.941 431.785 83.8623 427.202 Q80.8068 422.595 80.8068 413.868 Q80.8068 405.119 83.8623 400.535 Q86.941 395.929 92.7512 395.929 Z\" fill=\"#000000\" fill-rule=\"nonzero\" fill-opacity=\"1\" /><path clip-path=\"url(#clip010)\" d=\"M57.6125 155.631 L73.9318 155.631 L73.9318 159.566 L51.9875 159.566 L51.9875 155.631 Q54.6495 152.876 59.2328 148.246 Q63.8393 143.594 65.0198 142.251 Q67.2652 139.728 68.1448 137.992 Q69.0476 136.233 69.0476 134.543 Q69.0476 131.788 67.1032 130.052 Q65.1819 128.316 62.08 128.316 Q59.881 128.316 57.4273 129.08 Q54.9967 129.844 52.219 131.395 L52.219 126.673 Q55.043 125.538 57.4967 124.96 Q59.9504 124.381 61.9874 124.381 Q67.3578 124.381 70.5522 127.066 Q73.7466 129.751 73.7466 134.242 Q73.7466 136.372 72.9365 138.293 Q72.1494 140.191 70.0429 142.784 Q69.4642 143.455 66.3624 146.672 Q63.2606 149.867 57.6125 155.631 Z\" fill=\"#000000\" fill-rule=\"nonzero\" fill-opacity=\"1\" /><path clip-path=\"url(#clip010)\" d=\"M83.7929 125.006 L102.149 125.006 L102.149 128.941 L88.0753 128.941 L88.0753 137.413 Q89.0938 137.066 90.1123 136.904 Q91.1308 136.719 92.1493 136.719 Q97.9363 136.719 101.316 139.89 Q104.696 143.061 104.696 148.478 Q104.696 154.057 101.223 157.158 Q97.7511 160.237 91.4317 160.237 Q89.2558 160.237 86.9873 159.867 Q84.7419 159.496 82.3346 158.756 L82.3346 154.057 Q84.4179 155.191 86.6401 155.746 Q88.8623 156.302 91.3391 156.302 Q95.3437 156.302 97.6817 154.196 Q100.02 152.089 100.02 148.478 Q100.02 144.867 97.6817 142.76 Q95.3437 140.654 91.3391 140.654 Q89.4641 140.654 87.5892 141.071 Q85.7373 141.487 83.7929 142.367 L83.7929 125.006 Z\" fill=\"#000000\" fill-rule=\"nonzero\" fill-opacity=\"1\" /><circle clip-path=\"url(#clip012)\" cx=\"203.301\" cy=\"1403.69\" r=\"14.4\" fill=\"#009af9\" fill-rule=\"evenodd\" fill-opacity=\"1\" stroke=\"#000000\" stroke-opacity=\"1\" stroke-width=\"3.2\"/>\n",
       "<circle clip-path=\"url(#clip012)\" cx=\"411.986\" cy=\"1351.69\" r=\"14.4\" fill=\"#009af9\" fill-rule=\"evenodd\" fill-opacity=\"1\" stroke=\"#000000\" stroke-opacity=\"1\" stroke-width=\"3.2\"/>\n",
       "<circle clip-path=\"url(#clip012)\" cx=\"620.671\" cy=\"1243.33\" r=\"14.4\" fill=\"#009af9\" fill-rule=\"evenodd\" fill-opacity=\"1\" stroke=\"#000000\" stroke-opacity=\"1\" stroke-width=\"3.2\"/>\n",
       "<circle clip-path=\"url(#clip012)\" cx=\"829.356\" cy=\"1130.65\" r=\"14.4\" fill=\"#009af9\" fill-rule=\"evenodd\" fill-opacity=\"1\" stroke=\"#000000\" stroke-opacity=\"1\" stroke-width=\"3.2\"/>\n",
       "<circle clip-path=\"url(#clip012)\" cx=\"1038.04\" cy=\"1042.54\" r=\"14.4\" fill=\"#009af9\" fill-rule=\"evenodd\" fill-opacity=\"1\" stroke=\"#000000\" stroke-opacity=\"1\" stroke-width=\"3.2\"/>\n",
       "<circle clip-path=\"url(#clip012)\" cx=\"1246.73\" cy=\"925.669\" r=\"14.4\" fill=\"#009af9\" fill-rule=\"evenodd\" fill-opacity=\"1\" stroke=\"#000000\" stroke-opacity=\"1\" stroke-width=\"3.2\"/>\n",
       "<circle clip-path=\"url(#clip012)\" cx=\"1455.41\" cy=\"702.584\" r=\"14.4\" fill=\"#009af9\" fill-rule=\"evenodd\" fill-opacity=\"1\" stroke=\"#000000\" stroke-opacity=\"1\" stroke-width=\"3.2\"/>\n",
       "<circle clip-path=\"url(#clip012)\" cx=\"1664.1\" cy=\"628.14\" r=\"14.4\" fill=\"#009af9\" fill-rule=\"evenodd\" fill-opacity=\"1\" stroke=\"#000000\" stroke-opacity=\"1\" stroke-width=\"3.2\"/>\n",
       "<circle clip-path=\"url(#clip012)\" cx=\"1872.78\" cy=\"437.789\" r=\"14.4\" fill=\"#009af9\" fill-rule=\"evenodd\" fill-opacity=\"1\" stroke=\"#000000\" stroke-opacity=\"1\" stroke-width=\"3.2\"/>\n",
       "<circle clip-path=\"url(#clip012)\" cx=\"2081.47\" cy=\"259.571\" r=\"14.4\" fill=\"#009af9\" fill-rule=\"evenodd\" fill-opacity=\"1\" stroke=\"#000000\" stroke-opacity=\"1\" stroke-width=\"3.2\"/>\n",
       "<circle clip-path=\"url(#clip012)\" cx=\"2290.15\" cy=\"125.211\" r=\"14.4\" fill=\"#009af9\" fill-rule=\"evenodd\" fill-opacity=\"1\" stroke=\"#000000\" stroke-opacity=\"1\" stroke-width=\"3.2\"/>\n",
       "<polyline clip-path=\"url(#clip012)\" style=\"stroke:#e26f46; stroke-linecap:round; stroke-linejoin:round; stroke-width:4; stroke-opacity:1; fill:none\" points=\"203.301,1445.72 411.986,1337.1 620.671,1228.48 829.356,1119.86 1038.04,1011.24 1246.73,902.62 1455.41,794.001 1664.1,685.382 1872.78,576.762 2081.47,468.143 2290.15,359.524 \"/>\n",
       "<polyline clip-path=\"url(#clip012)\" style=\"stroke:#3da44d; stroke-linecap:round; stroke-linejoin:round; stroke-width:4; stroke-opacity:1; fill:none\" points=\"203.301,1445.72 411.986,1334.38 620.671,1217.62 829.356,1095.42 1038.04,967.791 1246.73,834.733 1455.41,696.244 1664.1,552.323 1872.78,402.972 2081.47,248.19 2290.15,87.9763 \"/>\n",
       "<path clip-path=\"url(#clip010)\" d=\"M214.431 302.578 L488.646 302.578 L488.646 95.2176 L214.431 95.2176  Z\" fill=\"#ffffff\" fill-rule=\"evenodd\" fill-opacity=\"1\"/>\n",
       "<polyline clip-path=\"url(#clip010)\" style=\"stroke:#000000; stroke-linecap:round; stroke-linejoin:round; stroke-width:4; stroke-opacity:1; fill:none\" points=\"214.431,302.578 488.646,302.578 488.646,95.2176 214.431,95.2176 214.431,302.578 \"/>\n",
       "<circle clip-path=\"url(#clip010)\" cx=\"312.745\" cy=\"147.058\" r=\"23.04\" fill=\"#009af9\" fill-rule=\"evenodd\" fill-opacity=\"1\" stroke=\"#000000\" stroke-opacity=\"1\" stroke-width=\"5.12\"/>\n",
       "<path clip-path=\"url(#clip010)\" d=\"M424.901 166.745 Q423.095 171.375 421.382 172.787 Q419.67 174.199 416.799 174.199 L413.396 174.199 L413.396 170.634 L415.896 170.634 Q417.656 170.634 418.628 169.8 Q419.6 168.967 420.781 165.865 L421.545 163.921 L411.058 138.412 L415.572 138.412 L423.674 158.689 L431.776 138.412 L436.29 138.412 L424.901 166.745 Z\" fill=\"#000000\" fill-rule=\"nonzero\" fill-opacity=\"1\" /><path clip-path=\"url(#clip010)\" d=\"M443.581 160.402 L451.22 160.402 L451.22 134.037 L442.91 135.703 L442.91 131.444 L451.174 129.778 L455.85 129.778 L455.85 160.402 L463.489 160.402 L463.489 164.338 L443.581 164.338 L443.581 160.402 Z\" fill=\"#000000\" fill-rule=\"nonzero\" fill-opacity=\"1\" /><polyline clip-path=\"url(#clip010)\" style=\"stroke:#e26f46; stroke-linecap:round; stroke-linejoin:round; stroke-width:4; stroke-opacity:1; fill:none\" points=\"239.009,198.898 386.48,198.898 \"/>\n",
       "<path clip-path=\"url(#clip010)\" d=\"M424.901 218.585 Q423.095 223.215 421.382 224.627 Q419.67 226.039 416.799 226.039 L413.396 226.039 L413.396 222.474 L415.896 222.474 Q417.656 222.474 418.628 221.64 Q419.6 220.807 420.781 217.705 L421.545 215.761 L411.058 190.252 L415.572 190.252 L423.674 210.529 L431.776 190.252 L436.29 190.252 L424.901 218.585 Z\" fill=\"#000000\" fill-rule=\"nonzero\" fill-opacity=\"1\" /><path clip-path=\"url(#clip010)\" d=\"M446.799 212.242 L463.118 212.242 L463.118 216.178 L441.174 216.178 L441.174 212.242 Q443.836 209.488 448.419 204.858 Q453.026 200.205 454.206 198.863 Q456.452 196.34 457.331 194.604 Q458.234 192.844 458.234 191.155 Q458.234 188.4 456.29 186.664 Q454.368 184.928 451.267 184.928 Q449.068 184.928 446.614 185.692 Q444.183 186.455 441.406 188.006 L441.406 183.284 Q444.23 182.15 446.683 181.571 Q449.137 180.993 451.174 180.993 Q456.544 180.993 459.739 183.678 Q462.933 186.363 462.933 190.854 Q462.933 192.983 462.123 194.905 Q461.336 196.803 459.23 199.395 Q458.651 200.067 455.549 203.284 Q452.447 206.479 446.799 212.242 Z\" fill=\"#000000\" fill-rule=\"nonzero\" fill-opacity=\"1\" /><polyline clip-path=\"url(#clip010)\" style=\"stroke:#3da44d; stroke-linecap:round; stroke-linejoin:round; stroke-width:4; stroke-opacity:1; fill:none\" points=\"239.009,250.738 386.48,250.738 \"/>\n",
       "<path clip-path=\"url(#clip010)\" d=\"M424.901 270.425 Q423.095 275.055 421.382 276.467 Q419.67 277.879 416.799 277.879 L413.396 277.879 L413.396 274.314 L415.896 274.314 Q417.656 274.314 418.628 273.48 Q419.6 272.647 420.781 269.545 L421.545 267.601 L411.058 242.092 L415.572 242.092 L423.674 262.369 L431.776 242.092 L436.29 242.092 L424.901 270.425 Z\" fill=\"#000000\" fill-rule=\"nonzero\" fill-opacity=\"1\" /><path clip-path=\"url(#clip010)\" d=\"M456.938 249.383 Q460.294 250.101 462.169 252.369 Q464.067 254.638 464.067 257.971 Q464.067 263.087 460.549 265.888 Q457.03 268.689 450.549 268.689 Q448.373 268.689 446.058 268.249 Q443.767 267.832 441.313 266.976 L441.313 262.462 Q443.257 263.596 445.572 264.175 Q447.887 264.754 450.41 264.754 Q454.808 264.754 457.1 263.018 Q459.415 261.281 459.415 257.971 Q459.415 254.916 457.262 253.203 Q455.132 251.467 451.313 251.467 L447.285 251.467 L447.285 247.624 L451.498 247.624 Q454.947 247.624 456.776 246.258 Q458.605 244.87 458.605 242.277 Q458.605 239.615 456.706 238.203 Q454.831 236.768 451.313 236.768 Q449.392 236.768 447.193 237.184 Q444.993 237.601 442.355 238.481 L442.355 234.314 Q445.017 233.573 447.331 233.203 Q449.669 232.833 451.73 232.833 Q457.054 232.833 460.155 235.263 Q463.257 237.67 463.257 241.791 Q463.257 244.661 461.614 246.652 Q459.97 248.62 456.938 249.383 Z\" fill=\"#000000\" fill-rule=\"nonzero\" fill-opacity=\"1\" /></svg>\n"
      ]
     },
     "execution_count": 103,
     "metadata": {},
     "output_type": "execute_result"
    }
   ],
   "source": [
    "scatter(xdata, ydata)\n",
    "plot!(xdata,ylin_true)\n",
    "plot!(xdata,yquad_true)"
   ]
  },
  {
   "cell_type": "code",
   "execution_count": 27,
   "id": "94c923ed",
   "metadata": {},
   "outputs": [
    {
     "data": {
      "text/plain": [
       "3-element Vector{Float64}:\n",
       " 1.0\n",
       " 2.0\n",
       " 0.05"
      ]
     },
     "execution_count": 27,
     "metadata": {},
     "output_type": "execute_result"
    }
   ],
   "source": [
    "plin0 = [1.0, 2.0]\n",
    "pquad0 = [1.0, 2.0, 0.05]"
   ]
  },
  {
   "cell_type": "code",
   "execution_count": 104,
   "id": "18b37f41",
   "metadata": {},
   "outputs": [
    {
     "data": {
      "text/plain": [
       "LsqFit.LsqFitResult{Vector{Float64}, Vector{Float64}, Matrix{Float64}, Vector{Float64}}([1.459607068854923, 1.4446778884150153, 0.09862424026177385], [-0.31428248619264876, 0.2715322973006522, 0.017018773197177595, -0.12000090743904757, 0.3925860973401569, 0.5730002689283591, -1.0051128225167396, 0.3509520316967887, -0.2299307341266683, -0.3901709142593113, 0.45440839592619753], [1.0000000000095686 0.0 0.0; 0.9999999999844464 0.9999999999781275 0.9999999999868854; … ; 1.0000000000346907 9.000000000056966 80.99999999985442; 1.0000000000346907 10.000000000085857 100.00000000030195], true, Float64[])"
      ]
     },
     "execution_count": 104,
     "metadata": {},
     "output_type": "execute_result"
    }
   ],
   "source": [
    "linfit = curve_fit(linmodel, xdata, ydata, plin0)\n",
    "quadfit = curve_fit(quadmodel, xdata, ydata, pquad0)"
   ]
  },
  {
   "cell_type": "code",
   "execution_count": 105,
   "id": "86628162",
   "metadata": {},
   "outputs": [
    {
     "data": {
      "text/plain": [
       "([-0.019756535002391926, 2.4309202910220185], [1.459607068854923, 1.4446778884150153, 0.09862424026177385])"
      ]
     },
     "execution_count": 105,
     "metadata": {},
     "output_type": "execute_result"
    }
   ],
   "source": [
    "coef(linfit), coef(quadfit)"
   ]
  },
  {
   "cell_type": "code",
   "execution_count": 106,
   "id": "ff072011",
   "metadata": {},
   "outputs": [
    {
     "data": {
      "text/plain": [
       "2-element Vector{Float64}:\n",
       " 0.6110158047893839\n",
       " 0.10328052141712815"
      ]
     },
     "execution_count": 106,
     "metadata": {},
     "output_type": "execute_result"
    }
   ],
   "source": [
    "stderror(linfit)"
   ]
  },
  {
   "cell_type": "code",
   "execution_count": 107,
   "id": "d97882f4",
   "metadata": {},
   "outputs": [
    {
     "data": {
      "text/plain": [
       "3-element Vector{Float64}:\n",
       " 0.4008473008265819\n",
       " 0.1864977826144847\n",
       " 0.017962397055533368"
      ]
     },
     "execution_count": 107,
     "metadata": {},
     "output_type": "execute_result"
    }
   ],
   "source": [
    "stderror(quadfit)"
   ]
  },
  {
   "cell_type": "code",
   "execution_count": 108,
   "id": "f8b983af",
   "metadata": {},
   "outputs": [
    {
     "data": {
      "text/plain": [
       "11-element Vector{Float64}:\n",
       "  1.459607068854923\n",
       "  3.0029091975317126\n",
       "  4.743459806732049\n",
       "  6.681258896455934\n",
       "  8.816306466703367\n",
       " 11.148602517474346\n",
       " 13.678147048768874\n",
       " 16.404940060586952\n",
       " 19.328981552928575\n",
       " 22.450271525793745\n",
       " 25.768809979182464"
      ]
     },
     "execution_count": 108,
     "metadata": {},
     "output_type": "execute_result"
    }
   ],
   "source": [
    "linfity = linmodel(xdata,coef(linfit))\n",
    "quadfity = quadmodel(xdata,coef(quadfit))"
   ]
  },
  {
   "cell_type": "code",
   "execution_count": 109,
   "id": "e3fb78e0",
   "metadata": {},
   "outputs": [
    {
     "data": {
      "image/svg+xml": [
       "<?xml version=\"1.0\" encoding=\"utf-8\"?>\n",
       "<svg xmlns=\"http://www.w3.org/2000/svg\" xmlns:xlink=\"http://www.w3.org/1999/xlink\" width=\"600\" height=\"400\" viewBox=\"0 0 2400 1600\">\n",
       "<defs>\n",
       "  <clipPath id=\"clip050\">\n",
       "    <rect x=\"0\" y=\"0\" width=\"2400\" height=\"1600\"/>\n",
       "  </clipPath>\n",
       "</defs>\n",
       "<path clip-path=\"url(#clip050)\" d=\"M0 1600 L2400 1600 L2400 0 L0 0  Z\" fill=\"#ffffff\" fill-rule=\"evenodd\" fill-opacity=\"1\"/>\n",
       "<defs>\n",
       "  <clipPath id=\"clip051\">\n",
       "    <rect x=\"480\" y=\"0\" width=\"1681\" height=\"1600\"/>\n",
       "  </clipPath>\n",
       "</defs>\n",
       "<path clip-path=\"url(#clip050)\" d=\"M140.696 1486.45 L2352.76 1486.45 L2352.76 47.2441 L140.696 47.2441  Z\" fill=\"#ffffff\" fill-rule=\"evenodd\" fill-opacity=\"1\"/>\n",
       "<defs>\n",
       "  <clipPath id=\"clip052\">\n",
       "    <rect x=\"140\" y=\"47\" width=\"2213\" height=\"1440\"/>\n",
       "  </clipPath>\n",
       "</defs>\n",
       "<polyline clip-path=\"url(#clip052)\" style=\"stroke:#000000; stroke-linecap:round; stroke-linejoin:round; stroke-width:2; stroke-opacity:0.1; fill:none\" points=\"203.301,1486.45 203.301,47.2441 \"/>\n",
       "<polyline clip-path=\"url(#clip052)\" style=\"stroke:#000000; stroke-linecap:round; stroke-linejoin:round; stroke-width:2; stroke-opacity:0.1; fill:none\" points=\"725.013,1486.45 725.013,47.2441 \"/>\n",
       "<polyline clip-path=\"url(#clip052)\" style=\"stroke:#000000; stroke-linecap:round; stroke-linejoin:round; stroke-width:2; stroke-opacity:0.1; fill:none\" points=\"1246.73,1486.45 1246.73,47.2441 \"/>\n",
       "<polyline clip-path=\"url(#clip052)\" style=\"stroke:#000000; stroke-linecap:round; stroke-linejoin:round; stroke-width:2; stroke-opacity:0.1; fill:none\" points=\"1768.44,1486.45 1768.44,47.2441 \"/>\n",
       "<polyline clip-path=\"url(#clip052)\" style=\"stroke:#000000; stroke-linecap:round; stroke-linejoin:round; stroke-width:2; stroke-opacity:0.1; fill:none\" points=\"2290.15,1486.45 2290.15,47.2441 \"/>\n",
       "<polyline clip-path=\"url(#clip050)\" style=\"stroke:#000000; stroke-linecap:round; stroke-linejoin:round; stroke-width:4; stroke-opacity:1; fill:none\" points=\"140.696,1486.45 2352.76,1486.45 \"/>\n",
       "<polyline clip-path=\"url(#clip050)\" style=\"stroke:#000000; stroke-linecap:round; stroke-linejoin:round; stroke-width:4; stroke-opacity:1; fill:none\" points=\"203.301,1486.45 203.301,1467.55 \"/>\n",
       "<polyline clip-path=\"url(#clip050)\" style=\"stroke:#000000; stroke-linecap:round; stroke-linejoin:round; stroke-width:4; stroke-opacity:1; fill:none\" points=\"725.013,1486.45 725.013,1467.55 \"/>\n",
       "<polyline clip-path=\"url(#clip050)\" style=\"stroke:#000000; stroke-linecap:round; stroke-linejoin:round; stroke-width:4; stroke-opacity:1; fill:none\" points=\"1246.73,1486.45 1246.73,1467.55 \"/>\n",
       "<polyline clip-path=\"url(#clip050)\" style=\"stroke:#000000; stroke-linecap:round; stroke-linejoin:round; stroke-width:4; stroke-opacity:1; fill:none\" points=\"1768.44,1486.45 1768.44,1467.55 \"/>\n",
       "<polyline clip-path=\"url(#clip050)\" style=\"stroke:#000000; stroke-linecap:round; stroke-linejoin:round; stroke-width:4; stroke-opacity:1; fill:none\" points=\"2290.15,1486.45 2290.15,1467.55 \"/>\n",
       "<path clip-path=\"url(#clip050)\" d=\"M180.685 1517.37 Q177.074 1517.37 175.246 1520.93 Q173.44 1524.47 173.44 1531.6 Q173.44 1538.71 175.246 1542.27 Q177.074 1545.82 180.685 1545.82 Q184.32 1545.82 186.125 1542.27 Q187.954 1538.71 187.954 1531.6 Q187.954 1524.47 186.125 1520.93 Q184.32 1517.37 180.685 1517.37 M180.685 1513.66 Q186.496 1513.66 189.551 1518.27 Q192.63 1522.85 192.63 1531.6 Q192.63 1540.33 189.551 1544.94 Q186.496 1549.52 180.685 1549.52 Q174.875 1549.52 171.797 1544.94 Q168.741 1540.33 168.741 1531.6 Q168.741 1522.85 171.797 1518.27 Q174.875 1513.66 180.685 1513.66 Z\" fill=\"#000000\" fill-rule=\"nonzero\" fill-opacity=\"1\" /><path clip-path=\"url(#clip050)\" d=\"M200.847 1542.97 L205.732 1542.97 L205.732 1548.85 L200.847 1548.85 L200.847 1542.97 Z\" fill=\"#000000\" fill-rule=\"nonzero\" fill-opacity=\"1\" /><path clip-path=\"url(#clip050)\" d=\"M225.917 1517.37 Q222.306 1517.37 220.477 1520.93 Q218.671 1524.47 218.671 1531.6 Q218.671 1538.71 220.477 1542.27 Q222.306 1545.82 225.917 1545.82 Q229.551 1545.82 231.356 1542.27 Q233.185 1538.71 233.185 1531.6 Q233.185 1524.47 231.356 1520.93 Q229.551 1517.37 225.917 1517.37 M225.917 1513.66 Q231.727 1513.66 234.782 1518.27 Q237.861 1522.85 237.861 1531.6 Q237.861 1540.33 234.782 1544.94 Q231.727 1549.52 225.917 1549.52 Q220.106 1549.52 217.028 1544.94 Q213.972 1540.33 213.972 1531.6 Q213.972 1522.85 217.028 1518.27 Q220.106 1513.66 225.917 1513.66 Z\" fill=\"#000000\" fill-rule=\"nonzero\" fill-opacity=\"1\" /><path clip-path=\"url(#clip050)\" d=\"M696.75 1544.91 L713.069 1544.91 L713.069 1548.85 L691.125 1548.85 L691.125 1544.91 Q693.787 1542.16 698.37 1537.53 Q702.976 1532.88 704.157 1531.53 Q706.402 1529.01 707.282 1527.27 Q708.185 1525.51 708.185 1523.82 Q708.185 1521.07 706.24 1519.33 Q704.319 1517.6 701.217 1517.6 Q699.018 1517.6 696.564 1518.36 Q694.134 1519.13 691.356 1520.68 L691.356 1515.95 Q694.18 1514.82 696.634 1514.24 Q699.088 1513.66 701.125 1513.66 Q706.495 1513.66 709.689 1516.35 Q712.884 1519.03 712.884 1523.52 Q712.884 1525.65 712.074 1527.57 Q711.287 1529.47 709.18 1532.07 Q708.601 1532.74 705.5 1535.95 Q702.398 1539.15 696.75 1544.91 Z\" fill=\"#000000\" fill-rule=\"nonzero\" fill-opacity=\"1\" /><path clip-path=\"url(#clip050)\" d=\"M722.884 1542.97 L727.768 1542.97 L727.768 1548.85 L722.884 1548.85 L722.884 1542.97 Z\" fill=\"#000000\" fill-rule=\"nonzero\" fill-opacity=\"1\" /><path clip-path=\"url(#clip050)\" d=\"M737.999 1514.29 L756.356 1514.29 L756.356 1518.22 L742.282 1518.22 L742.282 1526.7 Q743.3 1526.35 744.319 1526.19 Q745.337 1526 746.356 1526 Q752.143 1526 755.522 1529.17 Q758.902 1532.34 758.902 1537.76 Q758.902 1543.34 755.43 1546.44 Q751.958 1549.52 745.638 1549.52 Q743.462 1549.52 741.194 1549.15 Q738.948 1548.78 736.541 1548.04 L736.541 1543.34 Q738.624 1544.47 740.847 1545.03 Q743.069 1545.58 745.546 1545.58 Q749.55 1545.58 751.888 1543.48 Q754.226 1541.37 754.226 1537.76 Q754.226 1534.15 751.888 1532.04 Q749.55 1529.94 745.546 1529.94 Q743.671 1529.94 741.796 1530.35 Q739.944 1530.77 737.999 1531.65 L737.999 1514.29 Z\" fill=\"#000000\" fill-rule=\"nonzero\" fill-opacity=\"1\" /><path clip-path=\"url(#clip050)\" d=\"M1213.89 1514.29 L1232.25 1514.29 L1232.25 1518.22 L1218.17 1518.22 L1218.17 1526.7 Q1219.19 1526.35 1220.21 1526.19 Q1221.23 1526 1222.25 1526 Q1228.03 1526 1231.41 1529.17 Q1234.79 1532.34 1234.79 1537.76 Q1234.79 1543.34 1231.32 1546.44 Q1227.85 1549.52 1221.53 1549.52 Q1219.35 1549.52 1217.08 1549.15 Q1214.84 1548.78 1212.43 1548.04 L1212.43 1543.34 Q1214.52 1544.47 1216.74 1545.03 Q1218.96 1545.58 1221.44 1545.58 Q1225.44 1545.58 1227.78 1543.48 Q1230.12 1541.37 1230.12 1537.76 Q1230.12 1534.15 1227.78 1532.04 Q1225.44 1529.94 1221.44 1529.94 Q1219.56 1529.94 1217.69 1530.35 Q1215.83 1530.77 1213.89 1531.65 L1213.89 1514.29 Z\" fill=\"#000000\" fill-rule=\"nonzero\" fill-opacity=\"1\" /><path clip-path=\"url(#clip050)\" d=\"M1244.01 1542.97 L1248.89 1542.97 L1248.89 1548.85 L1244.01 1548.85 L1244.01 1542.97 Z\" fill=\"#000000\" fill-rule=\"nonzero\" fill-opacity=\"1\" /><path clip-path=\"url(#clip050)\" d=\"M1269.08 1517.37 Q1265.46 1517.37 1263.64 1520.93 Q1261.83 1524.47 1261.83 1531.6 Q1261.83 1538.71 1263.64 1542.27 Q1265.46 1545.82 1269.08 1545.82 Q1272.71 1545.82 1274.51 1542.27 Q1276.34 1538.71 1276.34 1531.6 Q1276.34 1524.47 1274.51 1520.93 Q1272.71 1517.37 1269.08 1517.37 M1269.08 1513.66 Q1274.89 1513.66 1277.94 1518.27 Q1281.02 1522.85 1281.02 1531.6 Q1281.02 1540.33 1277.94 1544.94 Q1274.89 1549.52 1269.08 1549.52 Q1263.26 1549.52 1260.19 1544.94 Q1257.13 1540.33 1257.13 1531.6 Q1257.13 1522.85 1260.19 1518.27 Q1263.26 1513.66 1269.08 1513.66 Z\" fill=\"#000000\" fill-rule=\"nonzero\" fill-opacity=\"1\" /><path clip-path=\"url(#clip050)\" d=\"M1734.76 1514.29 L1756.98 1514.29 L1756.98 1516.28 L1744.43 1548.85 L1739.55 1548.85 L1751.35 1518.22 L1734.76 1518.22 L1734.76 1514.29 Z\" fill=\"#000000\" fill-rule=\"nonzero\" fill-opacity=\"1\" /><path clip-path=\"url(#clip050)\" d=\"M1766.1 1542.97 L1770.98 1542.97 L1770.98 1548.85 L1766.1 1548.85 L1766.1 1542.97 Z\" fill=\"#000000\" fill-rule=\"nonzero\" fill-opacity=\"1\" /><path clip-path=\"url(#clip050)\" d=\"M1781.22 1514.29 L1799.57 1514.29 L1799.57 1518.22 L1785.5 1518.22 L1785.5 1526.7 Q1786.52 1526.35 1787.54 1526.19 Q1788.55 1526 1789.57 1526 Q1795.36 1526 1798.74 1529.17 Q1802.12 1532.34 1802.12 1537.76 Q1802.12 1543.34 1798.65 1546.44 Q1795.17 1549.52 1788.85 1549.52 Q1786.68 1549.52 1784.41 1549.15 Q1782.16 1548.78 1779.76 1548.04 L1779.76 1543.34 Q1781.84 1544.47 1784.06 1545.03 Q1786.29 1545.58 1788.76 1545.58 Q1792.77 1545.58 1795.1 1543.48 Q1797.44 1541.37 1797.44 1537.76 Q1797.44 1534.15 1795.1 1532.04 Q1792.77 1529.94 1788.76 1529.94 Q1786.89 1529.94 1785.01 1530.35 Q1783.16 1530.77 1781.22 1531.65 L1781.22 1514.29 Z\" fill=\"#000000\" fill-rule=\"nonzero\" fill-opacity=\"1\" /><path clip-path=\"url(#clip050)\" d=\"M2242.22 1544.91 L2249.86 1544.91 L2249.86 1518.55 L2241.55 1520.21 L2241.55 1515.95 L2249.81 1514.29 L2254.49 1514.29 L2254.49 1544.91 L2262.13 1544.91 L2262.13 1548.85 L2242.22 1548.85 L2242.22 1544.91 Z\" fill=\"#000000\" fill-rule=\"nonzero\" fill-opacity=\"1\" /><path clip-path=\"url(#clip050)\" d=\"M2281.57 1517.37 Q2277.96 1517.37 2276.13 1520.93 Q2274.33 1524.47 2274.33 1531.6 Q2274.33 1538.71 2276.13 1542.27 Q2277.96 1545.82 2281.57 1545.82 Q2285.21 1545.82 2287.01 1542.27 Q2288.84 1538.71 2288.84 1531.6 Q2288.84 1524.47 2287.01 1520.93 Q2285.21 1517.37 2281.57 1517.37 M2281.57 1513.66 Q2287.38 1513.66 2290.44 1518.27 Q2293.52 1522.85 2293.52 1531.6 Q2293.52 1540.33 2290.44 1544.94 Q2287.38 1549.52 2281.57 1549.52 Q2275.76 1549.52 2272.69 1544.94 Q2269.63 1540.33 2269.63 1531.6 Q2269.63 1522.85 2272.69 1518.27 Q2275.76 1513.66 2281.57 1513.66 Z\" fill=\"#000000\" fill-rule=\"nonzero\" fill-opacity=\"1\" /><path clip-path=\"url(#clip050)\" d=\"M2301.74 1542.97 L2306.62 1542.97 L2306.62 1548.85 L2301.74 1548.85 L2301.74 1542.97 Z\" fill=\"#000000\" fill-rule=\"nonzero\" fill-opacity=\"1\" /><path clip-path=\"url(#clip050)\" d=\"M2326.81 1517.37 Q2323.19 1517.37 2321.37 1520.93 Q2319.56 1524.47 2319.56 1531.6 Q2319.56 1538.71 2321.37 1542.27 Q2323.19 1545.82 2326.81 1545.82 Q2330.44 1545.82 2332.25 1542.27 Q2334.07 1538.71 2334.07 1531.6 Q2334.07 1524.47 2332.25 1520.93 Q2330.44 1517.37 2326.81 1517.37 M2326.81 1513.66 Q2332.62 1513.66 2335.67 1518.27 Q2338.75 1522.85 2338.75 1531.6 Q2338.75 1540.33 2335.67 1544.94 Q2332.62 1549.52 2326.81 1549.52 Q2321 1549.52 2317.92 1544.94 Q2314.86 1540.33 2314.86 1531.6 Q2314.86 1522.85 2317.92 1518.27 Q2321 1513.66 2326.81 1513.66 Z\" fill=\"#000000\" fill-rule=\"nonzero\" fill-opacity=\"1\" /><polyline clip-path=\"url(#clip052)\" style=\"stroke:#000000; stroke-linecap:round; stroke-linejoin:round; stroke-width:2; stroke-opacity:0.1; fill:none\" points=\"140.696,1444.68 2352.76,1444.68 \"/>\n",
       "<polyline clip-path=\"url(#clip052)\" style=\"stroke:#000000; stroke-linecap:round; stroke-linejoin:round; stroke-width:2; stroke-opacity:0.1; fill:none\" points=\"140.696,1181.43 2352.76,1181.43 \"/>\n",
       "<polyline clip-path=\"url(#clip052)\" style=\"stroke:#000000; stroke-linecap:round; stroke-linejoin:round; stroke-width:2; stroke-opacity:0.1; fill:none\" points=\"140.696,918.187 2352.76,918.187 \"/>\n",
       "<polyline clip-path=\"url(#clip052)\" style=\"stroke:#000000; stroke-linecap:round; stroke-linejoin:round; stroke-width:2; stroke-opacity:0.1; fill:none\" points=\"140.696,654.942 2352.76,654.942 \"/>\n",
       "<polyline clip-path=\"url(#clip052)\" style=\"stroke:#000000; stroke-linecap:round; stroke-linejoin:round; stroke-width:2; stroke-opacity:0.1; fill:none\" points=\"140.696,391.698 2352.76,391.698 \"/>\n",
       "<polyline clip-path=\"url(#clip052)\" style=\"stroke:#000000; stroke-linecap:round; stroke-linejoin:round; stroke-width:2; stroke-opacity:0.1; fill:none\" points=\"140.696,128.453 2352.76,128.453 \"/>\n",
       "<polyline clip-path=\"url(#clip050)\" style=\"stroke:#000000; stroke-linecap:round; stroke-linejoin:round; stroke-width:4; stroke-opacity:1; fill:none\" points=\"140.696,1486.45 140.696,47.2441 \"/>\n",
       "<polyline clip-path=\"url(#clip050)\" style=\"stroke:#000000; stroke-linecap:round; stroke-linejoin:round; stroke-width:4; stroke-opacity:1; fill:none\" points=\"140.696,1444.68 159.593,1444.68 \"/>\n",
       "<polyline clip-path=\"url(#clip050)\" style=\"stroke:#000000; stroke-linecap:round; stroke-linejoin:round; stroke-width:4; stroke-opacity:1; fill:none\" points=\"140.696,1181.43 159.593,1181.43 \"/>\n",
       "<polyline clip-path=\"url(#clip050)\" style=\"stroke:#000000; stroke-linecap:round; stroke-linejoin:round; stroke-width:4; stroke-opacity:1; fill:none\" points=\"140.696,918.187 159.593,918.187 \"/>\n",
       "<polyline clip-path=\"url(#clip050)\" style=\"stroke:#000000; stroke-linecap:round; stroke-linejoin:round; stroke-width:4; stroke-opacity:1; fill:none\" points=\"140.696,654.942 159.593,654.942 \"/>\n",
       "<polyline clip-path=\"url(#clip050)\" style=\"stroke:#000000; stroke-linecap:round; stroke-linejoin:round; stroke-width:4; stroke-opacity:1; fill:none\" points=\"140.696,391.698 159.593,391.698 \"/>\n",
       "<polyline clip-path=\"url(#clip050)\" style=\"stroke:#000000; stroke-linecap:round; stroke-linejoin:round; stroke-width:4; stroke-opacity:1; fill:none\" points=\"140.696,128.453 159.593,128.453 \"/>\n",
       "<path clip-path=\"url(#clip050)\" d=\"M92.7512 1430.47 Q89.1401 1430.47 87.3114 1434.04 Q85.5058 1437.58 85.5058 1444.71 Q85.5058 1451.82 87.3114 1455.38 Q89.1401 1458.92 92.7512 1458.92 Q96.3854 1458.92 98.1909 1455.38 Q100.02 1451.82 100.02 1444.71 Q100.02 1437.58 98.1909 1434.04 Q96.3854 1430.47 92.7512 1430.47 M92.7512 1426.77 Q98.5613 1426.77 101.617 1431.38 Q104.696 1435.96 104.696 1444.71 Q104.696 1453.44 101.617 1458.04 Q98.5613 1462.63 92.7512 1462.63 Q86.941 1462.63 83.8623 1458.04 Q80.8068 1453.44 80.8068 1444.71 Q80.8068 1435.96 83.8623 1431.38 Q86.941 1426.77 92.7512 1426.77 Z\" fill=\"#000000\" fill-rule=\"nonzero\" fill-opacity=\"1\" /><path clip-path=\"url(#clip050)\" d=\"M83.7929 1164.15 L102.149 1164.15 L102.149 1168.09 L88.0753 1168.09 L88.0753 1176.56 Q89.0938 1176.21 90.1123 1176.05 Q91.1308 1175.86 92.1493 1175.86 Q97.9363 1175.86 101.316 1179.04 Q104.696 1182.21 104.696 1187.62 Q104.696 1193.2 101.223 1196.3 Q97.7511 1199.38 91.4317 1199.38 Q89.2558 1199.38 86.9873 1199.01 Q84.7419 1198.64 82.3346 1197.9 L82.3346 1193.2 Q84.4179 1194.34 86.6401 1194.89 Q88.8623 1195.45 91.3391 1195.45 Q95.3437 1195.45 97.6817 1193.34 Q100.02 1191.23 100.02 1187.62 Q100.02 1184.01 97.6817 1181.91 Q95.3437 1179.8 91.3391 1179.8 Q89.4641 1179.8 87.5892 1180.22 Q85.7373 1180.63 83.7929 1181.51 L83.7929 1164.15 Z\" fill=\"#000000\" fill-rule=\"nonzero\" fill-opacity=\"1\" /><path clip-path=\"url(#clip050)\" d=\"M53.3995 931.531 L61.0384 931.531 L61.0384 905.166 L52.7282 906.833 L52.7282 902.573 L60.9921 900.907 L65.668 900.907 L65.668 931.531 L73.3068 931.531 L73.3068 935.467 L53.3995 935.467 L53.3995 931.531 Z\" fill=\"#000000\" fill-rule=\"nonzero\" fill-opacity=\"1\" /><path clip-path=\"url(#clip050)\" d=\"M92.7512 903.985 Q89.1401 903.985 87.3114 907.55 Q85.5058 911.092 85.5058 918.221 Q85.5058 925.328 87.3114 928.893 Q89.1401 932.434 92.7512 932.434 Q96.3854 932.434 98.1909 928.893 Q100.02 925.328 100.02 918.221 Q100.02 911.092 98.1909 907.55 Q96.3854 903.985 92.7512 903.985 M92.7512 900.282 Q98.5613 900.282 101.617 904.888 Q104.696 909.471 104.696 918.221 Q104.696 926.948 101.617 931.555 Q98.5613 936.138 92.7512 936.138 Q86.941 936.138 83.8623 931.555 Q80.8068 926.948 80.8068 918.221 Q80.8068 909.471 83.8623 904.888 Q86.941 900.282 92.7512 900.282 Z\" fill=\"#000000\" fill-rule=\"nonzero\" fill-opacity=\"1\" /><path clip-path=\"url(#clip050)\" d=\"M54.3949 668.287 L62.0337 668.287 L62.0337 641.921 L53.7236 643.588 L53.7236 639.329 L61.9874 637.662 L66.6633 637.662 L66.6633 668.287 L74.3022 668.287 L74.3022 672.222 L54.3949 672.222 L54.3949 668.287 Z\" fill=\"#000000\" fill-rule=\"nonzero\" fill-opacity=\"1\" /><path clip-path=\"url(#clip050)\" d=\"M83.7929 637.662 L102.149 637.662 L102.149 641.597 L88.0753 641.597 L88.0753 650.07 Q89.0938 649.722 90.1123 649.56 Q91.1308 649.375 92.1493 649.375 Q97.9363 649.375 101.316 652.546 Q104.696 655.718 104.696 661.134 Q104.696 666.713 101.223 669.815 Q97.7511 672.893 91.4317 672.893 Q89.2558 672.893 86.9873 672.523 Q84.7419 672.153 82.3346 671.412 L82.3346 666.713 Q84.4179 667.847 86.6401 668.403 Q88.8623 668.958 91.3391 668.958 Q95.3437 668.958 97.6817 666.852 Q100.02 664.745 100.02 661.134 Q100.02 657.523 97.6817 655.417 Q95.3437 653.31 91.3391 653.31 Q89.4641 653.31 87.5892 653.727 Q85.7373 654.144 83.7929 655.023 L83.7929 637.662 Z\" fill=\"#000000\" fill-rule=\"nonzero\" fill-opacity=\"1\" /><path clip-path=\"url(#clip050)\" d=\"M56.6171 405.043 L72.9365 405.043 L72.9365 408.978 L50.9921 408.978 L50.9921 405.043 Q53.6541 402.288 58.2375 397.658 Q62.8439 393.006 64.0245 391.663 Q66.2698 389.14 67.1494 387.404 Q68.0522 385.645 68.0522 383.955 Q68.0522 381.2 66.1078 379.464 Q64.1865 377.728 61.0847 377.728 Q58.8856 377.728 56.4319 378.492 Q54.0014 379.256 51.2236 380.807 L51.2236 376.084 Q54.0477 374.95 56.5014 374.371 Q58.955 373.793 60.9921 373.793 Q66.3624 373.793 69.5568 376.478 Q72.7513 379.163 72.7513 383.654 Q72.7513 385.783 71.9411 387.705 Q71.1541 389.603 69.0476 392.195 Q68.4689 392.867 65.367 396.084 Q62.2652 399.279 56.6171 405.043 Z\" fill=\"#000000\" fill-rule=\"nonzero\" fill-opacity=\"1\" /><path clip-path=\"url(#clip050)\" d=\"M92.7512 377.496 Q89.1401 377.496 87.3114 381.061 Q85.5058 384.603 85.5058 391.732 Q85.5058 398.839 87.3114 402.404 Q89.1401 405.945 92.7512 405.945 Q96.3854 405.945 98.1909 402.404 Q100.02 398.839 100.02 391.732 Q100.02 384.603 98.1909 381.061 Q96.3854 377.496 92.7512 377.496 M92.7512 373.793 Q98.5613 373.793 101.617 378.399 Q104.696 382.982 104.696 391.732 Q104.696 400.459 101.617 405.066 Q98.5613 409.649 92.7512 409.649 Q86.941 409.649 83.8623 405.066 Q80.8068 400.459 80.8068 391.732 Q80.8068 382.982 83.8623 378.399 Q86.941 373.793 92.7512 373.793 Z\" fill=\"#000000\" fill-rule=\"nonzero\" fill-opacity=\"1\" /><path clip-path=\"url(#clip050)\" d=\"M57.6125 141.798 L73.9318 141.798 L73.9318 145.733 L51.9875 145.733 L51.9875 141.798 Q54.6495 139.043 59.2328 134.414 Q63.8393 129.761 65.0198 128.419 Q67.2652 125.895 68.1448 124.159 Q69.0476 122.4 69.0476 120.71 Q69.0476 117.956 67.1032 116.22 Q65.1819 114.483 62.08 114.483 Q59.881 114.483 57.4273 115.247 Q54.9967 116.011 52.219 117.562 L52.219 112.84 Q55.043 111.706 57.4967 111.127 Q59.9504 110.548 61.9874 110.548 Q67.3578 110.548 70.5522 113.233 Q73.7466 115.919 73.7466 120.409 Q73.7466 122.539 72.9365 124.46 Q72.1494 126.358 70.0429 128.951 Q69.4642 129.622 66.3624 132.84 Q63.2606 136.034 57.6125 141.798 Z\" fill=\"#000000\" fill-rule=\"nonzero\" fill-opacity=\"1\" /><path clip-path=\"url(#clip050)\" d=\"M83.7929 111.173 L102.149 111.173 L102.149 115.108 L88.0753 115.108 L88.0753 123.581 Q89.0938 123.233 90.1123 123.071 Q91.1308 122.886 92.1493 122.886 Q97.9363 122.886 101.316 126.057 Q104.696 129.229 104.696 134.645 Q104.696 140.224 101.223 143.326 Q97.7511 146.405 91.4317 146.405 Q89.2558 146.405 86.9873 146.034 Q84.7419 145.664 82.3346 144.923 L82.3346 140.224 Q84.4179 141.358 86.6401 141.914 Q88.8623 142.469 91.3391 142.469 Q95.3437 142.469 97.6817 140.363 Q100.02 138.256 100.02 134.645 Q100.02 131.034 97.6817 128.928 Q95.3437 126.821 91.3391 126.821 Q89.4641 126.821 87.5892 127.238 Q85.7373 127.655 83.7929 128.534 L83.7929 111.173 Z\" fill=\"#000000\" fill-rule=\"nonzero\" fill-opacity=\"1\" /><circle clip-path=\"url(#clip052)\" cx=\"203.301\" cy=\"1351.28\" r=\"14.4\" fill=\"#009af9\" fill-rule=\"evenodd\" fill-opacity=\"1\" stroke=\"#000000\" stroke-opacity=\"1\" stroke-width=\"3.2\"/>\n",
       "<circle clip-path=\"url(#clip052)\" cx=\"411.986\" cy=\"1300.87\" r=\"14.4\" fill=\"#009af9\" fill-rule=\"evenodd\" fill-opacity=\"1\" stroke=\"#000000\" stroke-opacity=\"1\" stroke-width=\"3.2\"/>\n",
       "<circle clip-path=\"url(#clip052)\" cx=\"620.671\" cy=\"1195.83\" r=\"14.4\" fill=\"#009af9\" fill-rule=\"evenodd\" fill-opacity=\"1\" stroke=\"#000000\" stroke-opacity=\"1\" stroke-width=\"3.2\"/>\n",
       "<circle clip-path=\"url(#clip052)\" cx=\"829.356\" cy=\"1086.6\" r=\"14.4\" fill=\"#009af9\" fill-rule=\"evenodd\" fill-opacity=\"1\" stroke=\"#000000\" stroke-opacity=\"1\" stroke-width=\"3.2\"/>\n",
       "<circle clip-path=\"url(#clip052)\" cx=\"1038.04\" cy=\"1001.18\" r=\"14.4\" fill=\"#009af9\" fill-rule=\"evenodd\" fill-opacity=\"1\" stroke=\"#000000\" stroke-opacity=\"1\" stroke-width=\"3.2\"/>\n",
       "<circle clip-path=\"url(#clip052)\" cx=\"1246.73\" cy=\"887.882\" r=\"14.4\" fill=\"#009af9\" fill-rule=\"evenodd\" fill-opacity=\"1\" stroke=\"#000000\" stroke-opacity=\"1\" stroke-width=\"3.2\"/>\n",
       "<circle clip-path=\"url(#clip052)\" cx=\"1455.41\" cy=\"671.618\" r=\"14.4\" fill=\"#009af9\" fill-rule=\"evenodd\" fill-opacity=\"1\" stroke=\"#000000\" stroke-opacity=\"1\" stroke-width=\"3.2\"/>\n",
       "<circle clip-path=\"url(#clip052)\" cx=\"1664.1\" cy=\"599.451\" r=\"14.4\" fill=\"#009af9\" fill-rule=\"evenodd\" fill-opacity=\"1\" stroke=\"#000000\" stroke-opacity=\"1\" stroke-width=\"3.2\"/>\n",
       "<circle clip-path=\"url(#clip052)\" cx=\"1872.78\" cy=\"414.921\" r=\"14.4\" fill=\"#009af9\" fill-rule=\"evenodd\" fill-opacity=\"1\" stroke=\"#000000\" stroke-opacity=\"1\" stroke-width=\"3.2\"/>\n",
       "<circle clip-path=\"url(#clip052)\" cx=\"2081.47\" cy=\"242.152\" r=\"14.4\" fill=\"#009af9\" fill-rule=\"evenodd\" fill-opacity=\"1\" stroke=\"#000000\" stroke-opacity=\"1\" stroke-width=\"3.2\"/>\n",
       "<circle clip-path=\"url(#clip052)\" cx=\"2290.15\" cy=\"111.9\" r=\"14.4\" fill=\"#009af9\" fill-rule=\"evenodd\" fill-opacity=\"1\" stroke=\"#000000\" stroke-opacity=\"1\" stroke-width=\"3.2\"/>\n",
       "<polyline clip-path=\"url(#clip052)\" style=\"stroke:#e26f46; stroke-linecap:round; stroke-linejoin:round; stroke-width:4; stroke-opacity:1; fill:none\" points=\"203.301,1445.72 411.986,1317.73 620.671,1189.75 829.356,1061.76 1038.04,933.775 1246.73,805.789 1455.41,677.804 1664.1,549.819 1872.78,421.834 2081.47,293.848 2290.15,165.863 \"/>\n",
       "<polyline clip-path=\"url(#clip052)\" style=\"stroke:#3da44d; stroke-linecap:round; stroke-linejoin:round; stroke-width:4; stroke-opacity:1; fill:none\" points=\"203.301,1367.83 411.986,1286.58 620.671,1194.94 829.356,1092.91 1038.04,980.507 1246.73,857.714 1455.41,724.536 1664.1,580.974 1872.78,427.026 2081.47,262.694 2290.15,87.9763 \"/>\n",
       "<path clip-path=\"url(#clip050)\" d=\"M214.431 302.578 L488.646 302.578 L488.646 95.2176 L214.431 95.2176  Z\" fill=\"#ffffff\" fill-rule=\"evenodd\" fill-opacity=\"1\"/>\n",
       "<polyline clip-path=\"url(#clip050)\" style=\"stroke:#000000; stroke-linecap:round; stroke-linejoin:round; stroke-width:4; stroke-opacity:1; fill:none\" points=\"214.431,302.578 488.646,302.578 488.646,95.2176 214.431,95.2176 214.431,302.578 \"/>\n",
       "<circle clip-path=\"url(#clip050)\" cx=\"312.745\" cy=\"147.058\" r=\"23.04\" fill=\"#009af9\" fill-rule=\"evenodd\" fill-opacity=\"1\" stroke=\"#000000\" stroke-opacity=\"1\" stroke-width=\"5.12\"/>\n",
       "<path clip-path=\"url(#clip050)\" d=\"M424.901 166.745 Q423.095 171.375 421.382 172.787 Q419.67 174.199 416.799 174.199 L413.396 174.199 L413.396 170.634 L415.896 170.634 Q417.656 170.634 418.628 169.8 Q419.6 168.967 420.781 165.865 L421.545 163.921 L411.058 138.412 L415.572 138.412 L423.674 158.689 L431.776 138.412 L436.29 138.412 L424.901 166.745 Z\" fill=\"#000000\" fill-rule=\"nonzero\" fill-opacity=\"1\" /><path clip-path=\"url(#clip050)\" d=\"M443.581 160.402 L451.22 160.402 L451.22 134.037 L442.91 135.703 L442.91 131.444 L451.174 129.778 L455.85 129.778 L455.85 160.402 L463.489 160.402 L463.489 164.338 L443.581 164.338 L443.581 160.402 Z\" fill=\"#000000\" fill-rule=\"nonzero\" fill-opacity=\"1\" /><polyline clip-path=\"url(#clip050)\" style=\"stroke:#e26f46; stroke-linecap:round; stroke-linejoin:round; stroke-width:4; stroke-opacity:1; fill:none\" points=\"239.009,198.898 386.48,198.898 \"/>\n",
       "<path clip-path=\"url(#clip050)\" d=\"M424.901 218.585 Q423.095 223.215 421.382 224.627 Q419.67 226.039 416.799 226.039 L413.396 226.039 L413.396 222.474 L415.896 222.474 Q417.656 222.474 418.628 221.64 Q419.6 220.807 420.781 217.705 L421.545 215.761 L411.058 190.252 L415.572 190.252 L423.674 210.529 L431.776 190.252 L436.29 190.252 L424.901 218.585 Z\" fill=\"#000000\" fill-rule=\"nonzero\" fill-opacity=\"1\" /><path clip-path=\"url(#clip050)\" d=\"M446.799 212.242 L463.118 212.242 L463.118 216.178 L441.174 216.178 L441.174 212.242 Q443.836 209.488 448.419 204.858 Q453.026 200.205 454.206 198.863 Q456.452 196.34 457.331 194.604 Q458.234 192.844 458.234 191.155 Q458.234 188.4 456.29 186.664 Q454.368 184.928 451.267 184.928 Q449.068 184.928 446.614 185.692 Q444.183 186.455 441.406 188.006 L441.406 183.284 Q444.23 182.15 446.683 181.571 Q449.137 180.993 451.174 180.993 Q456.544 180.993 459.739 183.678 Q462.933 186.363 462.933 190.854 Q462.933 192.983 462.123 194.905 Q461.336 196.803 459.23 199.395 Q458.651 200.067 455.549 203.284 Q452.447 206.479 446.799 212.242 Z\" fill=\"#000000\" fill-rule=\"nonzero\" fill-opacity=\"1\" /><polyline clip-path=\"url(#clip050)\" style=\"stroke:#3da44d; stroke-linecap:round; stroke-linejoin:round; stroke-width:4; stroke-opacity:1; fill:none\" points=\"239.009,250.738 386.48,250.738 \"/>\n",
       "<path clip-path=\"url(#clip050)\" d=\"M424.901 270.425 Q423.095 275.055 421.382 276.467 Q419.67 277.879 416.799 277.879 L413.396 277.879 L413.396 274.314 L415.896 274.314 Q417.656 274.314 418.628 273.48 Q419.6 272.647 420.781 269.545 L421.545 267.601 L411.058 242.092 L415.572 242.092 L423.674 262.369 L431.776 242.092 L436.29 242.092 L424.901 270.425 Z\" fill=\"#000000\" fill-rule=\"nonzero\" fill-opacity=\"1\" /><path clip-path=\"url(#clip050)\" d=\"M456.938 249.383 Q460.294 250.101 462.169 252.369 Q464.067 254.638 464.067 257.971 Q464.067 263.087 460.549 265.888 Q457.03 268.689 450.549 268.689 Q448.373 268.689 446.058 268.249 Q443.767 267.832 441.313 266.976 L441.313 262.462 Q443.257 263.596 445.572 264.175 Q447.887 264.754 450.41 264.754 Q454.808 264.754 457.1 263.018 Q459.415 261.281 459.415 257.971 Q459.415 254.916 457.262 253.203 Q455.132 251.467 451.313 251.467 L447.285 251.467 L447.285 247.624 L451.498 247.624 Q454.947 247.624 456.776 246.258 Q458.605 244.87 458.605 242.277 Q458.605 239.615 456.706 238.203 Q454.831 236.768 451.313 236.768 Q449.392 236.768 447.193 237.184 Q444.993 237.601 442.355 238.481 L442.355 234.314 Q445.017 233.573 447.331 233.203 Q449.669 232.833 451.73 232.833 Q457.054 232.833 460.155 235.263 Q463.257 237.67 463.257 241.791 Q463.257 244.661 461.614 246.652 Q459.97 248.62 456.938 249.383 Z\" fill=\"#000000\" fill-rule=\"nonzero\" fill-opacity=\"1\" /></svg>\n"
      ]
     },
     "execution_count": 109,
     "metadata": {},
     "output_type": "execute_result"
    }
   ],
   "source": [
    "scatter(xdata, ydata)\n",
    "plot!(xdata,linfity)\n",
    "plot!(xdata,quadfity)"
   ]
  },
  {
   "cell_type": "code",
   "execution_count": 20,
   "id": "be89e86d",
   "metadata": {},
   "outputs": [
    {
     "data": {
      "text/plain": [
       "chisq (generic function with 1 method)"
      ]
     },
     "execution_count": 20,
     "metadata": {},
     "output_type": "execute_result"
    }
   ],
   "source": [
    "function chisq(xdata, ydata, yerr, model, params)\n",
    "    ymodel = model(xdata, params)\n",
    "    return sum(((ydata .- ymodel) ./ yerr) .^2)\n",
    "end"
   ]
  },
  {
   "cell_type": "code",
   "execution_count": 110,
   "id": "0b1445c3",
   "metadata": {},
   "outputs": [
    {
     "data": {
      "text/plain": [
       "10.56019744657831"
      ]
     },
     "execution_count": 110,
     "metadata": {},
     "output_type": "execute_result"
    }
   ],
   "source": [
    "chisq(xdata, ydata, sigma_y, linmodel, coef(linfit))"
   ]
  },
  {
   "cell_type": "code",
   "execution_count": 111,
   "id": "9e1154cb",
   "metadata": {},
   "outputs": [
    {
     "data": {
      "text/plain": [
       "2.214653867706747"
      ]
     },
     "execution_count": 111,
     "metadata": {},
     "output_type": "execute_result"
    }
   ],
   "source": [
    "chisq(xdata, ydata, sigma_y, quadmodel, coef(quadfit))"
   ]
  },
  {
   "cell_type": "code",
   "execution_count": 112,
   "id": "678d85ba",
   "metadata": {},
   "outputs": [
    {
     "data": {
      "text/plain": [
       "0.017962397055533368"
      ]
     },
     "execution_count": 112,
     "metadata": {},
     "output_type": "execute_result"
    }
   ],
   "source": [
    "lambda_max_minus_min = 0.1\n",
    "delta_quad_coef = stderror(quadfit)[3]"
   ]
  },
  {
   "cell_type": "code",
   "execution_count": 113,
   "id": "c3173a7d",
   "metadata": {},
   "outputs": [
    {
     "data": {
      "text/plain": [
       "2.2209857580146153"
      ]
     },
     "execution_count": 113,
     "metadata": {},
     "output_type": "execute_result"
    }
   ],
   "source": [
    "factor_pp = lambda_max_minus_min/delta_quad_coef/sqrt(2*π)"
   ]
  },
  {
   "cell_type": "code",
   "execution_count": 114,
   "id": "de8e4c65",
   "metadata": {},
   "outputs": [
    {
     "data": {
      "text/plain": [
       "0.015409489016174945"
      ]
     },
     "execution_count": 114,
     "metadata": {},
     "output_type": "execute_result"
    }
   ],
   "source": [
    "p_ratio = exp((chisq(xdata, ydata, sigma_y, quadmodel, coef(quadfit))-chisq(xdata, ydata, sigma_y, linmodel, coef(linfit)))/2)"
   ]
  },
  {
   "cell_type": "code",
   "execution_count": 115,
   "id": "be403f35",
   "metadata": {},
   "outputs": [
    {
     "data": {
      "text/plain": [
       "0.0342242556432072"
      ]
     },
     "execution_count": 115,
     "metadata": {},
     "output_type": "execute_result"
    }
   ],
   "source": [
    "p_ratio_total = p_ratio*factor_pp"
   ]
  },
  {
   "cell_type": "code",
   "execution_count": 116,
   "id": "740e4be6",
   "metadata": {},
   "outputs": [
    {
     "data": {
      "text/plain": [
       "29.21904307942134"
      ]
     },
     "execution_count": 116,
     "metadata": {},
     "output_type": "execute_result"
    }
   ],
   "source": [
    "1/p_ratio_total"
   ]
  },
  {
   "cell_type": "code",
   "execution_count": null,
   "id": "15d54b39",
   "metadata": {},
   "outputs": [],
   "source": []
  }
 ],
 "metadata": {
  "kernelspec": {
   "display_name": "Julia 1.8.5",
   "language": "julia",
   "name": "julia-1.8"
  },
  "language_info": {
   "file_extension": ".jl",
   "mimetype": "application/julia",
   "name": "julia",
   "version": "1.8.5"
  }
 },
 "nbformat": 4,
 "nbformat_minor": 5
}
