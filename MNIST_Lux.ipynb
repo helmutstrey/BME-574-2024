{
 "cells": [
  {
   "cell_type": "code",
   "execution_count": 1,
   "id": "cdbd108b-fc64-4eab-9d44-caab8760a408",
   "metadata": {},
   "outputs": [
    {
     "name": "stderr",
     "output_type": "stream",
     "text": [
      "\u001b[32m\u001b[1m  Activating\u001b[22m\u001b[39m project at `~/Documents/programming/BME-574-2024`\n"
     ]
    }
   ],
   "source": [
    "import Pkg\n",
    "Pkg.activate(\".\")"
   ]
  },
  {
   "cell_type": "code",
   "execution_count": 9,
   "id": "4ad61c4a-60e4-4054-86c9-8fd9c81d1bb8",
   "metadata": {},
   "outputs": [
    {
     "name": "stderr",
     "output_type": "stream",
     "text": [
      "\u001b[32m\u001b[1m   Resolving\u001b[22m\u001b[39m package versions...\n",
      "\u001b[32m\u001b[1m   Installed\u001b[22m\u001b[39m OptimizationOptimisers ───── v0.3.4\n",
      "\u001b[32m\u001b[1m   Installed\u001b[22m\u001b[39m Enzyme_jll ───────────────── v0.0.159+0\n",
      "\u001b[32m\u001b[1m   Installed\u001b[22m\u001b[39m GLMakie ──────────────────── v0.10.15\n",
      "\u001b[32m\u001b[1m   Installed\u001b[22m\u001b[39m OptimizationPolyalgorithms ─ v0.3.0\n",
      "\u001b[32m\u001b[1m   Installed\u001b[22m\u001b[39m Plots ────────────────────── v1.40.7\n",
      "\u001b[32m\u001b[1m   Installed\u001b[22m\u001b[39m Enzyme ───────────────────── v0.13.13\n",
      "\u001b[32m\u001b[1m   Installed\u001b[22m\u001b[39m GPUCompiler ──────────────── v1.0.1\n",
      "\u001b[32m\u001b[1m    Updating\u001b[22m\u001b[39m `~/Documents/programming/BME-574-2024/Project.toml`\n",
      "  \u001b[90m[13f3f980] \u001b[39m\u001b[93m↑ CairoMakie v0.12.13 ⇒ v0.12.15\u001b[39m\n",
      "  \u001b[90m[717857b8] \u001b[39m\u001b[93m↑ DSP v0.7.9 ⇒ v0.7.10\u001b[39m\n",
      "  \u001b[90m[7da242da] \u001b[39m\u001b[92m+ Enzyme v0.13.13\u001b[39m\n",
      "  \u001b[90m[f6369f11] \u001b[39m\u001b[93m↑ ForwardDiff v0.10.36 ⇒ v0.10.37\u001b[39m\n",
      "  \u001b[90m[e9467ef8] \u001b[39m\u001b[93m↑ GLMakie v0.10.13 ⇒ v0.10.15\u001b[39m\n",
      "  \u001b[90m[7f7a1694] \u001b[39m\u001b[93m↑ Optimization v3.26.3 ⇒ v4.0.5\u001b[39m\n",
      "  \u001b[90m[36348300] \u001b[39m\u001b[93m↑ OptimizationOptimJL v0.3.2 ⇒ v0.4.1\u001b[39m\n",
      "  \u001b[90m[42dfb2eb] \u001b[39m\u001b[93m↑ OptimizationOptimisers v0.2.1 ⇒ v0.3.4\u001b[39m\n",
      "  \u001b[90m[500b13db] \u001b[39m\u001b[93m↑ OptimizationPolyalgorithms v0.2.1 ⇒ v0.3.0\u001b[39m\n",
      "\u001b[32m⌃\u001b[39m \u001b[90m[91a5bcdd] \u001b[39m\u001b[93m↑ Plots v1.40.5 ⇒ v1.40.7\u001b[39m\n",
      "\u001b[32m\u001b[1m    Updating\u001b[22m\u001b[39m `~/Documents/programming/BME-574-2024/Manifest.toml`\n",
      "  \u001b[90m[79e6a3ab] \u001b[39m\u001b[93m↑ Adapt v4.1.0 ⇒ v4.1.1\u001b[39m\n",
      "  \u001b[90m[13f3f980] \u001b[39m\u001b[93m↑ CairoMakie v0.12.13 ⇒ v0.12.15\u001b[39m\n",
      "  \u001b[90m[717857b8] \u001b[39m\u001b[93m↑ DSP v0.7.9 ⇒ v0.7.10\u001b[39m\n",
      "  \u001b[90m[a0c0ee7d] \u001b[39m\u001b[92m+ DifferentiationInterface v0.6.18\u001b[39m\n",
      "  \u001b[90m[7da242da] \u001b[39m\u001b[92m+ Enzyme v0.13.13\u001b[39m\n",
      "  \u001b[90m[f6369f11] \u001b[39m\u001b[93m↑ ForwardDiff v0.10.36 ⇒ v0.10.37\u001b[39m\n",
      "  \u001b[90m[663a7486] \u001b[39m\u001b[93m↑ FreeTypeAbstraction v0.10.3 ⇒ v0.10.4\u001b[39m\n",
      "  \u001b[90m[e9467ef8] \u001b[39m\u001b[93m↑ GLMakie v0.10.13 ⇒ v0.10.15\u001b[39m\n",
      "  \u001b[90m[61eb1bfa] \u001b[39m\u001b[92m+ GPUCompiler v1.0.1\u001b[39m\n",
      "  \u001b[90m[cd3eb016] \u001b[39m\u001b[93m↑ HTTP v1.10.8 ⇒ v1.10.9\u001b[39m\n",
      "  \u001b[90m[82e4d734] \u001b[39m\u001b[93m↑ ImageIO v0.6.8 ⇒ v0.6.9\u001b[39m\n",
      "  \u001b[90m[ee78f7c6] \u001b[39m\u001b[93m↑ Makie v0.21.13 ⇒ v0.21.15\u001b[39m\n",
      "  \u001b[90m[b8f27783] \u001b[39m\u001b[93m↑ MathOptInterface v1.32.0 ⇒ v1.33.0\u001b[39m\n",
      "  \u001b[90m[0a4f8689] \u001b[39m\u001b[93m↑ MathTeXEngine v0.6.1 ⇒ v0.6.2\u001b[39m\n",
      "  \u001b[90m[d8793406] \u001b[39m\u001b[92m+ ObjectFile v0.4.2\u001b[39m\n",
      "  \u001b[90m[7f7a1694] \u001b[39m\u001b[93m↑ Optimization v3.26.3 ⇒ v4.0.5\u001b[39m\n",
      "  \u001b[90m[bca83a33] \u001b[39m\u001b[93m↑ OptimizationBase v1.2.0 ⇒ v2.3.0\u001b[39m\n",
      "  \u001b[90m[36348300] \u001b[39m\u001b[93m↑ OptimizationOptimJL v0.3.2 ⇒ v0.4.1\u001b[39m\n",
      "  \u001b[90m[42dfb2eb] \u001b[39m\u001b[93m↑ OptimizationOptimisers v0.2.1 ⇒ v0.3.4\u001b[39m\n",
      "  \u001b[90m[500b13db] \u001b[39m\u001b[93m↑ OptimizationPolyalgorithms v0.2.1 ⇒ v0.3.0\u001b[39m\n",
      "  \u001b[90m[ccf2f8ad] \u001b[39m\u001b[93m↑ PlotThemes v3.2.0 ⇒ v3.3.0\u001b[39m\n",
      "  \u001b[90m[995b91a9] \u001b[39m\u001b[93m↑ PlotUtils v1.4.2 ⇒ v1.4.3\u001b[39m\n",
      "\u001b[32m⌃\u001b[39m \u001b[90m[91a5bcdd] \u001b[39m\u001b[93m↑ Plots v1.40.5 ⇒ v1.40.7\u001b[39m\n",
      "  \u001b[90m[731186ca] \u001b[39m\u001b[93m↑ RecursiveArrayTools v3.27.0 ⇒ v3.27.3\u001b[39m\n",
      "  \u001b[90m[0bca4576] \u001b[39m\u001b[93m↑ SciMLBase v2.57.1 ⇒ v2.58.0\u001b[39m\n",
      "  \u001b[90m[c0aeaf25] \u001b[39m\u001b[93m↑ SciMLOperators v0.3.11 ⇒ v0.3.12\u001b[39m\n",
      "  \u001b[90m[91c51154] \u001b[39m\u001b[93m↑ SentinelArrays v1.4.6 ⇒ v1.4.7\u001b[39m\n",
      "  \u001b[90m[9f842d2f] \u001b[39m\u001b[92m+ SparseConnectivityTracer v0.6.8\u001b[39m\n",
      "  \u001b[90m[0a514795] \u001b[39m\u001b[92m+ SparseMatrixColorings v0.4.8\u001b[39m\n",
      "  \u001b[90m[53d494c1] \u001b[39m\u001b[92m+ StructIO v0.3.1\u001b[39m\n",
      "  \u001b[90m[2efcf032] \u001b[39m\u001b[93m↑ SymbolicIndexingInterface v0.3.33 ⇒ v0.3.34\u001b[39m\n",
      "  \u001b[90m[731e570b] \u001b[39m\u001b[93m↑ TiffImages v0.10.2 ⇒ v0.11.0\u001b[39m\n",
      "  \u001b[90m[a759f4b9] \u001b[39m\u001b[92m+ TimerOutputs v0.5.25\u001b[39m\n",
      "  \u001b[90m[3d5dd08c] \u001b[39m\u001b[93m↑ VectorizationBase v0.21.70 ⇒ v0.21.71\u001b[39m\n",
      "  \u001b[90m[e3aaa7dc] \u001b[39m\u001b[92m+ WebP v0.1.2\u001b[39m\n",
      "\u001b[33m⌅\u001b[39m \u001b[90m[7cc45869] \u001b[39m\u001b[92m+ Enzyme_jll v0.0.159+0\u001b[39m\n",
      "  \u001b[90m[59f7168a] \u001b[39m\u001b[92m+ Giflib_jll v5.2.2+0\u001b[39m\n",
      "  \u001b[90m[c5f90fcd] \u001b[39m\u001b[92m+ libwebp_jll v1.4.0+0\u001b[39m\n",
      "\u001b[36m\u001b[1m        Info\u001b[22m\u001b[39m Packages marked with \u001b[32m⌃\u001b[39m and \u001b[33m⌅\u001b[39m have new versions available. Those with \u001b[32m⌃\u001b[39m may be upgradable, but those with \u001b[33m⌅\u001b[39m are restricted by compatibility constraints from upgrading. To see why use `status --outdated -m`\n",
      "\u001b[32m\u001b[1mPrecompiling\u001b[22m\u001b[39m project...\n",
      "\u001b[32m  ✓ \u001b[39m\u001b[90mStructIO\u001b[39m\n",
      "\u001b[32m  ✓ \u001b[39m\u001b[90mEnzyme_jll\u001b[39m\n",
      "\u001b[32m  ✓ \u001b[39m\u001b[90mlibwebp_jll\u001b[39m\n",
      "\u001b[33m  ✓ \u001b[39m\u001b[90mHTTP\u001b[39m\n",
      "\u001b[32m  ✓ \u001b[39m\u001b[90mOptim → OptimMOIExt\u001b[39m\n",
      "\u001b[32m  ✓ \u001b[39m\u001b[90mECOS\u001b[39m\n",
      "\u001b[32m  ✓ \u001b[39m\u001b[90mPlotThemes\u001b[39m\n",
      "\u001b[32m  ✓ \u001b[39m\u001b[90mRecipesPipeline\u001b[39m\n",
      "\u001b[32m  ✓ \u001b[39m\u001b[90mImageMorphology\u001b[39m\n",
      "\u001b[32m  ✓ \u001b[39m\u001b[90mObjectFile\u001b[39m\n",
      "\u001b[32m  ✓ \u001b[39m\u001b[90mWebP\u001b[39m\n",
      "\u001b[32m  ✓ \u001b[39m\u001b[90mClp\u001b[39m\n",
      "\u001b[32m  ✓ \u001b[39m\u001b[90mImageDistances\u001b[39m\n",
      "\u001b[32m  ✓ \u001b[39m\u001b[90mImageSegmentation\u001b[39m\n",
      "\u001b[32m  ✓ \u001b[39m\u001b[90mJuMP\u001b[39m\n",
      "\u001b[32m  ✓ \u001b[39mCompressedSensing\n",
      "\u001b[32m  ✓ \u001b[39m\u001b[90mLuxLib → LuxLibSLEEFPiratesExt\u001b[39m\n",
      "\u001b[32m  ✓ \u001b[39m\u001b[90mGPUCompiler\u001b[39m\n",
      "\u001b[32m  ✓ \u001b[39m\u001b[90mImageQualityIndexes\u001b[39m\n",
      "\u001b[32m  ✓ \u001b[39m\u001b[90mLuxLib → LuxLibLoopVectorizationExt\u001b[39m\n",
      "\u001b[32m  ✓ \u001b[39mImages\n",
      "\u001b[32m  ✓ \u001b[39mPlots\n",
      "\u001b[32m  ✓ \u001b[39m\u001b[90mPlots → UnitfulExt\u001b[39m\n",
      "\u001b[32m  ✓ \u001b[39m\u001b[90mPlots → FileIOExt\u001b[39m\n",
      "\u001b[32m  ✓ \u001b[39m\u001b[90mPlots → GeometryBasicsExt\u001b[39m\n",
      "\u001b[32m  ✓ \u001b[39mEnzyme\n",
      "\u001b[32m  ✓ \u001b[39m\u001b[90mEnzyme → EnzymeBFloat16sExt\u001b[39m\n",
      "\u001b[32m  ✓ \u001b[39m\u001b[90mEnzyme → EnzymeChainRulesCoreExt\u001b[39m\n",
      "\u001b[32m  ✓ \u001b[39m\u001b[90mQuadGK → QuadGKEnzymeExt\u001b[39m\n",
      "\u001b[32m  ✓ \u001b[39m\u001b[90mEnzyme → EnzymeLogExpFunctionsExt\u001b[39m\n",
      "\u001b[32m  ✓ \u001b[39m\u001b[90mDifferentiationInterface → DifferentiationInterfaceEnzymeExt\u001b[39m\n",
      "\u001b[32m  ✓ \u001b[39m\u001b[90mEnzyme → EnzymeSpecialFunctionsExt\u001b[39m\n",
      "\u001b[32m  ✓ \u001b[39mStatsPlots\n",
      "\u001b[32m  ✓ \u001b[39m\u001b[90mEnzyme → EnzymeStaticArraysExt\u001b[39m\n",
      "\u001b[32m  ✓ \u001b[39m\u001b[90mLuxLib → LuxLibEnzymeExt\u001b[39m\n",
      "\u001b[32m  ✓ \u001b[39m\u001b[90mLux → LuxEnzymeExt\u001b[39m\n",
      "\u001b[32m  ✓ \u001b[39m\u001b[90mMakie\u001b[39m\n",
      "\u001b[32m  ✓ \u001b[39m\u001b[90mSciMLBase → SciMLBaseMakieExt\u001b[39m\n",
      "\u001b[32m  ✓ \u001b[39m\u001b[90mOptimizationBase → OptimizationEnzymeExt\u001b[39m\n",
      "\u001b[32m  ✓ \u001b[39mOptimizationOptimisers\n",
      "\u001b[32m  ✓ \u001b[39mOptimizationPolyalgorithms\n",
      "\u001b[32m  ✓ \u001b[39mCairoMakie\n",
      "\u001b[32m  ✓ \u001b[39mGLMakie\n",
      "  43 dependencies successfully precompiled in 194 seconds. 574 already precompiled.\n",
      "  \u001b[33m1\u001b[39m dependency precompiled but a different version is currently loaded. Restart julia to access the new version\n"
     ]
    }
   ],
   "source": [
    "Pkg.add([\"Lux\", \"ADTypes\", \"MLUtils\", \"Optimisers\", \"Zygote\", \"OneHotArrays\", \"Random\", \"Statistics\", \"Printf\", \"MLDatasets\",\"Enzyme\"])"
   ]
  },
  {
   "cell_type": "code",
   "execution_count": 2,
   "id": "2f92f05f-58aa-44d4-a983-b1fa5d3ce056",
   "metadata": {},
   "outputs": [
    {
     "name": "stderr",
     "output_type": "stream",
     "text": [
      "\u001b[32m\u001b[1mPrecompiling\u001b[22m\u001b[39m LuxMLUtilsExt\n",
      "\u001b[32m  ✓ \u001b[39m\u001b[90mWeightInitializers → WeightInitializersGPUArraysExt\u001b[39m\n",
      "\u001b[32m  ✓ \u001b[39m\u001b[90mLux → LuxMLUtilsExt\u001b[39m\n",
      "\u001b[32m  ✓ \u001b[39m\u001b[90mLux → LuxZygoteExt\u001b[39m\n",
      "  3 dependencies successfully precompiled in 3 seconds. 241 already precompiled.\n",
      "\u001b[32m\u001b[1mPrecompiling\u001b[22m\u001b[39m MLDatasets\n",
      "\u001b[32m  ✓ \u001b[39m\u001b[90mDataDeps\u001b[39m\n",
      "\u001b[32m  ✓ \u001b[39m\u001b[90mCSV\u001b[39m\n",
      "\u001b[32m  ✓ \u001b[39mMLDatasets\n",
      "  3 dependencies successfully precompiled in 9 seconds. 200 already precompiled.\n"
     ]
    }
   ],
   "source": [
    "using Lux, ADTypes, MLUtils, Optimisers, Zygote, OneHotArrays, Random, Statistics, Printf, Enzyme\n",
    "using MLDatasets: MNIST"
   ]
  },
  {
   "cell_type": "code",
   "execution_count": 49,
   "id": "271de7e1-c49b-4fdd-ba4a-75654e23d4f1",
   "metadata": {},
   "outputs": [
    {
     "data": {
      "text/plain": [
       "loadmnist (generic function with 1 method)"
      ]
     },
     "execution_count": 49,
     "metadata": {},
     "output_type": "execute_result"
    }
   ],
   "source": [
    "function loadmnist(batchsize, train_split)\n",
    "    # Load MNIST\n",
    "    N = 60000\n",
    "    dataset = MNIST(; split=:train)\n",
    "    imgs = dataset.features[:, :, 1:N]\n",
    "    labels_raw = dataset.targets[1:N]\n",
    "\n",
    "    # Process images into (H, W, C, BS) batches\n",
    "    x_data = Float32.(reshape(imgs, size(imgs, 1), size(imgs, 2), 1, size(imgs, 3)))\n",
    "    y_data = onehotbatch(labels_raw, 0:9)\n",
    "    (x_train, y_train), (x_test, y_test) = splitobs((x_data, y_data); at=train_split)\n",
    "\n",
    "    return (\n",
    "        # Use DataLoader to automatically minibatch and shuffle the data\n",
    "        DataLoader(collect.((x_train, y_train)); batchsize, shuffle=true),\n",
    "        # Don't shuffle the test data\n",
    "        DataLoader(collect.((x_test, y_test)); batchsize, shuffle=false))\n",
    "end"
   ]
  },
  {
   "cell_type": "code",
   "execution_count": 41,
   "id": "8383b87b-964a-4416-b96d-c7e87676c4f0",
   "metadata": {},
   "outputs": [
    {
     "data": {
      "text/plain": [
       "Chain(\n",
       "    layer_1 = Conv((5, 5), 1 => 6, relu),  \u001b[90m# 156 parameters\u001b[39m\n",
       "    layer_2 = MaxPool((2, 2)),\n",
       "    layer_3 = Conv((5, 5), 6 => 16, relu),  \u001b[90m# 2_416 parameters\u001b[39m\n",
       "    layer_4 = MaxPool((2, 2)),\n",
       "    layer_5 = FlattenLayer{Static.StaticInt{3}}(static(3)),\n",
       "    layer_6 = Chain(\n",
       "        layer_1 = Dense(256 => 128, relu),  \u001b[90m# 32_896 parameters\u001b[39m\n",
       "        layer_2 = Dense(128 => 84, relu),  \u001b[90m# 10_836 parameters\u001b[39m\n",
       "        layer_3 = Dense(84 => 10),      \u001b[90m# 850 parameters\u001b[39m\n",
       "    ),\n",
       ") \u001b[90m        # Total: \u001b[39m47_154 parameters,\n",
       "\u001b[90m          #        plus \u001b[39m0 states."
      ]
     },
     "execution_count": 41,
     "metadata": {},
     "output_type": "execute_result"
    }
   ],
   "source": [
    "lux_model = Chain(Conv((5, 5), 1 => 6, relu), MaxPool((2, 2)),\n",
    "    Conv((5, 5), 6 => 16, relu), MaxPool((2, 2)), FlattenLayer(3),\n",
    "    Chain(Dense(256 => 128, relu), Dense(128 => 84, relu),Dense(84 => 10)))"
   ]
  },
  {
   "cell_type": "code",
   "execution_count": 32,
   "id": "97a0b221-c70d-4b63-a695-ccbd9d7f778b",
   "metadata": {},
   "outputs": [
    {
     "data": {
      "text/plain": [
       "Chain(\n",
       "    layer_1 = Conv((3, 3), 1 => 32, relu),  \u001b[90m# 320 parameters\u001b[39m\n",
       "    layer_2 = Conv((3, 3), 32 => 64, relu),  \u001b[90m# 18_496 parameters\u001b[39m\n",
       "    layer_3 = MaxPool((3, 3)),\n",
       "    layer_4 = Dropout(0.5),\n",
       "    layer_5 = FlattenLayer{Static.StaticInt{3}}(static(3)),\n",
       "    layer_6 = Chain(\n",
       "        layer_1 = Dense(4096 => 250, relu),  \u001b[90m# 1_024_250 parameters\u001b[39m\n",
       "        layer_2 = Dense(250 => 10),     \u001b[90m# 2_510 parameters\u001b[39m\n",
       "    ),\n",
       ") \u001b[90m        # Total: \u001b[39m1_045_576 parameters,\n",
       "\u001b[90m          #        plus \u001b[39m2 states."
      ]
     },
     "execution_count": 32,
     "metadata": {},
     "output_type": "execute_result"
    }
   ],
   "source": [
    "lux_model2 = Chain(Conv((3, 3), 1 => 32, relu), Conv((3, 3), 32 => 64, relu), MaxPool((3, 3)),\n",
    "    Dropout(0.5), FlattenLayer(3),\n",
    "    Chain(Dense( 4096 => 250, relu), Dense(250 => 10)))"
   ]
  },
  {
   "cell_type": "code",
   "execution_count": 5,
   "id": "c383d29c-034a-46b6-adf9-c722e38fbdd6",
   "metadata": {},
   "outputs": [
    {
     "data": {
      "text/plain": [
       "accuracy (generic function with 1 method)"
      ]
     },
     "execution_count": 5,
     "metadata": {},
     "output_type": "execute_result"
    }
   ],
   "source": [
    "const loss = CrossEntropyLoss(; logits=Val(true))\n",
    "\n",
    "function accuracy(model, ps, st, dataloader)\n",
    "    total_correct, total = 0, 0\n",
    "    st = Lux.testmode(st)\n",
    "    for (x, y) in dataloader\n",
    "        target_class = onecold(y)\n",
    "        predicted_class = onecold(Array(first(model(x, ps, st))))\n",
    "        total_correct += sum(target_class .== predicted_class)\n",
    "        total += length(target_class)\n",
    "    end\n",
    "    return total_correct / total\n",
    "end"
   ]
  },
  {
   "cell_type": "code",
   "execution_count": 51,
   "id": "6b0a44e4-097c-429c-9a63-edeca10db066",
   "metadata": {},
   "outputs": [
    {
     "data": {
      "text/plain": [
       "train (generic function with 1 method)"
      ]
     },
     "execution_count": 51,
     "metadata": {},
     "output_type": "execute_result"
    }
   ],
   "source": [
    "function train(model; rng=Xoshiro(0), kwargs...)\n",
    "    train_dataloader, test_dataloader = loadmnist(128, 0.9)\n",
    "    ps, st = Lux.setup(rng, model)\n",
    "\n",
    "    train_state = Training.TrainState(model, ps, st, Adam(3.0f-4))\n",
    "\n",
    "    ### Warmup the model\n",
    "    x_proto = randn(rng, Float32, 28, 28, 1, 1)\n",
    "    y_proto = onehotbatch([1], 0:9)\n",
    "    Training.compute_gradients(AutoEnzyme(), loss, (x_proto, y_proto), train_state)\n",
    "\n",
    "    ### Lets train the model\n",
    "    nepochs = 10\n",
    "    tr_acc, te_acc = 0.0, 0.0\n",
    "    for epoch in 1:nepochs\n",
    "        stime = time()\n",
    "        for (x, y) in train_dataloader\n",
    "            gs, _, _, train_state = Training.single_train_step!(\n",
    "                AutoEnzyme(), loss, (x, y), train_state)\n",
    "        end\n",
    "        ttime = time() - stime\n",
    "\n",
    "        tr_acc = accuracy(\n",
    "            model, train_state.parameters, train_state.states, train_dataloader) * 100\n",
    "        te_acc = accuracy(\n",
    "            model, train_state.parameters, train_state.states, test_dataloader) * 100\n",
    "\n",
    "        @printf \"[%2d/%2d] \\t Time %.2fs \\t Training Accuracy: %.2f%% \\t Test Accuracy: \\\n",
    "                 %.2f%%\\n\" epoch nepochs ttime tr_acc te_acc\n",
    "    end\n",
    "\n",
    "    return tr_acc, te_acc\n",
    "end"
   ]
  },
  {
   "cell_type": "code",
   "execution_count": 47,
   "id": "e872e158-04d4-453c-9d6b-927c7ad4fabb",
   "metadata": {},
   "outputs": [
    {
     "name": "stdout",
     "output_type": "stream",
     "text": [
      "[ 1/50] \t Time 0.99s \t Training Accuracy: 23.28% \t Test Accuracy: 18.00%\n",
      "[ 2/50] \t Time 0.18s \t Training Accuracy: 47.17% \t Test Accuracy: 43.50%\n",
      "[ 3/50] \t Time 0.18s \t Training Accuracy: 60.28% \t Test Accuracy: 59.00%\n",
      "[ 4/50] \t Time 0.19s \t Training Accuracy: 69.50% \t Test Accuracy: 65.00%\n",
      "[ 5/50] \t Time 0.17s \t Training Accuracy: 74.89% \t Test Accuracy: 73.00%\n",
      "[ 6/50] \t Time 0.17s \t Training Accuracy: 77.78% \t Test Accuracy: 76.50%\n",
      "[ 7/50] \t Time 0.17s \t Training Accuracy: 80.89% \t Test Accuracy: 78.00%\n",
      "[ 8/50] \t Time 0.17s \t Training Accuracy: 83.39% \t Test Accuracy: 82.50%\n",
      "[ 9/50] \t Time 0.27s \t Training Accuracy: 84.89% \t Test Accuracy: 84.00%\n",
      "[10/50] \t Time 0.18s \t Training Accuracy: 86.67% \t Test Accuracy: 85.50%\n",
      "[11/50] \t Time 0.17s \t Training Accuracy: 87.94% \t Test Accuracy: 86.00%\n",
      "[12/50] \t Time 0.18s \t Training Accuracy: 88.67% \t Test Accuracy: 88.00%\n",
      "[13/50] \t Time 0.18s \t Training Accuracy: 90.06% \t Test Accuracy: 88.00%\n",
      "[14/50] \t Time 0.18s \t Training Accuracy: 90.17% \t Test Accuracy: 88.00%\n",
      "[15/50] \t Time 0.17s \t Training Accuracy: 91.56% \t Test Accuracy: 90.50%\n",
      "[16/50] \t Time 0.18s \t Training Accuracy: 91.56% \t Test Accuracy: 90.50%\n",
      "[17/50] \t Time 0.19s \t Training Accuracy: 93.17% \t Test Accuracy: 91.00%\n",
      "[18/50] \t Time 0.29s \t Training Accuracy: 92.50% \t Test Accuracy: 91.00%\n",
      "[19/50] \t Time 0.20s \t Training Accuracy: 93.44% \t Test Accuracy: 93.00%\n",
      "[20/50] \t Time 0.19s \t Training Accuracy: 94.33% \t Test Accuracy: 93.00%\n",
      "[21/50] \t Time 0.19s \t Training Accuracy: 94.56% \t Test Accuracy: 93.50%\n",
      "[22/50] \t Time 0.18s \t Training Accuracy: 95.00% \t Test Accuracy: 92.00%\n",
      "[23/50] \t Time 0.18s \t Training Accuracy: 95.22% \t Test Accuracy: 94.00%\n",
      "[24/50] \t Time 0.19s \t Training Accuracy: 95.67% \t Test Accuracy: 94.00%\n",
      "[25/50] \t Time 0.18s \t Training Accuracy: 95.94% \t Test Accuracy: 94.00%\n",
      "[26/50] \t Time 0.25s \t Training Accuracy: 96.33% \t Test Accuracy: 94.00%\n",
      "[27/50] \t Time 0.20s \t Training Accuracy: 96.89% \t Test Accuracy: 94.00%\n",
      "[28/50] \t Time 0.20s \t Training Accuracy: 97.06% \t Test Accuracy: 95.00%\n",
      "[29/50] \t Time 0.18s \t Training Accuracy: 97.22% \t Test Accuracy: 95.50%\n",
      "[30/50] \t Time 0.18s \t Training Accuracy: 97.83% \t Test Accuracy: 95.00%\n",
      "[31/50] \t Time 0.17s \t Training Accuracy: 97.94% \t Test Accuracy: 94.50%\n",
      "[32/50] \t Time 0.21s \t Training Accuracy: 97.67% \t Test Accuracy: 95.00%\n",
      "[33/50] \t Time 0.21s \t Training Accuracy: 98.11% \t Test Accuracy: 95.00%\n",
      "[34/50] \t Time 0.24s \t Training Accuracy: 98.39% \t Test Accuracy: 95.50%\n",
      "[35/50] \t Time 0.21s \t Training Accuracy: 98.50% \t Test Accuracy: 94.50%\n",
      "[36/50] \t Time 0.22s \t Training Accuracy: 98.72% \t Test Accuracy: 95.00%\n",
      "[37/50] \t Time 0.19s \t Training Accuracy: 98.61% \t Test Accuracy: 95.00%\n",
      "[38/50] \t Time 0.20s \t Training Accuracy: 98.72% \t Test Accuracy: 95.00%\n",
      "[39/50] \t Time 0.19s \t Training Accuracy: 98.83% \t Test Accuracy: 95.00%\n",
      "[40/50] \t Time 0.19s \t Training Accuracy: 98.94% \t Test Accuracy: 94.00%\n",
      "[41/50] \t Time 0.20s \t Training Accuracy: 99.06% \t Test Accuracy: 95.00%\n",
      "[42/50] \t Time 0.16s \t Training Accuracy: 99.22% \t Test Accuracy: 94.00%\n",
      "[43/50] \t Time 0.25s \t Training Accuracy: 99.33% \t Test Accuracy: 94.00%\n",
      "[44/50] \t Time 0.20s \t Training Accuracy: 99.39% \t Test Accuracy: 94.50%\n",
      "[45/50] \t Time 0.21s \t Training Accuracy: 99.61% \t Test Accuracy: 95.50%\n",
      "[46/50] \t Time 0.21s \t Training Accuracy: 99.61% \t Test Accuracy: 94.00%\n",
      "[47/50] \t Time 0.21s \t Training Accuracy: 99.39% \t Test Accuracy: 94.00%\n",
      "[48/50] \t Time 0.22s \t Training Accuracy: 99.06% \t Test Accuracy: 92.50%\n",
      "[49/50] \t Time 0.20s \t Training Accuracy: 99.61% \t Test Accuracy: 95.00%\n",
      "[50/50] \t Time 0.26s \t Training Accuracy: 99.72% \t Test Accuracy: 93.50%\n"
     ]
    },
    {
     "data": {
      "text/plain": [
       "(99.72222222222223, 93.5)"
      ]
     },
     "execution_count": 47,
     "metadata": {},
     "output_type": "execute_result"
    }
   ],
   "source": [
    "tr_acc, te_acc = train(lux_model)"
   ]
  },
  {
   "cell_type": "code",
   "execution_count": 52,
   "id": "fb3e1ca1-bf16-46ef-bf79-b66f7156ed90",
   "metadata": {},
   "outputs": [
    {
     "name": "stdout",
     "output_type": "stream",
     "text": [
      "[ 1/10] \t Time 74.42s \t Training Accuracy: 97.84% \t Test Accuracy: 98.37%\n",
      "[ 2/10] \t Time 71.04s \t Training Accuracy: 98.69% \t Test Accuracy: 98.72%\n",
      "[ 3/10] \t Time 71.29s \t Training Accuracy: 99.09% \t Test Accuracy: 98.90%\n",
      "[ 4/10] \t Time 74.21s \t Training Accuracy: 99.35% \t Test Accuracy: 99.00%\n",
      "[ 5/10] \t Time 71.32s \t Training Accuracy: 99.50% \t Test Accuracy: 99.05%\n",
      "[ 6/10] \t Time 72.00s \t Training Accuracy: 99.52% \t Test Accuracy: 99.13%\n",
      "[ 7/10] \t Time 72.08s \t Training Accuracy: 99.48% \t Test Accuracy: 98.85%\n",
      "[ 8/10] \t Time 74.15s \t Training Accuracy: 99.71% \t Test Accuracy: 99.10%\n",
      "[ 9/10] \t Time 73.69s \t Training Accuracy: 99.81% \t Test Accuracy: 99.12%\n",
      "[10/10] \t Time 66.82s \t Training Accuracy: 99.72% \t Test Accuracy: 99.12%\n"
     ]
    },
    {
     "data": {
      "text/plain": [
       "(99.71666666666667, 99.11666666666666)"
      ]
     },
     "execution_count": 52,
     "metadata": {},
     "output_type": "execute_result"
    }
   ],
   "source": [
    "tr_acc2, te_acc2 = train(lux_model2)"
   ]
  },
  {
   "cell_type": "code",
   "execution_count": 34,
   "id": "3214929f-7d3f-4d3a-8f8b-647b603f6866",
   "metadata": {},
   "outputs": [
    {
     "data": {
      "text/plain": [
       "f (generic function with 1 method)"
      ]
     },
     "execution_count": 34,
     "metadata": {},
     "output_type": "execute_result"
    }
   ],
   "source": [
    "f(x,y) = 2*x + 3*y"
   ]
  },
  {
   "cell_type": "code",
   "execution_count": 36,
   "id": "ef2001a3-da8a-41cf-a44f-bc1cb0c9bcfe",
   "metadata": {},
   "outputs": [
    {
     "name": "stdout",
     "output_type": "stream",
     "text": [
      "\u001b[90m;  @ In[34]:1 within `f`\u001b[39m\n",
      "\u001b[95mdefine\u001b[39m \u001b[36mi64\u001b[39m \u001b[93m@julia_f_23589\u001b[39m\u001b[33m(\u001b[39m\u001b[36mi64\u001b[39m \u001b[95msignext\u001b[39m \u001b[0m%0\u001b[0m, \u001b[36mi64\u001b[39m \u001b[95msignext\u001b[39m \u001b[0m%1\u001b[33m)\u001b[39m \u001b[0m#0 \u001b[33m{\u001b[39m\n",
      "\u001b[91mtop:\u001b[39m\n",
      "\u001b[90m; ┌ @ int.jl:88 within `*`\u001b[39m\n",
      "   \u001b[0m%2 \u001b[0m= \u001b[96m\u001b[1mshl\u001b[22m\u001b[39m \u001b[36mi64\u001b[39m \u001b[0m%0\u001b[0m, \u001b[33m1\u001b[39m\n",
      "   \u001b[0m%3 \u001b[0m= \u001b[96m\u001b[1mmul\u001b[22m\u001b[39m \u001b[36mi64\u001b[39m \u001b[0m%1\u001b[0m, \u001b[33m3\u001b[39m\n",
      "\u001b[90m; └\u001b[39m\n",
      "\u001b[90m; ┌ @ int.jl:87 within `+`\u001b[39m\n",
      "   \u001b[0m%4 \u001b[0m= \u001b[96m\u001b[1madd\u001b[22m\u001b[39m \u001b[36mi64\u001b[39m \u001b[0m%3\u001b[0m, \u001b[0m%2\n",
      "   \u001b[96m\u001b[1mret\u001b[22m\u001b[39m \u001b[36mi64\u001b[39m \u001b[0m%4\n",
      "\u001b[90m; └\u001b[39m\n",
      "\u001b[33m}\u001b[39m\n"
     ]
    }
   ],
   "source": [
    "@code_llvm f(2,3)"
   ]
  },
  {
   "cell_type": "code",
   "execution_count": null,
   "id": "1bda317f-5ad7-4c25-bfdf-e5032eb27051",
   "metadata": {},
   "outputs": [],
   "source": []
  }
 ],
 "metadata": {
  "kernelspec": {
   "display_name": "Julia 1.10.5",
   "language": "julia",
   "name": "julia-1.10"
  },
  "language_info": {
   "file_extension": ".jl",
   "mimetype": "application/julia",
   "name": "julia",
   "version": "1.10.5"
  }
 },
 "nbformat": 4,
 "nbformat_minor": 5
}
