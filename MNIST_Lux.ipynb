{
 "cells": [
  {
   "cell_type": "code",
   "execution_count": 1,
   "id": "cdbd108b-fc64-4eab-9d44-caab8760a408",
   "metadata": {},
   "outputs": [
    {
     "name": "stderr",
     "output_type": "stream",
     "text": [
      "\u001b[32m\u001b[1m  Activating\u001b[22m\u001b[39m project at `~/Documents/programming/BME-574-2024`\n"
     ]
    }
   ],
   "source": [
    "import Pkg\n",
    "Pkg.activate(\".\")"
   ]
  },
  {
   "cell_type": "code",
   "execution_count": 3,
   "id": "4ad61c4a-60e4-4054-86c9-8fd9c81d1bb8",
   "metadata": {},
   "outputs": [
    {
     "name": "stderr",
     "output_type": "stream",
     "text": [
      "\u001b[32m\u001b[1m    Updating\u001b[22m\u001b[39m registry at `~/.julia/registries/JSMLComponents.toml`\n",
      "\u001b[32m\u001b[1m    Updating\u001b[22m\u001b[39m registry at `~/.julia/registries/JuliaComputingRegistry.toml`\n",
      "\u001b[32m\u001b[1m    Updating\u001b[22m\u001b[39m registry at `~/.julia/registries/JuliaHubRegistry.toml`\n",
      "\u001b[32m\u001b[1m   Resolving\u001b[22m\u001b[39m package versions...\n",
      "\u001b[32m\u001b[1m  No Changes\u001b[22m\u001b[39m to `~/Documents/programming/BME-574-2024/Project.toml`\n",
      "\u001b[32m\u001b[1m  No Changes\u001b[22m\u001b[39m to `~/Documents/programming/BME-574-2024/Manifest.toml`\n",
      "\u001b[32m\u001b[1mPrecompiling\u001b[22m\u001b[39m project...\n",
      "\u001b[32m  ✓ \u001b[39m\u001b[90mXSLT_jll\u001b[39m\n",
      "\u001b[32m  ✓ \u001b[39m\u001b[90mSparseMatrixColorings → SparseMatrixColoringsColorsExt\u001b[39m\n",
      "\u001b[32m  ✓ \u001b[39mLsqFit\n",
      "\u001b[32m  ✓ \u001b[39m\u001b[90mSteadyStateDiffEq\u001b[39m\n",
      "\u001b[32m  ✓ \u001b[39m\u001b[90mPlots → UnitfulExt\u001b[39m\n",
      "\u001b[32m  ✓ \u001b[39m\u001b[90mLinearSolve → LinearSolveKernelAbstractionsExt\u001b[39m\n",
      "\u001b[32m  ✓ \u001b[39m\u001b[90mRootedTrees → PlotsExt\u001b[39m\n",
      "\u001b[32m  ✓ \u001b[39m\u001b[90mNonlinearSolve → NonlinearSolveNLsolveExt\u001b[39m\n",
      "\u001b[32m  ✓ \u001b[39m\u001b[90mSundials\u001b[39m\n",
      "\u001b[32m  ✓ \u001b[39m\u001b[90mStochasticDiffEq\u001b[39m\n",
      "  10 dependencies successfully precompiled in 13 seconds. 751 already precompiled. 2 skipped during auto due to previous errors.\n"
     ]
    }
   ],
   "source": [
    "Pkg.add([\"Lux\", \"ADTypes\", \"MLUtils\", \"Optimisers\", \"Zygote\", \"OneHotArrays\", \"Random\", \"Statistics\", \"Printf\", \"MLDatasets\"])"
   ]
  },
  {
   "cell_type": "code",
   "execution_count": 6,
   "id": "2f92f05f-58aa-44d4-a983-b1fa5d3ce056",
   "metadata": {},
   "outputs": [],
   "source": [
    "using Lux, ADTypes, MLUtils, Optimisers, Zygote, OneHotArrays, Random, Statistics, Printf\n",
    "using MLDatasets: MNIST"
   ]
  },
  {
   "cell_type": "code",
   "execution_count": 7,
   "id": "271de7e1-c49b-4fdd-ba4a-75654e23d4f1",
   "metadata": {},
   "outputs": [
    {
     "data": {
      "text/plain": [
       "loadmnist (generic function with 1 method)"
      ]
     },
     "execution_count": 7,
     "metadata": {},
     "output_type": "execute_result"
    }
   ],
   "source": [
    "function loadmnist(batchsize, train_split)\n",
    "    # Load MNIST\n",
    "    N = 60000\n",
    "    dataset = MNIST(; split=:train)\n",
    "    imgs = dataset.features[:, :, 1:N]\n",
    "    labels_raw = dataset.targets[1:N]\n",
    "\n",
    "    # Process images into (H, W, C, BS) batches\n",
    "    x_data = Float32.(reshape(imgs, size(imgs, 1), size(imgs, 2), 1, size(imgs, 3)))\n",
    "    y_data = onehotbatch(labels_raw, 0:9)\n",
    "    (x_train, y_train), (x_test, y_test) = splitobs((x_data, y_data); at=train_split)\n",
    "\n",
    "    return (\n",
    "        # Use DataLoader to automatically minibatch and shuffle the data\n",
    "        DataLoader(collect.((x_train, y_train)); batchsize, shuffle=true),\n",
    "        # Don't shuffle the test data\n",
    "        DataLoader(collect.((x_test, y_test)); batchsize, shuffle=false))\n",
    "end"
   ]
  },
  {
   "cell_type": "code",
   "execution_count": 8,
   "id": "8383b87b-964a-4416-b96d-c7e87676c4f0",
   "metadata": {},
   "outputs": [
    {
     "data": {
      "text/plain": [
       "Chain(\n",
       "    layer_1 = Conv((5, 5), 1 => 6, relu),  \u001b[90m# 156 parameters\u001b[39m\n",
       "    layer_2 = MaxPool((2, 2)),\n",
       "    layer_3 = Conv((5, 5), 6 => 16, relu),  \u001b[90m# 2_416 parameters\u001b[39m\n",
       "    layer_4 = MaxPool((2, 2)),\n",
       "    layer_5 = FlattenLayer{Static.StaticInt{3}}(static(3)),\n",
       "    layer_6 = Chain(\n",
       "        layer_1 = Dense(256 => 128, relu),  \u001b[90m# 32_896 parameters\u001b[39m\n",
       "        layer_2 = Dense(128 => 84, relu),  \u001b[90m# 10_836 parameters\u001b[39m\n",
       "        layer_3 = Dense(84 => 10),      \u001b[90m# 850 parameters\u001b[39m\n",
       "    ),\n",
       ") \u001b[90m        # Total: \u001b[39m47_154 parameters,\n",
       "\u001b[90m          #        plus \u001b[39m0 states."
      ]
     },
     "execution_count": 8,
     "metadata": {},
     "output_type": "execute_result"
    }
   ],
   "source": [
    "lux_model = Chain(Conv((5, 5), 1 => 6, relu), MaxPool((2, 2)),\n",
    "    Conv((5, 5), 6 => 16, relu), MaxPool((2, 2)), FlattenLayer(3),\n",
    "    Chain(Dense(256 => 128, relu), Dense(128 => 84, relu),Dense(84 => 10)))"
   ]
  },
  {
   "cell_type": "code",
   "execution_count": 32,
   "id": "97a0b221-c70d-4b63-a695-ccbd9d7f778b",
   "metadata": {},
   "outputs": [
    {
     "data": {
      "text/plain": [
       "Chain(\n",
       "    layer_1 = Conv((3, 3), 1 => 32, relu),  \u001b[90m# 320 parameters\u001b[39m\n",
       "    layer_2 = Conv((3, 3), 32 => 64, relu),  \u001b[90m# 18_496 parameters\u001b[39m\n",
       "    layer_3 = MaxPool((3, 3)),\n",
       "    layer_4 = Dropout(0.5),\n",
       "    layer_5 = FlattenLayer{Static.StaticInt{3}}(static(3)),\n",
       "    layer_6 = Chain(\n",
       "        layer_1 = Dense(4096 => 250, relu),  \u001b[90m# 1_024_250 parameters\u001b[39m\n",
       "        layer_2 = Dense(250 => 10),     \u001b[90m# 2_510 parameters\u001b[39m\n",
       "    ),\n",
       ") \u001b[90m        # Total: \u001b[39m1_045_576 parameters,\n",
       "\u001b[90m          #        plus \u001b[39m2 states."
      ]
     },
     "execution_count": 32,
     "metadata": {},
     "output_type": "execute_result"
    }
   ],
   "source": [
    "lux_model2 = Chain(Conv((3, 3), 1 => 32, relu), Conv((3, 3), 32 => 64, relu), MaxPool((3, 3)),\n",
    "    Dropout(0.5), FlattenLayer(3),\n",
    "    Chain(Dense( 4096 => 250, relu), Dense(250 => 10)))"
   ]
  },
  {
   "cell_type": "code",
   "execution_count": 9,
   "id": "c383d29c-034a-46b6-adf9-c722e38fbdd6",
   "metadata": {},
   "outputs": [
    {
     "data": {
      "text/plain": [
       "accuracy (generic function with 1 method)"
      ]
     },
     "execution_count": 9,
     "metadata": {},
     "output_type": "execute_result"
    }
   ],
   "source": [
    "const loss = CrossEntropyLoss(; logits=Val(true))\n",
    "\n",
    "function accuracy(model, ps, st, dataloader)\n",
    "    total_correct, total = 0, 0\n",
    "    st = Lux.testmode(st)\n",
    "    for (x, y) in dataloader\n",
    "        target_class = onecold(y)\n",
    "        predicted_class = onecold(Array(first(model(x, ps, st))))\n",
    "        total_correct += sum(target_class .== predicted_class)\n",
    "        total += length(target_class)\n",
    "    end\n",
    "    return total_correct / total\n",
    "end"
   ]
  },
  {
   "cell_type": "code",
   "execution_count": 10,
   "id": "6b0a44e4-097c-429c-9a63-edeca10db066",
   "metadata": {},
   "outputs": [
    {
     "data": {
      "text/plain": [
       "train (generic function with 1 method)"
      ]
     },
     "execution_count": 10,
     "metadata": {},
     "output_type": "execute_result"
    }
   ],
   "source": [
    "function train(model; rng=Xoshiro(0), kwargs...)\n",
    "    train_dataloader, test_dataloader = loadmnist(128, 0.9)\n",
    "    ps, st = Lux.setup(rng, model)\n",
    "\n",
    "    train_state = Training.TrainState(model, ps, st, Adam(3.0f-4))\n",
    "\n",
    "    ### Warmup the model\n",
    "    x_proto = randn(rng, Float32, 28, 28, 1, 1)\n",
    "    y_proto = onehotbatch([1], 0:9)\n",
    "    Training.compute_gradients(AutoZygote(), loss, (x_proto, y_proto), train_state)\n",
    "\n",
    "    ### Lets train the model\n",
    "    nepochs = 10\n",
    "    tr_acc, te_acc = 0.0, 0.0\n",
    "    for epoch in 1:nepochs\n",
    "        stime = time()\n",
    "        for (x, y) in train_dataloader\n",
    "            gs, _, _, train_state = Training.single_train_step!(\n",
    "                AutoZygote(), loss, (x, y), train_state)\n",
    "        end\n",
    "        ttime = time() - stime\n",
    "\n",
    "        tr_acc = accuracy(\n",
    "            model, train_state.parameters, train_state.states, train_dataloader) * 100\n",
    "        te_acc = accuracy(\n",
    "            model, train_state.parameters, train_state.states, test_dataloader) * 100\n",
    "\n",
    "        @printf \"[%2d/%2d] \\t Time %.2fs \\t Training Accuracy: %.2f%% \\t Test Accuracy: \\\n",
    "                 %.2f%%\\n\" epoch nepochs ttime tr_acc te_acc\n",
    "    end\n",
    "\n",
    "    return tr_acc, te_acc\n",
    "end"
   ]
  },
  {
   "cell_type": "code",
   "execution_count": 11,
   "id": "e872e158-04d4-453c-9d6b-927c7ad4fabb",
   "metadata": {},
   "outputs": [
    {
     "name": "stdout",
     "output_type": "stream",
     "text": [
      "[ 1/10] \t Time 8.30s \t Training Accuracy: 92.06% \t Test Accuracy: 93.95%\n",
      "[ 2/10] \t Time 5.44s \t Training Accuracy: 95.21% \t Test Accuracy: 95.67%\n",
      "[ 3/10] \t Time 5.59s \t Training Accuracy: 96.50% \t Test Accuracy: 96.68%\n",
      "[ 4/10] \t Time 5.62s \t Training Accuracy: 97.37% \t Test Accuracy: 97.38%\n",
      "[ 5/10] \t Time 5.55s \t Training Accuracy: 97.82% \t Test Accuracy: 97.48%\n",
      "[ 6/10] \t Time 5.68s \t Training Accuracy: 97.91% \t Test Accuracy: 97.57%\n",
      "[ 7/10] \t Time 5.56s \t Training Accuracy: 98.01% \t Test Accuracy: 97.63%\n",
      "[ 8/10] \t Time 5.50s \t Training Accuracy: 98.33% \t Test Accuracy: 97.88%\n",
      "[ 9/10] \t Time 5.58s \t Training Accuracy: 98.62% \t Test Accuracy: 98.13%\n",
      "[10/10] \t Time 5.52s \t Training Accuracy: 98.64% \t Test Accuracy: 97.95%\n"
     ]
    },
    {
     "data": {
      "text/plain": [
       "(98.63518518518518, 97.95)"
      ]
     },
     "execution_count": 11,
     "metadata": {},
     "output_type": "execute_result"
    }
   ],
   "source": [
    "tr_acc, te_acc = train(lux_model)"
   ]
  },
  {
   "cell_type": "code",
   "execution_count": 52,
   "id": "fb3e1ca1-bf16-46ef-bf79-b66f7156ed90",
   "metadata": {},
   "outputs": [
    {
     "name": "stdout",
     "output_type": "stream",
     "text": [
      "[ 1/10] \t Time 74.42s \t Training Accuracy: 97.84% \t Test Accuracy: 98.37%\n",
      "[ 2/10] \t Time 71.04s \t Training Accuracy: 98.69% \t Test Accuracy: 98.72%\n",
      "[ 3/10] \t Time 71.29s \t Training Accuracy: 99.09% \t Test Accuracy: 98.90%\n",
      "[ 4/10] \t Time 74.21s \t Training Accuracy: 99.35% \t Test Accuracy: 99.00%\n",
      "[ 5/10] \t Time 71.32s \t Training Accuracy: 99.50% \t Test Accuracy: 99.05%\n",
      "[ 6/10] \t Time 72.00s \t Training Accuracy: 99.52% \t Test Accuracy: 99.13%\n",
      "[ 7/10] \t Time 72.08s \t Training Accuracy: 99.48% \t Test Accuracy: 98.85%\n",
      "[ 8/10] \t Time 74.15s \t Training Accuracy: 99.71% \t Test Accuracy: 99.10%\n",
      "[ 9/10] \t Time 73.69s \t Training Accuracy: 99.81% \t Test Accuracy: 99.12%\n",
      "[10/10] \t Time 66.82s \t Training Accuracy: 99.72% \t Test Accuracy: 99.12%\n"
     ]
    },
    {
     "data": {
      "text/plain": [
       "(99.71666666666667, 99.11666666666666)"
      ]
     },
     "execution_count": 52,
     "metadata": {},
     "output_type": "execute_result"
    }
   ],
   "source": [
    "tr_acc2, te_acc2 = train(lux_model2)"
   ]
  },
  {
   "cell_type": "code",
   "execution_count": 34,
   "id": "3214929f-7d3f-4d3a-8f8b-647b603f6866",
   "metadata": {},
   "outputs": [
    {
     "data": {
      "text/plain": [
       "f (generic function with 1 method)"
      ]
     },
     "execution_count": 34,
     "metadata": {},
     "output_type": "execute_result"
    }
   ],
   "source": [
    "f(x,y) = 2*x + 3*y"
   ]
  },
  {
   "cell_type": "code",
   "execution_count": 36,
   "id": "ef2001a3-da8a-41cf-a44f-bc1cb0c9bcfe",
   "metadata": {},
   "outputs": [
    {
     "name": "stdout",
     "output_type": "stream",
     "text": [
      "\u001b[90m;  @ In[34]:1 within `f`\u001b[39m\n",
      "\u001b[95mdefine\u001b[39m \u001b[36mi64\u001b[39m \u001b[93m@julia_f_23589\u001b[39m\u001b[33m(\u001b[39m\u001b[36mi64\u001b[39m \u001b[95msignext\u001b[39m \u001b[0m%0\u001b[0m, \u001b[36mi64\u001b[39m \u001b[95msignext\u001b[39m \u001b[0m%1\u001b[33m)\u001b[39m \u001b[0m#0 \u001b[33m{\u001b[39m\n",
      "\u001b[91mtop:\u001b[39m\n",
      "\u001b[90m; ┌ @ int.jl:88 within `*`\u001b[39m\n",
      "   \u001b[0m%2 \u001b[0m= \u001b[96m\u001b[1mshl\u001b[22m\u001b[39m \u001b[36mi64\u001b[39m \u001b[0m%0\u001b[0m, \u001b[33m1\u001b[39m\n",
      "   \u001b[0m%3 \u001b[0m= \u001b[96m\u001b[1mmul\u001b[22m\u001b[39m \u001b[36mi64\u001b[39m \u001b[0m%1\u001b[0m, \u001b[33m3\u001b[39m\n",
      "\u001b[90m; └\u001b[39m\n",
      "\u001b[90m; ┌ @ int.jl:87 within `+`\u001b[39m\n",
      "   \u001b[0m%4 \u001b[0m= \u001b[96m\u001b[1madd\u001b[22m\u001b[39m \u001b[36mi64\u001b[39m \u001b[0m%3\u001b[0m, \u001b[0m%2\n",
      "   \u001b[96m\u001b[1mret\u001b[22m\u001b[39m \u001b[36mi64\u001b[39m \u001b[0m%4\n",
      "\u001b[90m; └\u001b[39m\n",
      "\u001b[33m}\u001b[39m\n"
     ]
    }
   ],
   "source": [
    "@code_llvm f(2,3)"
   ]
  },
  {
   "cell_type": "code",
   "execution_count": null,
   "id": "1bda317f-5ad7-4c25-bfdf-e5032eb27051",
   "metadata": {},
   "outputs": [],
   "source": []
  }
 ],
 "metadata": {
  "kernelspec": {
   "display_name": "Julia 1.10.5",
   "language": "julia",
   "name": "julia-1.10"
  },
  "language_info": {
   "file_extension": ".jl",
   "mimetype": "application/julia",
   "name": "julia",
   "version": "1.10.5"
  }
 },
 "nbformat": 4,
 "nbformat_minor": 5
}
