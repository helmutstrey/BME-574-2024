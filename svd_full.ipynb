{
 "cells": [
  {
   "cell_type": "code",
   "execution_count": 1,
   "id": "fb5dfaf6-b5e3-49f0-bece-74c623d60b53",
   "metadata": {},
   "outputs": [
    {
     "name": "stderr",
     "output_type": "stream",
     "text": [
      "\u001b[32m\u001b[1m  Activating\u001b[22m\u001b[39m project at `~/Documents/programming/BME-574-2024`\n"
     ]
    }
   ],
   "source": [
    "import Pkg\n",
    "Pkg.activate(\".\")"
   ]
  },
  {
   "cell_type": "code",
   "execution_count": 2,
   "id": "9681b802-0958-4380-af94-8404b8c003e7",
   "metadata": {},
   "outputs": [],
   "source": [
    "using LinearAlgebra, Random"
   ]
  },
  {
   "cell_type": "code",
   "execution_count": 3,
   "id": "018d2c7a-12c7-42ac-8601-b197ce7adb97",
   "metadata": {},
   "outputs": [
    {
     "data": {
      "text/plain": [
       "5×3 Matrix{Float64}:\n",
       " 0.886299  0.662609  0.823187\n",
       " 0.405924  0.117705  0.274987\n",
       " 0.385112  0.313621  0.186609\n",
       " 0.590693  0.45849   0.462369\n",
       " 0.92451   0.315961  0.872233"
      ]
     },
     "execution_count": 3,
     "metadata": {},
     "output_type": "execute_result"
    }
   ],
   "source": [
    "x = rand(5,3)"
   ]
  },
  {
   "cell_type": "code",
   "execution_count": 4,
   "id": "80102925-3e28-4e1c-906b-ef8d352c6027",
   "metadata": {},
   "outputs": [
    {
     "data": {
      "text/plain": [
       "SVD{Float64, Float64, Matrix{Float64}, Vector{Float64}}\n",
       "U factor:\n",
       "5×5 Matrix{Float64}:\n",
       " -0.626571  -0.334143   0.502927    -0.36354    -0.332657\n",
       " -0.224898   0.222949  -0.59463      0.0355229  -0.738152\n",
       " -0.230064  -0.443647  -0.621794    -0.436551    0.415985\n",
       " -0.397037  -0.383979  -0.082213     0.822125    0.110785\n",
       " -0.58844    0.703121  -0.00967648  -0.0105105   0.398942\n",
       "singular values:\n",
       "3-element Vector{Float64}:\n",
       " 2.1919214593873653\n",
       " 0.3234432473917768\n",
       " 0.1306713598127307\n",
       "Vt factor:\n",
       "3×3 Matrix{Float64}:\n",
       " -0.690612  -0.402276  -0.601023\n",
       "  0.144461  -0.891014   0.430378\n",
       " -0.708651   0.2104     0.673458"
      ]
     },
     "execution_count": 4,
     "metadata": {},
     "output_type": "execute_result"
    }
   ],
   "source": [
    "u,s,v = svd(x, full = true)"
   ]
  },
  {
   "cell_type": "code",
   "execution_count": 13,
   "id": "f87a4ed0-3907-4c5c-bd3c-0766236403f5",
   "metadata": {},
   "outputs": [
    {
     "data": {
      "text/plain": [
       "5×5 Matrix{Float64}:\n",
       " 1.0           1.72584e-16  1.76204e-16   2.6965e-16   9.57773e-17\n",
       " 1.72584e-16   1.0          1.9043e-17   -1.00871e-16  1.83932e-16\n",
       " 1.76204e-16   1.9043e-17   1.0           2.5655e-16   6.79937e-17\n",
       " 2.6965e-16   -1.00871e-16  2.5655e-16    1.0          3.94483e-17\n",
       " 9.57773e-17   1.83932e-16  6.79937e-17   3.94483e-17  1.0"
      ]
     },
     "execution_count": 13,
     "metadata": {},
     "output_type": "execute_result"
    }
   ],
   "source": [
    "u * u'"
   ]
  },
  {
   "cell_type": "code",
   "execution_count": 14,
   "id": "76a91395-e888-4631-91ad-ed30723bd90b",
   "metadata": {},
   "outputs": [
    {
     "data": {
      "text/plain": [
       "3×3 Matrix{Float64}:\n",
       "  1.0          -8.32667e-17  -2.42861e-16\n",
       " -8.32667e-17   1.0          -1.66533e-16\n",
       " -2.42861e-16  -1.66533e-16   1.0"
      ]
     },
     "execution_count": 14,
     "metadata": {},
     "output_type": "execute_result"
    }
   ],
   "source": [
    "v * v'"
   ]
  },
  {
   "cell_type": "code",
   "execution_count": 11,
   "id": "f24d00ef-9c4b-4839-b4c8-d3d1ca61c007",
   "metadata": {},
   "outputs": [
    {
     "data": {
      "text/plain": [
       "5×3 Matrix{Float64}:\n",
       " 0.144979  0.251267  0.535139\n",
       " 0.886284  0.378973  0.390439\n",
       " 0.368925  0.731688  0.588375\n",
       " 0.366569  0.676477  0.84237\n",
       " 0.336813  0.151192  0.150847"
      ]
     },
     "execution_count": 11,
     "metadata": {},
     "output_type": "execute_result"
    }
   ],
   "source": [
    "u * Diagonal(s) * v'"
   ]
  },
  {
   "cell_type": "code",
   "execution_count": 25,
   "id": "31bf5d7d-3479-4f45-9ac2-756f275ceffb",
   "metadata": {},
   "outputs": [
    {
     "data": {
      "text/plain": [
       "3×3 Diagonal{Float64, Vector{Float64}}:\n",
       " 1.87086   ⋅         ⋅ \n",
       "  ⋅       0.614108   ⋅ \n",
       "  ⋅        ⋅        0.230488"
      ]
     },
     "execution_count": 25,
     "metadata": {},
     "output_type": "execute_result"
    }
   ],
   "source": [
    "Diagonal(s)"
   ]
  },
  {
   "cell_type": "code",
   "execution_count": 26,
   "id": "5f5fb383-7198-40a8-b76c-e4a0f9d86337",
   "metadata": {},
   "outputs": [
    {
     "data": {
      "text/plain": [
       "2×3 Matrix{Float64}:\n",
       " 0.0  0.0  0.0\n",
       " 0.0  0.0  0.0"
      ]
     },
     "execution_count": 26,
     "metadata": {},
     "output_type": "execute_result"
    }
   ],
   "source": [
    "zeros(2,3)"
   ]
  },
  {
   "cell_type": "code",
   "execution_count": 23,
   "id": "d3d487b0-0c85-48b6-b6ed-4396e99c4d68",
   "metadata": {},
   "outputs": [
    {
     "data": {
      "text/plain": [
       "5×3 Matrix{Float64}:\n",
       " 1.87086  0.0       0.0\n",
       " 0.0      0.614108  0.0\n",
       " 0.0      0.0       0.230488\n",
       " 0.0      0.0       0.0\n",
       " 0.0      0.0       0.0"
      ]
     },
     "execution_count": 23,
     "metadata": {},
     "output_type": "execute_result"
    }
   ],
   "source": [
    "vcat(Diagonal(s),zeros(2,3))"
   ]
  },
  {
   "cell_type": "code",
   "execution_count": 24,
   "id": "4a27a7f0-053f-49d3-9ea1-d6aa44952599",
   "metadata": {},
   "outputs": [
    {
     "data": {
      "text/plain": [
       "true"
      ]
     },
     "execution_count": 24,
     "metadata": {},
     "output_type": "execute_result"
    }
   ],
   "source": [
    "u * vcat(Diagonal(s),zeros(2,3)) * v' ≈ x"
   ]
  },
  {
   "cell_type": "code",
   "execution_count": null,
   "id": "90fb851e-977f-4390-9671-ddbf957d7441",
   "metadata": {},
   "outputs": [],
   "source": []
  }
 ],
 "metadata": {
  "kernelspec": {
   "display_name": "Julia 1.10.5",
   "language": "julia",
   "name": "julia-1.10"
  },
  "language_info": {
   "file_extension": ".jl",
   "mimetype": "application/julia",
   "name": "julia",
   "version": "1.10.5"
  }
 },
 "nbformat": 4,
 "nbformat_minor": 5
}
