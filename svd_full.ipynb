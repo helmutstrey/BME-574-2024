{
 "cells": [
  {
   "cell_type": "code",
   "execution_count": 1,
   "id": "fb5dfaf6-b5e3-49f0-bece-74c623d60b53",
   "metadata": {},
   "outputs": [
    {
     "name": "stderr",
     "output_type": "stream",
     "text": [
      "\u001b[32m\u001b[1m  Activating\u001b[22m\u001b[39m project at `~/Documents/programming/BME-574-2024`\n"
     ]
    }
   ],
   "source": [
    "import Pkg\n",
    "Pkg.activate(\".\")"
   ]
  },
  {
   "cell_type": "code",
   "execution_count": 2,
   "id": "9681b802-0958-4380-af94-8404b8c003e7",
   "metadata": {},
   "outputs": [],
   "source": [
    "using LinearAlgebra, Random"
   ]
  },
  {
   "cell_type": "code",
   "execution_count": 3,
   "id": "018d2c7a-12c7-42ac-8601-b197ce7adb97",
   "metadata": {},
   "outputs": [
    {
     "data": {
      "text/plain": [
       "5×3 Matrix{Float64}:\n",
       " 0.144979  0.251267  0.535139\n",
       " 0.886284  0.378973  0.390439\n",
       " 0.368925  0.731688  0.588375\n",
       " 0.366569  0.676477  0.84237\n",
       " 0.336813  0.151192  0.150847"
      ]
     },
     "execution_count": 3,
     "metadata": {},
     "output_type": "execute_result"
    }
   ],
   "source": [
    "x = rand(5,3)"
   ]
  },
  {
   "cell_type": "code",
   "execution_count": 12,
   "id": "80102925-3e28-4e1c-906b-ef8d352c6027",
   "metadata": {},
   "outputs": [
    {
     "data": {
      "text/plain": [
       "SVD{Float64, Float64, Matrix{Float64}, Vector{Float64}}\n",
       "U factor:\n",
       "5×5 Matrix{Float64}:\n",
       " -0.299385  -0.293684   0.676028   -0.603117   -0.057918\n",
       " -0.491928   0.787313   0.121675    0.0307949  -0.349846\n",
       " -0.526762  -0.230511  -0.705034   -0.41083    -0.0594308\n",
       " -0.595649  -0.392622   0.173977    0.674777    0.0738853\n",
       " -0.189998   0.294281   0.0289904  -0.105816    0.930195\n",
       "singular values:\n",
       "3-element Vector{Float64}:\n",
       " 1.8708647213421679\n",
       " 0.6141076210030586\n",
       " 0.23048785822375245\n",
       "Vt factor:\n",
       "3×3 Matrix{Float64}:\n",
       " -0.51103    -0.576604  -0.637476\n",
       "  0.855482   -0.268996  -0.442484\n",
       "  0.0836601  -0.771472   0.630739"
      ]
     },
     "execution_count": 12,
     "metadata": {},
     "output_type": "execute_result"
    }
   ],
   "source": [
    "u,s,v = svd(x, full = true)"
   ]
  },
  {
   "cell_type": "code",
   "execution_count": 13,
   "id": "f87a4ed0-3907-4c5c-bd3c-0766236403f5",
   "metadata": {},
   "outputs": [
    {
     "data": {
      "text/plain": [
       "5×5 Matrix{Float64}:\n",
       " 1.0           1.72584e-16  1.76204e-16   2.6965e-16   9.57773e-17\n",
       " 1.72584e-16   1.0          1.9043e-17   -1.00871e-16  1.83932e-16\n",
       " 1.76204e-16   1.9043e-17   1.0           2.5655e-16   6.79937e-17\n",
       " 2.6965e-16   -1.00871e-16  2.5655e-16    1.0          3.94483e-17\n",
       " 9.57773e-17   1.83932e-16  6.79937e-17   3.94483e-17  1.0"
      ]
     },
     "execution_count": 13,
     "metadata": {},
     "output_type": "execute_result"
    }
   ],
   "source": [
    "u * u'"
   ]
  },
  {
   "cell_type": "code",
   "execution_count": 14,
   "id": "76a91395-e888-4631-91ad-ed30723bd90b",
   "metadata": {},
   "outputs": [
    {
     "data": {
      "text/plain": [
       "3×3 Matrix{Float64}:\n",
       "  1.0          -8.32667e-17  -2.42861e-16\n",
       " -8.32667e-17   1.0          -1.66533e-16\n",
       " -2.42861e-16  -1.66533e-16   1.0"
      ]
     },
     "execution_count": 14,
     "metadata": {},
     "output_type": "execute_result"
    }
   ],
   "source": [
    "v * v'"
   ]
  },
  {
   "cell_type": "code",
   "execution_count": 11,
   "id": "f24d00ef-9c4b-4839-b4c8-d3d1ca61c007",
   "metadata": {},
   "outputs": [
    {
     "data": {
      "text/plain": [
       "5×3 Matrix{Float64}:\n",
       " 0.144979  0.251267  0.535139\n",
       " 0.886284  0.378973  0.390439\n",
       " 0.368925  0.731688  0.588375\n",
       " 0.366569  0.676477  0.84237\n",
       " 0.336813  0.151192  0.150847"
      ]
     },
     "execution_count": 11,
     "metadata": {},
     "output_type": "execute_result"
    }
   ],
   "source": [
    "u * Diagonal(s) * v'"
   ]
  },
  {
   "cell_type": "code",
   "execution_count": 25,
   "id": "31bf5d7d-3479-4f45-9ac2-756f275ceffb",
   "metadata": {},
   "outputs": [
    {
     "data": {
      "text/plain": [
       "3×3 Diagonal{Float64, Vector{Float64}}:\n",
       " 1.87086   ⋅         ⋅ \n",
       "  ⋅       0.614108   ⋅ \n",
       "  ⋅        ⋅        0.230488"
      ]
     },
     "execution_count": 25,
     "metadata": {},
     "output_type": "execute_result"
    }
   ],
   "source": [
    "Diagonal(s)"
   ]
  },
  {
   "cell_type": "code",
   "execution_count": 26,
   "id": "5f5fb383-7198-40a8-b76c-e4a0f9d86337",
   "metadata": {},
   "outputs": [
    {
     "data": {
      "text/plain": [
       "2×3 Matrix{Float64}:\n",
       " 0.0  0.0  0.0\n",
       " 0.0  0.0  0.0"
      ]
     },
     "execution_count": 26,
     "metadata": {},
     "output_type": "execute_result"
    }
   ],
   "source": [
    "zeros(2,3)"
   ]
  },
  {
   "cell_type": "code",
   "execution_count": 23,
   "id": "d3d487b0-0c85-48b6-b6ed-4396e99c4d68",
   "metadata": {},
   "outputs": [
    {
     "data": {
      "text/plain": [
       "5×3 Matrix{Float64}:\n",
       " 1.87086  0.0       0.0\n",
       " 0.0      0.614108  0.0\n",
       " 0.0      0.0       0.230488\n",
       " 0.0      0.0       0.0\n",
       " 0.0      0.0       0.0"
      ]
     },
     "execution_count": 23,
     "metadata": {},
     "output_type": "execute_result"
    }
   ],
   "source": [
    "vcat(Diagonal(s),zeros(2,3))"
   ]
  },
  {
   "cell_type": "code",
   "execution_count": 24,
   "id": "4a27a7f0-053f-49d3-9ea1-d6aa44952599",
   "metadata": {},
   "outputs": [
    {
     "data": {
      "text/plain": [
       "true"
      ]
     },
     "execution_count": 24,
     "metadata": {},
     "output_type": "execute_result"
    }
   ],
   "source": [
    "u * vcat(Diagonal(s),zeros(2,3)) * v' ≈ x"
   ]
  },
  {
   "cell_type": "code",
   "execution_count": null,
   "id": "90fb851e-977f-4390-9671-ddbf957d7441",
   "metadata": {},
   "outputs": [],
   "source": []
  }
 ],
 "metadata": {
  "kernelspec": {
   "display_name": "Julia 1.10.4",
   "language": "julia",
   "name": "julia-1.10"
  },
  "language_info": {
   "file_extension": ".jl",
   "mimetype": "application/julia",
   "name": "julia",
   "version": "1.10.4"
  }
 },
 "nbformat": 4,
 "nbformat_minor": 5
}
