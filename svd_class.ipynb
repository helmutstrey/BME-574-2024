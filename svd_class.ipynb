{
 "cells": [
  {
   "cell_type": "code",
   "execution_count": 2,
   "id": "f49be22c-9b6e-494b-ab15-6b5eff0e7e1c",
   "metadata": {},
   "outputs": [
    {
     "name": "stderr",
     "output_type": "stream",
     "text": [
      "\u001b[32m\u001b[1m  Activating\u001b[22m\u001b[39m project at `~/Documents/programming/BME-574-2024`\n",
      "\u001b[32m\u001b[1m    Updating\u001b[22m\u001b[39m registry at `~/.julia/registries/JuliaComputingRegistry.toml`\n",
      "\u001b[32m\u001b[1m    Updating\u001b[22m\u001b[39m registry at `~/.julia/registries/JuliaHubRegistry.toml`\n",
      "\u001b[32m\u001b[1m   Resolving\u001b[22m\u001b[39m package versions...\n",
      "\u001b[32m\u001b[1m  No Changes\u001b[22m\u001b[39m to `~/Documents/programming/BME-574-2024/Project.toml`\n",
      "\u001b[32m\u001b[1m  No Changes\u001b[22m\u001b[39m to `~/Documents/programming/BME-574-2024/Manifest.toml`\n"
     ]
    }
   ],
   "source": [
    "import Pkg\n",
    "Pkg.activate(\".\")\n",
    "Pkg.add([\"LinearAlgebra\",\"Random\",\"Images\"])"
   ]
  },
  {
   "cell_type": "code",
   "execution_count": 5,
   "id": "73c8f091-7c5e-4936-a9bd-ce44f66b0fe4",
   "metadata": {},
   "outputs": [],
   "source": [
    "using LinearAlgebra, Random"
   ]
  },
  {
   "cell_type": "code",
   "execution_count": 3,
   "id": "b49e8be2-5f0c-4d3f-a1f3-eea4bc520f5b",
   "metadata": {},
   "outputs": [
    {
     "data": {
      "text/plain": [
       "5×3 Matrix{Float64}:\n",
       " 0.372005  0.803027  0.88393\n",
       " 0.62212   0.790735  0.674344\n",
       " 0.670293  0.101731  0.730095\n",
       " 0.957493  0.540371  0.729111\n",
       " 0.503697  0.992495  0.385334"
      ]
     },
     "execution_count": 3,
     "metadata": {},
     "output_type": "execute_result"
    }
   ],
   "source": [
    "x = rand(5,3)"
   ]
  },
  {
   "cell_type": "code",
   "execution_count": 6,
   "id": "821045b1-d04e-41bb-b026-f92a7be53851",
   "metadata": {},
   "outputs": [
    {
     "data": {
      "text/plain": [
       "SVD{Float64, Float64, Matrix{Float64}, Vector{Float64}}\n",
       "U factor:\n",
       "5×3 Matrix{Float64}:\n",
       " -0.472832   0.220567   0.777052\n",
       " -0.474811   0.142165  -0.035107\n",
       " -0.339808  -0.673149   0.151752\n",
       " -0.502557  -0.37889   -0.453243\n",
       " -0.427729   0.578318  -0.408043\n",
       "singular values:\n",
       "3-element Vector{Float64}:\n",
       " 2.541314367680723\n",
       " 0.7328193983608833\n",
       " 0.3957553906295878\n",
       "Vt factor:\n",
       "3×3 Matrix{Float64}:\n",
       " -0.549203  -0.584659   -0.597119\n",
       " -0.48061    0.805508   -0.346657\n",
       " -0.68366   -0.0965961   0.72338"
      ]
     },
     "execution_count": 6,
     "metadata": {},
     "output_type": "execute_result"
    }
   ],
   "source": [
    "u, s, v = svd(x)"
   ]
  },
  {
   "cell_type": "code",
   "execution_count": 7,
   "id": "10545488-8696-42f2-93ba-d624c78e46fa",
   "metadata": {},
   "outputs": [
    {
     "data": {
      "text/plain": [
       "3×3 Diagonal{Float64, Vector{Float64}}:\n",
       " 2.54131   ⋅         ⋅ \n",
       "  ⋅       0.732819   ⋅ \n",
       "  ⋅        ⋅        0.395755"
      ]
     },
     "execution_count": 7,
     "metadata": {},
     "output_type": "execute_result"
    }
   ],
   "source": [
    "Diagonal(s)"
   ]
  },
  {
   "cell_type": "code",
   "execution_count": 8,
   "id": "cfd2b1d6-cb6d-41ac-8d00-72c26e1e81ef",
   "metadata": {},
   "outputs": [
    {
     "data": {
      "text/plain": [
       "5×3 Matrix{Float64}:\n",
       " 0.372005  0.803027  0.88393\n",
       " 0.62212   0.790735  0.674344\n",
       " 0.670293  0.101731  0.730095\n",
       " 0.957493  0.540371  0.729111\n",
       " 0.503697  0.992495  0.385334"
      ]
     },
     "execution_count": 8,
     "metadata": {},
     "output_type": "execute_result"
    }
   ],
   "source": [
    "u * Diagonal(s) * v'"
   ]
  },
  {
   "cell_type": "code",
   "execution_count": 9,
   "id": "73ef95e3-45cb-4dba-ab2f-f4827914567d",
   "metadata": {},
   "outputs": [
    {
     "data": {
      "text/plain": [
       "5×3 Matrix{Float64}:\n",
       " 0.372005  0.803027  0.88393\n",
       " 0.62212   0.790735  0.674344\n",
       " 0.670293  0.101731  0.730095\n",
       " 0.957493  0.540371  0.729111\n",
       " 0.503697  0.992495  0.385334"
      ]
     },
     "execution_count": 9,
     "metadata": {},
     "output_type": "execute_result"
    }
   ],
   "source": [
    "x"
   ]
  },
  {
   "cell_type": "code",
   "execution_count": 15,
   "id": "604f4bd4-ddaf-4614-a7cb-9ceeb99b4148",
   "metadata": {},
   "outputs": [
    {
     "data": {
      "text/plain": [
       "SVD{Float64, Float64, Matrix{Float64}, Vector{Float64}}\n",
       "U factor:\n",
       "5×5 Matrix{Float64}:\n",
       " -0.472832   0.220567   0.777052   0.249761    0.248173\n",
       " -0.474811   0.142165  -0.035107  -0.0546135  -0.8661\n",
       " -0.339808  -0.673149   0.151752  -0.629615    0.109346\n",
       " -0.502557  -0.37889   -0.453243   0.600739    0.19381\n",
       " -0.427729   0.578318  -0.408043  -0.421111    0.372509\n",
       "singular values:\n",
       "3-element Vector{Float64}:\n",
       " 2.541314367680723\n",
       " 0.7328193983608833\n",
       " 0.3957553906295878\n",
       "Vt factor:\n",
       "3×3 Matrix{Float64}:\n",
       " -0.549203  -0.584659   -0.597119\n",
       " -0.48061    0.805508   -0.346657\n",
       " -0.68366   -0.0965961   0.72338"
      ]
     },
     "execution_count": 15,
     "metadata": {},
     "output_type": "execute_result"
    }
   ],
   "source": [
    "result = svd(x, full=true)"
   ]
  },
  {
   "cell_type": "code",
   "execution_count": 14,
   "id": "6772fbac-870b-48fa-a9be-4fa969c05a80",
   "metadata": {},
   "outputs": [
    {
     "data": {
      "text/plain": [
       "5×3 Matrix{Float64}:\n",
       " -0.472832   0.220567   0.777052\n",
       " -0.474811   0.142165  -0.035107\n",
       " -0.339808  -0.673149   0.151752\n",
       " -0.502557  -0.37889   -0.453243\n",
       " -0.427729   0.578318  -0.408043"
      ]
     },
     "execution_count": 14,
     "metadata": {},
     "output_type": "execute_result"
    }
   ],
   "source": [
    "result.U"
   ]
  },
  {
   "cell_type": "code",
   "execution_count": null,
   "id": "d34c0473-4fb8-4f3c-9e0b-927320624788",
   "metadata": {},
   "outputs": [],
   "source": []
  }
 ],
 "metadata": {
  "kernelspec": {
   "display_name": "Julia 1.10.4",
   "language": "julia",
   "name": "julia-1.10"
  },
  "language_info": {
   "file_extension": ".jl",
   "mimetype": "application/julia",
   "name": "julia",
   "version": "1.10.4"
  }
 },
 "nbformat": 4,
 "nbformat_minor": 5
}
